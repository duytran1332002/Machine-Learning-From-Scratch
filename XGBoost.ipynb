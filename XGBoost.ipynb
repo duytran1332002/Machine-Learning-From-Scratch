{
 "cells": [
  {
   "cell_type": "code",
   "execution_count": 1,
   "metadata": {},
   "outputs": [],
   "source": [
    "import torch\n",
    "import pandas as pd\n",
    "from sklearn import datasets\n",
    "from model import XGBoost"
   ]
  },
  {
   "cell_type": "markdown",
   "metadata": {},
   "source": [
    "# Titanic Dataset"
   ]
  },
  {
   "cell_type": "code",
   "execution_count": 2,
   "metadata": {},
   "outputs": [
    {
     "data": {
      "text/html": [
       "<div>\n",
       "<style scoped>\n",
       "    .dataframe tbody tr th:only-of-type {\n",
       "        vertical-align: middle;\n",
       "    }\n",
       "\n",
       "    .dataframe tbody tr th {\n",
       "        vertical-align: top;\n",
       "    }\n",
       "\n",
       "    .dataframe thead th {\n",
       "        text-align: right;\n",
       "    }\n",
       "</style>\n",
       "<table border=\"1\" class=\"dataframe\">\n",
       "  <thead>\n",
       "    <tr style=\"text-align: right;\">\n",
       "      <th></th>\n",
       "      <th>Pclass</th>\n",
       "      <th>Sex</th>\n",
       "      <th>Age</th>\n",
       "      <th>SibSp</th>\n",
       "      <th>Parch</th>\n",
       "      <th>Fare</th>\n",
       "      <th>Embarked</th>\n",
       "      <th>Title</th>\n",
       "      <th>Survived</th>\n",
       "    </tr>\n",
       "    <tr>\n",
       "      <th>PassengerId</th>\n",
       "      <th></th>\n",
       "      <th></th>\n",
       "      <th></th>\n",
       "      <th></th>\n",
       "      <th></th>\n",
       "      <th></th>\n",
       "      <th></th>\n",
       "      <th></th>\n",
       "      <th></th>\n",
       "    </tr>\n",
       "  </thead>\n",
       "  <tbody>\n",
       "    <tr>\n",
       "      <th>1</th>\n",
       "      <td>3</td>\n",
       "      <td>0</td>\n",
       "      <td>22.0</td>\n",
       "      <td>1</td>\n",
       "      <td>0</td>\n",
       "      <td>7.2500</td>\n",
       "      <td>0</td>\n",
       "      <td>0</td>\n",
       "      <td>0</td>\n",
       "    </tr>\n",
       "    <tr>\n",
       "      <th>2</th>\n",
       "      <td>1</td>\n",
       "      <td>1</td>\n",
       "      <td>38.0</td>\n",
       "      <td>1</td>\n",
       "      <td>0</td>\n",
       "      <td>71.2833</td>\n",
       "      <td>1</td>\n",
       "      <td>1</td>\n",
       "      <td>1</td>\n",
       "    </tr>\n",
       "    <tr>\n",
       "      <th>3</th>\n",
       "      <td>3</td>\n",
       "      <td>1</td>\n",
       "      <td>26.0</td>\n",
       "      <td>0</td>\n",
       "      <td>0</td>\n",
       "      <td>7.9250</td>\n",
       "      <td>0</td>\n",
       "      <td>2</td>\n",
       "      <td>1</td>\n",
       "    </tr>\n",
       "    <tr>\n",
       "      <th>4</th>\n",
       "      <td>1</td>\n",
       "      <td>1</td>\n",
       "      <td>35.0</td>\n",
       "      <td>1</td>\n",
       "      <td>0</td>\n",
       "      <td>53.1000</td>\n",
       "      <td>0</td>\n",
       "      <td>1</td>\n",
       "      <td>1</td>\n",
       "    </tr>\n",
       "    <tr>\n",
       "      <th>5</th>\n",
       "      <td>3</td>\n",
       "      <td>0</td>\n",
       "      <td>35.0</td>\n",
       "      <td>0</td>\n",
       "      <td>0</td>\n",
       "      <td>8.0500</td>\n",
       "      <td>0</td>\n",
       "      <td>0</td>\n",
       "      <td>0</td>\n",
       "    </tr>\n",
       "    <tr>\n",
       "      <th>...</th>\n",
       "      <td>...</td>\n",
       "      <td>...</td>\n",
       "      <td>...</td>\n",
       "      <td>...</td>\n",
       "      <td>...</td>\n",
       "      <td>...</td>\n",
       "      <td>...</td>\n",
       "      <td>...</td>\n",
       "      <td>...</td>\n",
       "    </tr>\n",
       "    <tr>\n",
       "      <th>887</th>\n",
       "      <td>2</td>\n",
       "      <td>0</td>\n",
       "      <td>27.0</td>\n",
       "      <td>0</td>\n",
       "      <td>0</td>\n",
       "      <td>13.0000</td>\n",
       "      <td>0</td>\n",
       "      <td>5</td>\n",
       "      <td>0</td>\n",
       "    </tr>\n",
       "    <tr>\n",
       "      <th>888</th>\n",
       "      <td>1</td>\n",
       "      <td>1</td>\n",
       "      <td>19.0</td>\n",
       "      <td>0</td>\n",
       "      <td>0</td>\n",
       "      <td>30.0000</td>\n",
       "      <td>0</td>\n",
       "      <td>2</td>\n",
       "      <td>1</td>\n",
       "    </tr>\n",
       "    <tr>\n",
       "      <th>889</th>\n",
       "      <td>3</td>\n",
       "      <td>1</td>\n",
       "      <td>28.0</td>\n",
       "      <td>1</td>\n",
       "      <td>2</td>\n",
       "      <td>23.4500</td>\n",
       "      <td>0</td>\n",
       "      <td>2</td>\n",
       "      <td>0</td>\n",
       "    </tr>\n",
       "    <tr>\n",
       "      <th>890</th>\n",
       "      <td>1</td>\n",
       "      <td>0</td>\n",
       "      <td>26.0</td>\n",
       "      <td>0</td>\n",
       "      <td>0</td>\n",
       "      <td>30.0000</td>\n",
       "      <td>1</td>\n",
       "      <td>0</td>\n",
       "      <td>1</td>\n",
       "    </tr>\n",
       "    <tr>\n",
       "      <th>891</th>\n",
       "      <td>3</td>\n",
       "      <td>0</td>\n",
       "      <td>32.0</td>\n",
       "      <td>0</td>\n",
       "      <td>0</td>\n",
       "      <td>7.7500</td>\n",
       "      <td>2</td>\n",
       "      <td>0</td>\n",
       "      <td>0</td>\n",
       "    </tr>\n",
       "  </tbody>\n",
       "</table>\n",
       "<p>891 rows × 9 columns</p>\n",
       "</div>"
      ],
      "text/plain": [
       "             Pclass  Sex   Age  SibSp  Parch     Fare  Embarked  Title  \\\n",
       "PassengerId                                                              \n",
       "1                 3    0  22.0      1      0   7.2500         0      0   \n",
       "2                 1    1  38.0      1      0  71.2833         1      1   \n",
       "3                 3    1  26.0      0      0   7.9250         0      2   \n",
       "4                 1    1  35.0      1      0  53.1000         0      1   \n",
       "5                 3    0  35.0      0      0   8.0500         0      0   \n",
       "...             ...  ...   ...    ...    ...      ...       ...    ...   \n",
       "887               2    0  27.0      0      0  13.0000         0      5   \n",
       "888               1    1  19.0      0      0  30.0000         0      2   \n",
       "889               3    1  28.0      1      2  23.4500         0      2   \n",
       "890               1    0  26.0      0      0  30.0000         1      0   \n",
       "891               3    0  32.0      0      0   7.7500         2      0   \n",
       "\n",
       "             Survived  \n",
       "PassengerId            \n",
       "1                   0  \n",
       "2                   1  \n",
       "3                   1  \n",
       "4                   1  \n",
       "5                   0  \n",
       "...               ...  \n",
       "887                 0  \n",
       "888                 1  \n",
       "889                 0  \n",
       "890                 1  \n",
       "891                 0  \n",
       "\n",
       "[891 rows x 9 columns]"
      ]
     },
     "execution_count": 2,
     "metadata": {},
     "output_type": "execute_result"
    }
   ],
   "source": [
    "path_csv = \"data/titanic_modified_dataset.csv\"\n",
    "titanic_data_df = pd.read_csv(path_csv, index_col=\"PassengerId\")\n",
    "titanic_data_df"
   ]
  },
  {
   "cell_type": "code",
   "execution_count": 3,
   "metadata": {},
   "outputs": [
    {
     "name": "stdout",
     "output_type": "stream",
     "text": [
      "torch.Size([891, 8])\n",
      "torch.Size([891])\n"
     ]
    }
   ],
   "source": [
    "# convert to tensor array\n",
    "titanic_data_arr = torch.tensor(titanic_data_df.values, dtype=torch.float32)\n",
    "\n",
    "# devide features to X, label to y \n",
    "X, y = titanic_data_arr[:, :-1], titanic_data_arr[:, -1]\n",
    "print(X.shape)\n",
    "print(y.shape)"
   ]
  },
  {
   "cell_type": "code",
   "execution_count": 4,
   "metadata": {},
   "outputs": [
    {
     "name": "stdout",
     "output_type": "stream",
     "text": [
      "torch.Size([623, 8]) torch.Size([178, 8]) torch.Size([90, 8])\n",
      "torch.Size([623]) torch.Size([178]) torch.Size([90])\n"
     ]
    }
   ],
   "source": [
    "#shuffle data\n",
    "idx = torch.randperm(X.shape[0])\n",
    "X, y = X[idx], y[idx]\n",
    "\n",
    "# split data to train and test\n",
    "TRAIN_SIZE = 0.7\n",
    "VAL_SIZE = 0.2\n",
    "#TEST_SIZE = 0.1\n",
    "TRAIN_SAMPLES = int(TRAIN_SIZE * titanic_data_arr.shape[0])\n",
    "VAL_SAMPLES = TRAIN_SAMPLES + int(VAL_SIZE * titanic_data_arr.shape[0])\n",
    "\n",
    "X_train, y_train = X[:TRAIN_SAMPLES], y[:TRAIN_SAMPLES]\n",
    "X_val, y_val = X[TRAIN_SAMPLES:VAL_SAMPLES], y[TRAIN_SAMPLES:VAL_SAMPLES]\n",
    "X_test, y_test = X[VAL_SAMPLES:], y[VAL_SAMPLES:]\n",
    "\n",
    "print(X_train.shape, X_val.shape, X_test.shape)\n",
    "print(y_train.shape, y_val.shape, y_test.shape)"
   ]
  },
  {
   "cell_type": "code",
   "execution_count": 5,
   "metadata": {},
   "outputs": [
    {
     "name": "stderr",
     "output_type": "stream",
     "text": [
      "c:\\Users\\Tran Nguyen Nhut Duy\\Desktop\\Machine-Learning-From-Scratch\\model.py:637: UserWarning: To copy construct from a tensor, it is recommended to use sourceTensor.clone().detach() or sourceTensor.clone().detach().requires_grad_(True), rather than torch.tensor(sourceTensor).\n",
      "  X = torch.tensor(X)\n",
      "c:\\Users\\Tran Nguyen Nhut Duy\\Desktop\\Machine-Learning-From-Scratch\\model.py:638: UserWarning: To copy construct from a tensor, it is recommended to use sourceTensor.clone().detach() or sourceTensor.clone().detach().requires_grad_(True), rather than torch.tensor(sourceTensor).\n",
      "  y = torch.tensor(y)\n"
     ]
    },
    {
     "name": "stdout",
     "output_type": "stream",
     "text": [
      "tensor(0.6330)\n"
     ]
    }
   ],
   "source": [
    "tree = XGBoost()\n",
    "tree.fit(X_train, y_train, learning_rate=0.001, max_depth=5, n_estimators=50, min_sample=2, gamma=0, lambda_=1)\n",
    "y_pred = tree.predict(X)\n",
    "print(sum(y_pred == y) / len(y))\n"
   ]
  },
  {
   "cell_type": "code",
   "execution_count": 6,
   "metadata": {},
   "outputs": [
    {
     "name": "stdout",
     "output_type": "stream",
     "text": [
      "                                            ┌0.22475241124629974\n",
      "                                  ┌Age, 26.0┤\n",
      "                                  |         |                    ┌-0.5955445170402527\n",
      "                                  |         |          ┌Age, 45.0┤\n",
      "                                  |         |          |         └-1.8844407796859741\n",
      "                                  |         └Fare, 30.0┤\n",
      "                                  |                    └-2.6033575534820557\n",
      "                      ┌Pclass, 1.0┤\n",
      "                      |           └-3.1504104137420654\n",
      "           ┌Fare, 52.0┤\n",
      "           |          |                      ┌0.22475241124629974\n",
      "           |          |          ┌Fare, 52.55┤\n",
      "           |          |          |           |                   ┌-0.6109404563903809\n",
      "           |          |          |           |         ┌Age, 19.0┤\n",
      "           |          |          |           |         |         └0.15182217955589294\n",
      "           |          |          |           └Age, 32.0┤\n",
      "           |          |          |                     └-1.049448847770691\n",
      "           |          └Fare, 56.5┤\n",
      "           |                     |         ┌0.22475241124629974\n",
      "           |                     └Age, 17.0┤\n",
      "           |                               |           ┌-2.2681705951690674\n",
      "           |                               └Fare, 263.0┤\n",
      "           |                                           └0.22475241124629974\n",
      " Title, 0.0┤\n",
      "           |                                        ┌0.7403172254562378\n",
      "           |                               ┌Sex, 0.0┤\n",
      "           |                               |        └-0.6109404563903809\n",
      "           |                      ┌Age, 2.0┤\n",
      "           |                      |        |                     ┌0.7789540886878967\n",
      "           |                      |        |          ┌Fare, 19.5┤\n",
      "           |                      |        |          |          └-0.33168911933898926\n",
      "           |                      |        └Fare, 21.0┤\n",
      "           |                      |                   └1.2475488185882568\n",
      "           |           ┌Title, 3.0┤\n",
      "           |           |          |                    ┌-2.1535353660583496\n",
      "           |           |          |           ┌Sex, 0.0┤\n",
      "           |           |          |           |        └0.22475241124629974\n",
      "           |           |          └Fare, 27.72┤\n",
      "           |           |                      |                    ┌-0.33168911933898926\n",
      "           |           |                      |          ┌Age, 28.0┤\n",
      "           |           |                      |          |         └0.678097128868103\n",
      "           |           |                      └Parch, 0.0┤\n",
      "           |           |                                 └-1.049448847770691\n",
      "           └Pclass, 2.0┤\n",
      "                       |                                            ┌-0.17725220322608948\n",
      "                       |                                ┌Fare, 15.25┤\n",
      "                       |                                |           └0.7403172254562378\n",
      "                       |                     ┌Title, 1.0┤\n",
      "                       |                     |          |             ┌-0.7981453537940979\n",
      "                       |                     |          └Embarked, 0.0┤\n",
      "                       |                     |                        └-0.029947323724627495\n",
      "                       |           ┌Age, 28.0┤\n",
      "                       |           |         |                    ┌-1.5477592945098877\n",
      "                       |           |         |         ┌SibSp, 1.0┤\n",
      "                       |           |         |         |          └0.22475241124629974\n",
      "                       |           |         └Age, 45.0┤\n",
      "                       |           |                   └0.22475241124629974\n",
      "                       └Fare, 24.15┤\n",
      "                                   └-2.718353271484375\n",
      "                                            ┌0.22456875443458557\n",
      "                                  ┌Age, 26.0┤\n",
      "                                  |         |                    ┌-0.596617579460144\n",
      "                                  |         |          ┌Age, 45.0┤\n",
      "                                  |         |          |         └-1.885867953300476\n",
      "                                  |         └Fare, 30.0┤\n",
      "                                  |                    └-2.6055707931518555\n",
      "                      ┌Pclass, 1.0┤\n",
      "                      |           └-3.1483185291290283\n",
      "           ┌Fare, 52.0┤\n",
      "           |          |                                                ┌0.22456875443458557\n",
      "           |          |                                    ┌Fare, 52.55┤\n",
      "           |          |                                    |           └-1.0779516696929932\n",
      "           |          |                        ┌Pclass, 1.0┤\n",
      "           |          |                        |           |         ┌-0.32889237999916077\n",
      "           |          |                        |           └Age, 28.0┤\n",
      "           |          |                        |                     └0.3867012858390808\n",
      "           |          |          ┌Embarked, 0.0┤\n",
      "           |          |          |             └0.22456875443458557\n",
      "           |          └Fare, 56.5┤\n",
      "           |                     |         ┌0.22456875443458557\n",
      "           |                     └Age, 17.0┤\n",
      "           |                               |           ┌-2.268914222717285\n",
      "           |                               └Fare, 263.0┤\n",
      "           |                                           └0.22456875443458557\n",
      " Title, 0.0┤\n",
      "           |                                        ┌0.7408673763275146\n",
      "           |                               ┌Sex, 0.0┤\n",
      "           |                               |        └-0.6112032532691956\n",
      "           |                      ┌Age, 2.0┤\n",
      "           |                      |        |                     ┌0.7793149352073669\n",
      "           |                      |        |          ┌Fare, 19.5┤\n",
      "           |                      |        |          |          └-0.3317207992076874\n",
      "           |                      |        └Fare, 21.0┤\n",
      "           |                      |                   └1.24751877784729\n",
      "           |           ┌Title, 3.0┤\n",
      "           |           |          |                    ┌-2.1535425186157227\n",
      "           |           |          |           ┌Sex, 0.0┤\n",
      "           |           |          |           |        └0.2247193306684494\n",
      "           |           |          └Fare, 27.72┤\n",
      "           |           |                      |                    ┌-0.3313474655151367\n",
      "           |           |                      |          ┌Age, 28.0┤\n",
      "           |           |                      |          |         └0.6784545183181763\n",
      "           |           |                      └Parch, 0.0┤\n",
      "           |           |                                 └-1.048659324645996\n",
      "           └Pclass, 2.0┤\n",
      "                       |                                            ┌-0.17664216458797455\n",
      "                       |                                ┌Fare, 15.25┤\n",
      "                       |                                |           └0.7403878569602966\n",
      "                       |                     ┌Title, 1.0┤\n",
      "                       |                     |          |             ┌-0.7980620861053467\n",
      "                       |                     |          └Embarked, 0.0┤\n",
      "                       |                     |                        └-0.029465429484844208\n",
      "                       |           ┌Age, 28.0┤\n",
      "                       |           |         |                    ┌-1.5471956729888916\n",
      "                       |           |         |         ┌SibSp, 1.0┤\n",
      "                       |           |         |         |          └0.2247193306684494\n",
      "                       |           |         └Age, 45.0┤\n",
      "                       |           |                   └0.2247193306684494\n",
      "                       └Fare, 24.15┤\n",
      "                                   └-2.7132976055145264\n"
     ]
    }
   ],
   "source": [
    "for i in range(2):\n",
    "    tree.trees[i].print_tree(tree.trees[i].root, list_feature=titanic_data_df.columns[:-1])"
   ]
  },
  {
   "cell_type": "code",
   "execution_count": 7,
   "metadata": {},
   "outputs": [
    {
     "name": "stdout",
     "output_type": "stream",
     "text": [
      "tensor(0.6573)\n"
     ]
    }
   ],
   "source": [
    "y_test = tree.predict(X_val)\n",
    "print(sum(y_test == y_val) / len(y_val))"
   ]
  },
  {
   "cell_type": "markdown",
   "metadata": {},
   "source": [
    "# Iris Dataset"
   ]
  },
  {
   "cell_type": "code",
   "execution_count": 8,
   "metadata": {},
   "outputs": [
    {
     "data": {
      "text/html": [
       "<div>\n",
       "<style scoped>\n",
       "    .dataframe tbody tr th:only-of-type {\n",
       "        vertical-align: middle;\n",
       "    }\n",
       "\n",
       "    .dataframe tbody tr th {\n",
       "        vertical-align: top;\n",
       "    }\n",
       "\n",
       "    .dataframe thead th {\n",
       "        text-align: right;\n",
       "    }\n",
       "</style>\n",
       "<table border=\"1\" class=\"dataframe\">\n",
       "  <thead>\n",
       "    <tr style=\"text-align: right;\">\n",
       "      <th></th>\n",
       "      <th>sepal length (cm)</th>\n",
       "      <th>sepal width (cm)</th>\n",
       "      <th>petal length (cm)</th>\n",
       "      <th>petal width (cm)</th>\n",
       "      <th>target</th>\n",
       "    </tr>\n",
       "  </thead>\n",
       "  <tbody>\n",
       "    <tr>\n",
       "      <th>0</th>\n",
       "      <td>5.1</td>\n",
       "      <td>3.5</td>\n",
       "      <td>1.4</td>\n",
       "      <td>0.2</td>\n",
       "      <td>0</td>\n",
       "    </tr>\n",
       "    <tr>\n",
       "      <th>1</th>\n",
       "      <td>4.9</td>\n",
       "      <td>3.0</td>\n",
       "      <td>1.4</td>\n",
       "      <td>0.2</td>\n",
       "      <td>0</td>\n",
       "    </tr>\n",
       "    <tr>\n",
       "      <th>2</th>\n",
       "      <td>4.7</td>\n",
       "      <td>3.2</td>\n",
       "      <td>1.3</td>\n",
       "      <td>0.2</td>\n",
       "      <td>0</td>\n",
       "    </tr>\n",
       "    <tr>\n",
       "      <th>3</th>\n",
       "      <td>4.6</td>\n",
       "      <td>3.1</td>\n",
       "      <td>1.5</td>\n",
       "      <td>0.2</td>\n",
       "      <td>0</td>\n",
       "    </tr>\n",
       "    <tr>\n",
       "      <th>4</th>\n",
       "      <td>5.0</td>\n",
       "      <td>3.6</td>\n",
       "      <td>1.4</td>\n",
       "      <td>0.2</td>\n",
       "      <td>0</td>\n",
       "    </tr>\n",
       "    <tr>\n",
       "      <th>...</th>\n",
       "      <td>...</td>\n",
       "      <td>...</td>\n",
       "      <td>...</td>\n",
       "      <td>...</td>\n",
       "      <td>...</td>\n",
       "    </tr>\n",
       "    <tr>\n",
       "      <th>145</th>\n",
       "      <td>6.7</td>\n",
       "      <td>3.0</td>\n",
       "      <td>5.2</td>\n",
       "      <td>2.3</td>\n",
       "      <td>2</td>\n",
       "    </tr>\n",
       "    <tr>\n",
       "      <th>146</th>\n",
       "      <td>6.3</td>\n",
       "      <td>2.5</td>\n",
       "      <td>5.0</td>\n",
       "      <td>1.9</td>\n",
       "      <td>2</td>\n",
       "    </tr>\n",
       "    <tr>\n",
       "      <th>147</th>\n",
       "      <td>6.5</td>\n",
       "      <td>3.0</td>\n",
       "      <td>5.2</td>\n",
       "      <td>2.0</td>\n",
       "      <td>2</td>\n",
       "    </tr>\n",
       "    <tr>\n",
       "      <th>148</th>\n",
       "      <td>6.2</td>\n",
       "      <td>3.4</td>\n",
       "      <td>5.4</td>\n",
       "      <td>2.3</td>\n",
       "      <td>2</td>\n",
       "    </tr>\n",
       "    <tr>\n",
       "      <th>149</th>\n",
       "      <td>5.9</td>\n",
       "      <td>3.0</td>\n",
       "      <td>5.1</td>\n",
       "      <td>1.8</td>\n",
       "      <td>2</td>\n",
       "    </tr>\n",
       "  </tbody>\n",
       "</table>\n",
       "<p>150 rows × 5 columns</p>\n",
       "</div>"
      ],
      "text/plain": [
       "     sepal length (cm)  sepal width (cm)  petal length (cm)  petal width (cm)  \\\n",
       "0                  5.1               3.5                1.4               0.2   \n",
       "1                  4.9               3.0                1.4               0.2   \n",
       "2                  4.7               3.2                1.3               0.2   \n",
       "3                  4.6               3.1                1.5               0.2   \n",
       "4                  5.0               3.6                1.4               0.2   \n",
       "..                 ...               ...                ...               ...   \n",
       "145                6.7               3.0                5.2               2.3   \n",
       "146                6.3               2.5                5.0               1.9   \n",
       "147                6.5               3.0                5.2               2.0   \n",
       "148                6.2               3.4                5.4               2.3   \n",
       "149                5.9               3.0                5.1               1.8   \n",
       "\n",
       "     target  \n",
       "0         0  \n",
       "1         0  \n",
       "2         0  \n",
       "3         0  \n",
       "4         0  \n",
       "..      ...  \n",
       "145       2  \n",
       "146       2  \n",
       "147       2  \n",
       "148       2  \n",
       "149       2  \n",
       "\n",
       "[150 rows x 5 columns]"
      ]
     },
     "execution_count": 8,
     "metadata": {},
     "output_type": "execute_result"
    }
   ],
   "source": [
    "\n",
    "iris = datasets.load_iris()\n",
    "iris_df = pd.DataFrame(iris.data, columns = [\"sepal length (cm)\", \"sepal width (cm)\", \"petal length (cm)\", \"petal width (cm)\"])\n",
    "iris_df['target'] = iris.target\n",
    "list_feature = [\"sepal length\", \"sepal width\", \"petal length\", \"petal width\"]\n",
    "iris_df"
   ]
  },
  {
   "cell_type": "code",
   "execution_count": 9,
   "metadata": {},
   "outputs": [
    {
     "name": "stdout",
     "output_type": "stream",
     "text": [
      "torch.Size([150, 4])\n",
      "torch.Size([150])\n"
     ]
    }
   ],
   "source": [
    "# convert to numpy array\n",
    "iris_arr = torch.tensor(iris_df.values, dtype=torch.float32)\n",
    "\n",
    "# devide features to X, label to y \n",
    "X, y = iris_arr[:, :-1], iris_arr[:, -1]\n",
    "print(X.shape)\n",
    "print(y.shape)"
   ]
  },
  {
   "cell_type": "code",
   "execution_count": 10,
   "metadata": {},
   "outputs": [
    {
     "name": "stdout",
     "output_type": "stream",
     "text": [
      "torch.Size([105, 4]) torch.Size([30, 4]) torch.Size([15, 4])\n",
      "torch.Size([105]) torch.Size([30]) torch.Size([15])\n"
     ]
    }
   ],
   "source": [
    "#shuffle data\n",
    "idx = torch.randperm(X.shape[0])\n",
    "X, y = X[idx], y[idx]\n",
    "\n",
    "# split data to train and test\n",
    "TRAIN_SIZE = 0.7\n",
    "VAL_SIZE = 0.2\n",
    "#TEST_SIZE = 0.1\n",
    "TRAIN_SAMPLES = int(TRAIN_SIZE * iris_arr.shape[0])\n",
    "VAL_SAMPLES = TRAIN_SAMPLES + int(VAL_SIZE * iris_arr.shape[0])\n",
    "\n",
    "X_train, y_train = X[:TRAIN_SAMPLES], y[:TRAIN_SAMPLES]\n",
    "X_val, y_val = X[TRAIN_SAMPLES:VAL_SAMPLES], y[TRAIN_SAMPLES:VAL_SAMPLES]\n",
    "X_test, y_test = X[VAL_SAMPLES:], y[VAL_SAMPLES:]\n",
    "\n",
    "print(X_train.shape, X_val.shape, X_test.shape)\n",
    "print(y_train.shape, y_val.shape, y_test.shape)"
   ]
  },
  {
   "cell_type": "code",
   "execution_count": 11,
   "metadata": {},
   "outputs": [
    {
     "name": "stderr",
     "output_type": "stream",
     "text": [
      "c:\\Users\\Tran Nguyen Nhut Duy\\Desktop\\Machine-Learning-From-Scratch\\model.py:637: UserWarning: To copy construct from a tensor, it is recommended to use sourceTensor.clone().detach() or sourceTensor.clone().detach().requires_grad_(True), rather than torch.tensor(sourceTensor).\n",
      "  X = torch.tensor(X)\n",
      "c:\\Users\\Tran Nguyen Nhut Duy\\Desktop\\Machine-Learning-From-Scratch\\model.py:638: UserWarning: To copy construct from a tensor, it is recommended to use sourceTensor.clone().detach() or sourceTensor.clone().detach().requires_grad_(True), rather than torch.tensor(sourceTensor).\n",
      "  y = torch.tensor(y)\n"
     ]
    },
    {
     "name": "stdout",
     "output_type": "stream",
     "text": [
      "tensor(0.6533)\n"
     ]
    }
   ],
   "source": [
    "tree = XGBoost()\n",
    "tree.fit(X_train, y_train, learning_rate=0.5, max_depth=3, n_estimators=70, min_sample=2, gamma=0, lambda_=1)\n",
    "y_pred = tree.predict(X)\n",
    "print(sum(y_pred == y) / len(y))\n"
   ]
  },
  {
   "cell_type": "code",
   "execution_count": 12,
   "metadata": {},
   "outputs": [
    {
     "name": "stdout",
     "output_type": "stream",
     "text": [
      "tensor(0.7000)\n"
     ]
    }
   ],
   "source": [
    "y_val_pred = tree.predict(X_val)\n",
    "print(sum(y_val_pred == y_val) / len(y_val))"
   ]
  },
  {
   "cell_type": "code",
   "execution_count": 13,
   "metadata": {},
   "outputs": [
    {
     "name": "stdout",
     "output_type": "stream",
     "text": [
      "tensor(0.7333)\n"
     ]
    }
   ],
   "source": [
    "y_test_pred = tree.predict(X_test)\n",
    "print(sum(y_test_pred == y_test) / len(y_test))"
   ]
  },
  {
   "cell_type": "code",
   "execution_count": 14,
   "metadata": {},
   "outputs": [
    {
     "name": "stdout",
     "output_type": "stream",
     "text": [
      "tensor([2., 2., 1., 1., 1., 2., 0., 1., 1., 2., 0., 2., 2., 2., 0., 1., 0., 2.,\n",
      "        2., 0., 0., 0., 1., 0., 0., 1., 1., 1., 1., 0., 2., 0., 1., 0., 2., 2.,\n",
      "        2., 2., 1., 0., 0., 2., 2., 0., 2., 1., 1., 2., 0., 1., 2., 1., 0., 0.,\n",
      "        2., 0., 0., 1., 2., 0., 0., 1., 1., 2., 2., 0., 2., 0., 2., 0., 1., 1.,\n",
      "        0., 2., 2., 2., 0., 0., 1., 2., 2., 2., 1., 1., 2., 0., 1., 2., 0., 1.,\n",
      "        1., 2., 0., 0., 0., 2., 0., 2., 1., 0., 0., 0., 2., 1., 2., 1., 0., 2.,\n",
      "        1., 0., 1., 1., 2., 1., 1., 2., 1., 0., 1., 0., 0., 2., 2., 2., 0., 1.,\n",
      "        2., 0., 0., 1., 1., 2., 0., 0., 1., 1., 2., 1., 0., 1., 2., 1., 0., 1.,\n",
      "        1., 2., 1., 2., 1., 0.])\n"
     ]
    }
   ],
   "source": [
    "print(y)"
   ]
  },
  {
   "cell_type": "code",
   "execution_count": 15,
   "metadata": {},
   "outputs": [
    {
     "name": "stdout",
     "output_type": "stream",
     "text": [
      "                  ┌-3.268923282623291\n",
      " petal length, 1.9┤\n",
      "                  |                 ┌1.3145508766174316\n",
      "                  └petal length, 4.7┤\n",
      "                                    └5.574119567871094\n",
      "                                    ┌-1.4337188005447388\n",
      "                  ┌petal length, 1.9┤\n",
      "                  |                 └1.1477336883544922\n",
      " petal length, 4.7┤\n",
      "                  └20.75336265563965\n"
     ]
    }
   ],
   "source": [
    "for i in range(2):\n",
    "    tree.trees[i].print_tree(tree.trees[i].root, list_feature=list_feature)"
   ]
  },
  {
   "cell_type": "code",
   "execution_count": null,
   "metadata": {},
   "outputs": [],
   "source": []
  }
 ],
 "metadata": {
  "kernelspec": {
   "display_name": "Python 3.7.9 64-bit",
   "language": "python",
   "name": "python3"
  },
  "language_info": {
   "codemirror_mode": {
    "name": "ipython",
    "version": 3
   },
   "file_extension": ".py",
   "mimetype": "text/x-python",
   "name": "python",
   "nbconvert_exporter": "python",
   "pygments_lexer": "ipython3",
   "version": "3.7.9"
  },
  "orig_nbformat": 4,
  "vscode": {
   "interpreter": {
    "hash": "ac37f38742bd1f5f255e5bdaa272d24c569bfe99750f1a10ea1984cb7d1b62f8"
   }
  }
 },
 "nbformat": 4,
 "nbformat_minor": 2
}

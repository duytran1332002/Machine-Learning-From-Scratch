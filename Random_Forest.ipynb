{
 "cells": [
  {
   "cell_type": "code",
   "execution_count": 24,
   "metadata": {},
   "outputs": [],
   "source": [
    "import torch\n",
    "import pandas as pd\n",
    "import sklearn.datasets as datasets\n",
    "from sklearn.model_selection import train_test_split\n",
    "from sklearn.metrics import accuracy_score\n",
    "from collections import Counter"
   ]
  },
  {
   "cell_type": "code",
   "execution_count": 53,
   "metadata": {},
   "outputs": [],
   "source": [
    "class Node():\n",
    "    def __init__(self, feature=None, threshold=None, data_left=None, data_right=None, gain=None, value=None):\n",
    "        self.feature = feature\n",
    "        self.threshold = threshold\n",
    "        self.data_left = data_left\n",
    "        self.data_right = data_right\n",
    "        self.gain = gain\n",
    "        self.value = value\n",
    "\n",
    "class DecisionTree():\n",
    "    def __init__(self, min_sample = 2, max_depth = 5, impurity_function=None):\n",
    "        self.min_sample = min_sample\n",
    "        self.max_depth = max_depth\n",
    "        self.impurity_function = impurity_function\n",
    "        self.root = None\n",
    "    \n",
    "    def _entropy(self, y):\n",
    "        _, counts = torch.unique(y, return_counts=True)\n",
    "        probs = counts / counts.sum()\n",
    "        return -(probs * torch.log2(probs)).sum()\n",
    "    \n",
    "    def _information_gain(self, y, y_left, y_right):\n",
    "        p = y_left.shape[0] / y.shape[0]\n",
    "        return self._entropy(y) - p * self._entropy(y_left) - (1 - p) * self._entropy(y_right)\n",
    "    \n",
    "    def _gini(self, y):\n",
    "        _, counts = torch.unique(y, return_counts=True)\n",
    "        probs = counts / counts.sum()\n",
    "        return 1 - (probs ** 2).sum()\n",
    "    \n",
    "    def _gini_gain(self, y, y_left, y_right):\n",
    "        p = y_left.shape[0] / y.shape[0]\n",
    "        return self._gini(y) - p * self._gini(y_left) - (1 - p) * self._gini(y_right)\n",
    "\n",
    "    def _calc_gain(self, y, y_left, y_right):\n",
    "        if self.impurity_function == \"gini\":\n",
    "            return self._gini_gain(y, y_left, y_right)\n",
    "        elif self.impurity_function == \"entropy\":\n",
    "            return self._information_gain(y, y_left, y_right)\n",
    "    \n",
    "    def _best_split(self, X, y):\n",
    "        best_gain = -1\n",
    "        best_split = {}\n",
    "        \n",
    "        for feature in range(X.shape[1]):\n",
    "            X_crr = X[:, feature]\n",
    "\n",
    "            for threshold in torch.unique(X_crr):\n",
    "                df = torch.concat((X, y.reshape(1, -1).T), dim=1)\n",
    "                df_left = df[df[:, feature] <= threshold]\n",
    "                df_right = df[df[:, feature] > threshold]\n",
    "                if len(df_left) > 0 and len(df_right) > 0:\n",
    "                    y = df[:, -1]\n",
    "                    gain = self._calc_gain(y, df_left[:, -1], df_right[:, -1])\n",
    "                    if gain > best_gain:\n",
    "                        best_gain = gain\n",
    "                        best_split = {\"feature\": feature, \n",
    "                                    \"threshold\": threshold, \n",
    "                                    \"data_left\": df_left, \n",
    "                                    \"data_right\": df_right,\n",
    "                                    \"gain\": gain}\n",
    "        return best_split\n",
    "\n",
    "    def _build(self, X, y, depth = 0):\n",
    "        if X.shape[0] >= self.min_sample and depth <= self.max_depth:\n",
    "            best = self._best_split(X, y)\n",
    "\n",
    "            if best['gain'] > 0:\n",
    "                left = self._build(best[\"data_left\"][:, :-1], best[\"data_left\"][:, -1], depth + 1)\n",
    "                right = self._build(best[\"data_right\"][:, :-1], best[\"data_right\"][:, -1], depth + 1)\n",
    "                return Node(feature=best[\"feature\"], \n",
    "                            threshold=best[\"threshold\"], \n",
    "                            data_left=left, \n",
    "                            data_right=right, \n",
    "                            gain = best[\"gain\"])\n",
    "        return Node(\n",
    "            value=Counter(y).most_common(1)[0][0]\n",
    "        )\n",
    "    \n",
    "    def fit(self, X, y):\n",
    "        X = torch.tensor(X)\n",
    "        y = torch.tensor(y)\n",
    "        self.root = self._build(X, y)\n",
    "    \n",
    "    def _predict(self, X, tree):\n",
    "        # return leaf value if we are at a leaf node\n",
    "        if tree.value is not None:\n",
    "            return tree.value\n",
    "        # traverse the tree\n",
    "        feature = tree.feature\n",
    "        threshold = tree.threshold\n",
    "        if X[feature] < threshold:\n",
    "            # go left\n",
    "            return self._predict(X, tree.data_left)\n",
    "        # go right\n",
    "        return self._predict(X, tree.data_right)\n",
    "    \n",
    "    def predict(self, X):\n",
    "        return torch.tensor([self._predict(x, self.root) for x in X])     \n",
    "    \n",
    "    def printTree(self, tree, level=0):\n",
    "        if tree.value is not None:\n",
    "            print(\"|-\" * level + \"Predict\", tree.value.item())\n",
    "        else:\n",
    "            print(\"|-\" * level + \"X[{}] <= {}\".format(tree.feature, tree.threshold))\n",
    "            self.printTree(tree.data_left, level + 1)\n",
    "            self.printTree(tree.data_right, level + 1)"
   ]
  },
  {
   "cell_type": "markdown",
   "metadata": {},
   "source": [
    "# Iris data"
   ]
  },
  {
   "cell_type": "code",
   "execution_count": 5,
   "metadata": {},
   "outputs": [
    {
     "data": {
      "text/html": [
       "<div>\n",
       "<style scoped>\n",
       "    .dataframe tbody tr th:only-of-type {\n",
       "        vertical-align: middle;\n",
       "    }\n",
       "\n",
       "    .dataframe tbody tr th {\n",
       "        vertical-align: top;\n",
       "    }\n",
       "\n",
       "    .dataframe thead th {\n",
       "        text-align: right;\n",
       "    }\n",
       "</style>\n",
       "<table border=\"1\" class=\"dataframe\">\n",
       "  <thead>\n",
       "    <tr style=\"text-align: right;\">\n",
       "      <th></th>\n",
       "      <th>sepal length (cm)</th>\n",
       "      <th>sepal width (cm)</th>\n",
       "      <th>petal length (cm)</th>\n",
       "      <th>petal width (cm)</th>\n",
       "      <th>target</th>\n",
       "    </tr>\n",
       "  </thead>\n",
       "  <tbody>\n",
       "    <tr>\n",
       "      <th>0</th>\n",
       "      <td>5.1</td>\n",
       "      <td>3.5</td>\n",
       "      <td>1.4</td>\n",
       "      <td>0.2</td>\n",
       "      <td>0</td>\n",
       "    </tr>\n",
       "    <tr>\n",
       "      <th>1</th>\n",
       "      <td>4.9</td>\n",
       "      <td>3.0</td>\n",
       "      <td>1.4</td>\n",
       "      <td>0.2</td>\n",
       "      <td>0</td>\n",
       "    </tr>\n",
       "    <tr>\n",
       "      <th>2</th>\n",
       "      <td>4.7</td>\n",
       "      <td>3.2</td>\n",
       "      <td>1.3</td>\n",
       "      <td>0.2</td>\n",
       "      <td>0</td>\n",
       "    </tr>\n",
       "    <tr>\n",
       "      <th>3</th>\n",
       "      <td>4.6</td>\n",
       "      <td>3.1</td>\n",
       "      <td>1.5</td>\n",
       "      <td>0.2</td>\n",
       "      <td>0</td>\n",
       "    </tr>\n",
       "    <tr>\n",
       "      <th>4</th>\n",
       "      <td>5.0</td>\n",
       "      <td>3.6</td>\n",
       "      <td>1.4</td>\n",
       "      <td>0.2</td>\n",
       "      <td>0</td>\n",
       "    </tr>\n",
       "    <tr>\n",
       "      <th>...</th>\n",
       "      <td>...</td>\n",
       "      <td>...</td>\n",
       "      <td>...</td>\n",
       "      <td>...</td>\n",
       "      <td>...</td>\n",
       "    </tr>\n",
       "    <tr>\n",
       "      <th>145</th>\n",
       "      <td>6.7</td>\n",
       "      <td>3.0</td>\n",
       "      <td>5.2</td>\n",
       "      <td>2.3</td>\n",
       "      <td>2</td>\n",
       "    </tr>\n",
       "    <tr>\n",
       "      <th>146</th>\n",
       "      <td>6.3</td>\n",
       "      <td>2.5</td>\n",
       "      <td>5.0</td>\n",
       "      <td>1.9</td>\n",
       "      <td>2</td>\n",
       "    </tr>\n",
       "    <tr>\n",
       "      <th>147</th>\n",
       "      <td>6.5</td>\n",
       "      <td>3.0</td>\n",
       "      <td>5.2</td>\n",
       "      <td>2.0</td>\n",
       "      <td>2</td>\n",
       "    </tr>\n",
       "    <tr>\n",
       "      <th>148</th>\n",
       "      <td>6.2</td>\n",
       "      <td>3.4</td>\n",
       "      <td>5.4</td>\n",
       "      <td>2.3</td>\n",
       "      <td>2</td>\n",
       "    </tr>\n",
       "    <tr>\n",
       "      <th>149</th>\n",
       "      <td>5.9</td>\n",
       "      <td>3.0</td>\n",
       "      <td>5.1</td>\n",
       "      <td>1.8</td>\n",
       "      <td>2</td>\n",
       "    </tr>\n",
       "  </tbody>\n",
       "</table>\n",
       "<p>150 rows × 5 columns</p>\n",
       "</div>"
      ],
      "text/plain": [
       "     sepal length (cm)  sepal width (cm)  petal length (cm)  petal width (cm)  \\\n",
       "0                  5.1               3.5                1.4               0.2   \n",
       "1                  4.9               3.0                1.4               0.2   \n",
       "2                  4.7               3.2                1.3               0.2   \n",
       "3                  4.6               3.1                1.5               0.2   \n",
       "4                  5.0               3.6                1.4               0.2   \n",
       "..                 ...               ...                ...               ...   \n",
       "145                6.7               3.0                5.2               2.3   \n",
       "146                6.3               2.5                5.0               1.9   \n",
       "147                6.5               3.0                5.2               2.0   \n",
       "148                6.2               3.4                5.4               2.3   \n",
       "149                5.9               3.0                5.1               1.8   \n",
       "\n",
       "     target  \n",
       "0         0  \n",
       "1         0  \n",
       "2         0  \n",
       "3         0  \n",
       "4         0  \n",
       "..      ...  \n",
       "145       2  \n",
       "146       2  \n",
       "147       2  \n",
       "148       2  \n",
       "149       2  \n",
       "\n",
       "[150 rows x 5 columns]"
      ]
     },
     "execution_count": 5,
     "metadata": {},
     "output_type": "execute_result"
    }
   ],
   "source": [
    "\n",
    "iris = datasets.load_iris()\n",
    "iris_df = pd.DataFrame(iris.data, columns = [\"sepal length (cm)\", \"sepal width (cm)\", \"petal length (cm)\", \"petal width (cm)\"])\n",
    "iris_df['target'] = iris.target\n",
    "iris_df"
   ]
  },
  {
   "cell_type": "code",
   "execution_count": 6,
   "metadata": {},
   "outputs": [
    {
     "name": "stdout",
     "output_type": "stream",
     "text": [
      "(120, 4)\n",
      "(30, 4)\n"
     ]
    }
   ],
   "source": [
    "X_train, X_test, y_train, y_test = train_test_split(iris.data, iris.target, test_size=0.2, random_state=42)\n",
    "print(X_train.shape)\n",
    "print(X_test.shape)"
   ]
  },
  {
   "cell_type": "markdown",
   "metadata": {},
   "source": [
    "## Impurity function - Entropy"
   ]
  },
  {
   "cell_type": "code",
   "execution_count": 54,
   "metadata": {},
   "outputs": [
    {
     "data": {
      "text/plain": [
       "tensor([1., 0., 2., 1., 1., 0., 1., 2., 1., 1., 2., 0., 0., 0., 0., 1., 2., 1.,\n",
       "        1., 2., 0., 2., 0., 2., 2., 2., 2., 2., 0., 0.], dtype=torch.float64)"
      ]
     },
     "execution_count": 54,
     "metadata": {},
     "output_type": "execute_result"
    }
   ],
   "source": [
    "DecisionTreeModel = DecisionTree(min_sample= 2, max_depth= 5, impurity_function= \"entropy\")\n",
    "DecisionTreeModel.fit(X_train, y_train)\n",
    "y_pred = DecisionTreeModel.predict(X_test)\n",
    "y_pred"
   ]
  },
  {
   "cell_type": "code",
   "execution_count": 55,
   "metadata": {},
   "outputs": [
    {
     "name": "stdout",
     "output_type": "stream",
     "text": [
      "X[2] <= 1.9\n",
      "|-Predict 0.0\n",
      "|-X[2] <= 4.7\n",
      "|-|-X[3] <= 1.6\n",
      "|-|-|-Predict 1.0\n",
      "|-|-|-Predict 2.0\n",
      "|-|-X[3] <= 1.7\n",
      "|-|-|-X[2] <= 4.9\n",
      "|-|-|-|-Predict 1.0\n",
      "|-|-|-|-X[3] <= 1.5\n",
      "|-|-|-|-|-Predict 2.0\n",
      "|-|-|-|-|-X[0] <= 6.7\n",
      "|-|-|-|-|-|-Predict 1.0\n",
      "|-|-|-|-|-|-Predict 2.0\n",
      "|-|-|-X[2] <= 4.8\n",
      "|-|-|-|-X[0] <= 5.9\n",
      "|-|-|-|-|-Predict 1.0\n",
      "|-|-|-|-|-Predict 2.0\n",
      "|-|-|-|-Predict 2.0\n"
     ]
    }
   ],
   "source": [
    "DecisionTreeModel.printTree(DecisionTreeModel.root)"
   ]
  },
  {
   "cell_type": "code",
   "execution_count": 29,
   "metadata": {},
   "outputs": [
    {
     "data": {
      "text/plain": [
       "1.0"
      ]
     },
     "execution_count": 29,
     "metadata": {},
     "output_type": "execute_result"
    }
   ],
   "source": [
    "accuracy_score(y_test, y_pred)"
   ]
  },
  {
   "cell_type": "markdown",
   "metadata": {},
   "source": [
    "## Impurity function - Gini"
   ]
  },
  {
   "cell_type": "code",
   "execution_count": 31,
   "metadata": {},
   "outputs": [
    {
     "data": {
      "text/plain": [
       "tensor([1., 0., 2., 1., 1., 0., 1., 2., 1., 1., 2., 0., 0., 0., 0., 1., 2., 1.,\n",
       "        1., 2., 0., 2., 0., 2., 2., 2., 2., 2., 0., 0.], dtype=torch.float64)"
      ]
     },
     "execution_count": 31,
     "metadata": {},
     "output_type": "execute_result"
    }
   ],
   "source": [
    "DecisionTreeModel = DecisionTree(min_sample= 2, max_depth= 5, impurity_function= \"gini\")\n",
    "DecisionTreeModel.fit(X_train, y_train)\n",
    "y_pred = DecisionTreeModel.predict(X_test)\n",
    "y_pred"
   ]
  },
  {
   "cell_type": "code",
   "execution_count": 32,
   "metadata": {},
   "outputs": [
    {
     "data": {
      "text/plain": [
       "1.0"
      ]
     },
     "execution_count": 32,
     "metadata": {},
     "output_type": "execute_result"
    }
   ],
   "source": [
    "accuracy_score(y_test, y_pred)"
   ]
  }
 ],
 "metadata": {
  "kernelspec": {
   "display_name": "Python 3.7.9 64-bit",
   "language": "python",
   "name": "python3"
  },
  "language_info": {
   "codemirror_mode": {
    "name": "ipython",
    "version": 3
   },
   "file_extension": ".py",
   "mimetype": "text/x-python",
   "name": "python",
   "nbconvert_exporter": "python",
   "pygments_lexer": "ipython3",
   "version": "3.7.9"
  },
  "orig_nbformat": 4,
  "vscode": {
   "interpreter": {
    "hash": "ac37f38742bd1f5f255e5bdaa272d24c569bfe99750f1a10ea1984cb7d1b62f8"
   }
  }
 },
 "nbformat": 4,
 "nbformat_minor": 2
}

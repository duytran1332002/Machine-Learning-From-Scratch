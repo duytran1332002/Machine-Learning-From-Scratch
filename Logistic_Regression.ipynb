{
  "cells": [
    {
      "cell_type": "code",
      "execution_count": 115,
      "metadata": {
        "id": "PrApSzkVg8Ls"
      },
      "outputs": [],
      "source": [
        "import pandas as pd\n",
        "import numpy as np\n",
        "from tqdm.notebook import tqdm\n",
        "import matplotlib.pyplot as plt\n",
        "import sklearn.datasets as datasets\n",
        "\n",
        "np.random.seed(0)"
      ]
    },
    {
      "cell_type": "code",
      "execution_count": 135,
      "metadata": {
        "id": "tEk1YGNGg8HR"
      },
      "outputs": [],
      "source": [
        "class LogisticRegression():\n",
        "  def __init__(self, batch_size, n_feature, type, num_class = None):\n",
        "    self.batch_size = batch_size\n",
        "    np.random.seed(0)\n",
        "\n",
        "    if type == \"binary\":\n",
        "      self.theta = np.random.uniform(size=(n_feature))\n",
        "    elif type == \"multi\":\n",
        "      self.theta = np.random.uniform(size=(n_feature, num_class))\n",
        "    self.type = type\n",
        "    \n",
        "  def sigmoid(self, z):\n",
        "    return 1 / (1 + np.exp(-z))\n",
        "\n",
        "  def softmax(self, z):\n",
        "    return np.exp(z) / np.exp(z).sum(axis=1, keepdims=True)\n",
        "  \n",
        "\n",
        "  def findBinaryLossEntropy(self, y, y_hat):\n",
        "    y_hat = np.clip(y_hat, 1e-6, 1 - 1e-6)\n",
        "    return (- y * np.log(y_hat) - (1 - y) * np.log(1 - y_hat)).mean()\n",
        "  \n",
        "  def findCrossEntropyLoss(self, y, y_hat):\n",
        "    y_hat = np.clip(y_hat, 1e-6, 1 - 1e-6)\n",
        "    return (- y * np.log(y_hat)).mean()\n",
        "\n",
        "  def gradient(self, X, y, y_hat):\n",
        "    return np.dot(X.T, (y_hat - y)) / y.size\n",
        "\n",
        "  def predict(self, X):\n",
        "    z = np.dot(X, self.theta)\n",
        "    if self.type == \"binary\":\n",
        "      return self.sigmoid(z)\n",
        "    elif self.type == \"multi\":\n",
        "      return self.softmax(z)\n",
        "  \n",
        "  def loss(self, y, y_hat):\n",
        "    if self.type == \"binary\":\n",
        "      return self.findBinaryLossEntropy(y, y_hat)\n",
        "    elif self.type == \"multi\":\n",
        "      return self.findCrossEntropyLoss(y, y_hat)\n",
        "\n",
        "  def getBatchData(self, X, y, number_batch_size, last_size, ith_batch):\n",
        "    if ith_batch == number_batch_size - 1 and last_size != 0:\n",
        "      X_batch = X[ith_batch * self.batch_size : (ith_batch * self.batch_size) + last_size]\n",
        "      y_batch = y[ith_batch * self.batch_size : (ith_batch * self.batch_size) + last_size]\n",
        "    else:\n",
        "      X_batch = X[ith_batch * self.batch_size : (ith_batch + 1) * self.batch_size]\n",
        "      y_batch = y[ith_batch * self.batch_size : (ith_batch + 1) * self.batch_size]\n",
        "\n",
        "    return X_batch, y_batch\n",
        "  \n",
        "  def accuracy(self, y_train, y_hat):\n",
        "    y_hat = np.round(y_hat)\n",
        "    return (y_train == y_hat).mean()\n",
        "\n",
        "  def fit(self, X_train, y_train, X_val, y_val, n_iters, learning_rate):\n",
        "    history = {\"losses_train\": [], \"accs_train\": [], \"losses_val\": [], \"accs_val\": []}\n",
        "    last_size = 0\n",
        "\n",
        "    if len(X_train) % self.batch_size == 0:\n",
        "      number_batch_size = int(len(X_train) / self.batch_size)\n",
        "    else:\n",
        "      number_batch_size = int(len(X_train) / self.batch_size) + 1\n",
        "      last_size = len(X_train) - self.batch_size * (int(len(X_train) / self.batch_size))\n",
        "\n",
        "    for epoch in tqdm(range(n_iters)):\n",
        "      for ith_batch in range(0, number_batch_size):\n",
        "        # get X_batch, y_batch\n",
        "        X_train_batch, y_train_batch = self.getBatchData(X_train, y_train, number_batch_size, last_size, ith_batch)\n",
        "        # predict\n",
        "        y_train_batch_hat = self.predict(X_train_batch)\n",
        "\n",
        "        # compute loss\n",
        "        loss = self.loss(y_train_batch, y_train_batch_hat)\n",
        "\n",
        "        # calculate the gradient\n",
        "        gradient = self.gradient(X_train_batch, y_train_batch, y_train_batch_hat)\n",
        "        \n",
        "        # update theta\n",
        "        self.theta -= learning_rate * gradient\n",
        "        # for debug\n",
        "        # calculate loss and accuracy of train sets\n",
        "        history['losses_train'].append(loss)\n",
        "\n",
        "        y_train_hat = self.predict(X_train)\n",
        "        acc = self.accuracy(y_train, y_train_hat)\n",
        "        history['accs_train'].append(acc)\n",
        "\n",
        "        # calculate loss and accuracy of validation sets\n",
        "        y_val_hat = self.predict(X_val)\n",
        "        loss_val = self.loss(y_val, y_val_hat)\n",
        "        history['losses_val'].append(loss_val)\n",
        "        acc_val = self.accuracy(y_val, y_val_hat)\n",
        "        history['accs_val'].append(acc_val)\n",
        "\n",
        "      if (epoch + 1) % 10 == 0:\n",
        "        print(\"Epoch: {}, loss: {}, acc: {}, loss_val: {}, acc_val: {}\".format(epoch + 1, loss, acc, loss_val, acc_val))\n",
        "    return history\n"
      ]
    },
    {
      "cell_type": "markdown",
      "metadata": {
        "id": "5SfZeEh0wbWs"
      },
      "source": [
        "# Titanic data"
      ]
    },
    {
      "cell_type": "code",
      "execution_count": 150,
      "metadata": {
        "colab": {
          "base_uri": "https://localhost:8080/",
          "height": 424
        },
        "id": "YdBd26yXg8JT",
        "outputId": "e2c34231-be07-4a92-a254-ffb145ed09a7"
      },
      "outputs": [
        {
          "data": {
            "text/html": [
              "<div>\n",
              "<style scoped>\n",
              "    .dataframe tbody tr th:only-of-type {\n",
              "        vertical-align: middle;\n",
              "    }\n",
              "\n",
              "    .dataframe tbody tr th {\n",
              "        vertical-align: top;\n",
              "    }\n",
              "\n",
              "    .dataframe thead th {\n",
              "        text-align: right;\n",
              "    }\n",
              "</style>\n",
              "<table border=\"1\" class=\"dataframe\">\n",
              "  <thead>\n",
              "    <tr style=\"text-align: right;\">\n",
              "      <th></th>\n",
              "      <th>Pclass</th>\n",
              "      <th>Sex</th>\n",
              "      <th>Age</th>\n",
              "      <th>SibSp</th>\n",
              "      <th>Parch</th>\n",
              "      <th>Fare</th>\n",
              "      <th>Embarked</th>\n",
              "      <th>Title</th>\n",
              "      <th>Survived</th>\n",
              "    </tr>\n",
              "    <tr>\n",
              "      <th>PassengerId</th>\n",
              "      <th></th>\n",
              "      <th></th>\n",
              "      <th></th>\n",
              "      <th></th>\n",
              "      <th></th>\n",
              "      <th></th>\n",
              "      <th></th>\n",
              "      <th></th>\n",
              "      <th></th>\n",
              "    </tr>\n",
              "  </thead>\n",
              "  <tbody>\n",
              "    <tr>\n",
              "      <th>1</th>\n",
              "      <td>3</td>\n",
              "      <td>0</td>\n",
              "      <td>22.0</td>\n",
              "      <td>1</td>\n",
              "      <td>0</td>\n",
              "      <td>7.2500</td>\n",
              "      <td>0</td>\n",
              "      <td>0</td>\n",
              "      <td>0</td>\n",
              "    </tr>\n",
              "    <tr>\n",
              "      <th>2</th>\n",
              "      <td>1</td>\n",
              "      <td>1</td>\n",
              "      <td>38.0</td>\n",
              "      <td>1</td>\n",
              "      <td>0</td>\n",
              "      <td>71.2833</td>\n",
              "      <td>1</td>\n",
              "      <td>1</td>\n",
              "      <td>1</td>\n",
              "    </tr>\n",
              "    <tr>\n",
              "      <th>3</th>\n",
              "      <td>3</td>\n",
              "      <td>1</td>\n",
              "      <td>26.0</td>\n",
              "      <td>0</td>\n",
              "      <td>0</td>\n",
              "      <td>7.9250</td>\n",
              "      <td>0</td>\n",
              "      <td>2</td>\n",
              "      <td>1</td>\n",
              "    </tr>\n",
              "    <tr>\n",
              "      <th>4</th>\n",
              "      <td>1</td>\n",
              "      <td>1</td>\n",
              "      <td>35.0</td>\n",
              "      <td>1</td>\n",
              "      <td>0</td>\n",
              "      <td>53.1000</td>\n",
              "      <td>0</td>\n",
              "      <td>1</td>\n",
              "      <td>1</td>\n",
              "    </tr>\n",
              "    <tr>\n",
              "      <th>5</th>\n",
              "      <td>3</td>\n",
              "      <td>0</td>\n",
              "      <td>35.0</td>\n",
              "      <td>0</td>\n",
              "      <td>0</td>\n",
              "      <td>8.0500</td>\n",
              "      <td>0</td>\n",
              "      <td>0</td>\n",
              "      <td>0</td>\n",
              "    </tr>\n",
              "    <tr>\n",
              "      <th>...</th>\n",
              "      <td>...</td>\n",
              "      <td>...</td>\n",
              "      <td>...</td>\n",
              "      <td>...</td>\n",
              "      <td>...</td>\n",
              "      <td>...</td>\n",
              "      <td>...</td>\n",
              "      <td>...</td>\n",
              "      <td>...</td>\n",
              "    </tr>\n",
              "    <tr>\n",
              "      <th>887</th>\n",
              "      <td>2</td>\n",
              "      <td>0</td>\n",
              "      <td>27.0</td>\n",
              "      <td>0</td>\n",
              "      <td>0</td>\n",
              "      <td>13.0000</td>\n",
              "      <td>0</td>\n",
              "      <td>5</td>\n",
              "      <td>0</td>\n",
              "    </tr>\n",
              "    <tr>\n",
              "      <th>888</th>\n",
              "      <td>1</td>\n",
              "      <td>1</td>\n",
              "      <td>19.0</td>\n",
              "      <td>0</td>\n",
              "      <td>0</td>\n",
              "      <td>30.0000</td>\n",
              "      <td>0</td>\n",
              "      <td>2</td>\n",
              "      <td>1</td>\n",
              "    </tr>\n",
              "    <tr>\n",
              "      <th>889</th>\n",
              "      <td>3</td>\n",
              "      <td>1</td>\n",
              "      <td>28.0</td>\n",
              "      <td>1</td>\n",
              "      <td>2</td>\n",
              "      <td>23.4500</td>\n",
              "      <td>0</td>\n",
              "      <td>2</td>\n",
              "      <td>0</td>\n",
              "    </tr>\n",
              "    <tr>\n",
              "      <th>890</th>\n",
              "      <td>1</td>\n",
              "      <td>0</td>\n",
              "      <td>26.0</td>\n",
              "      <td>0</td>\n",
              "      <td>0</td>\n",
              "      <td>30.0000</td>\n",
              "      <td>1</td>\n",
              "      <td>0</td>\n",
              "      <td>1</td>\n",
              "    </tr>\n",
              "    <tr>\n",
              "      <th>891</th>\n",
              "      <td>3</td>\n",
              "      <td>0</td>\n",
              "      <td>32.0</td>\n",
              "      <td>0</td>\n",
              "      <td>0</td>\n",
              "      <td>7.7500</td>\n",
              "      <td>2</td>\n",
              "      <td>0</td>\n",
              "      <td>0</td>\n",
              "    </tr>\n",
              "  </tbody>\n",
              "</table>\n",
              "<p>891 rows × 9 columns</p>\n",
              "</div>"
            ],
            "text/plain": [
              "             Pclass  Sex   Age  SibSp  Parch     Fare  Embarked  Title  \\\n",
              "PassengerId                                                              \n",
              "1                 3    0  22.0      1      0   7.2500         0      0   \n",
              "2                 1    1  38.0      1      0  71.2833         1      1   \n",
              "3                 3    1  26.0      0      0   7.9250         0      2   \n",
              "4                 1    1  35.0      1      0  53.1000         0      1   \n",
              "5                 3    0  35.0      0      0   8.0500         0      0   \n",
              "...             ...  ...   ...    ...    ...      ...       ...    ...   \n",
              "887               2    0  27.0      0      0  13.0000         0      5   \n",
              "888               1    1  19.0      0      0  30.0000         0      2   \n",
              "889               3    1  28.0      1      2  23.4500         0      2   \n",
              "890               1    0  26.0      0      0  30.0000         1      0   \n",
              "891               3    0  32.0      0      0   7.7500         2      0   \n",
              "\n",
              "             Survived  \n",
              "PassengerId            \n",
              "1                   0  \n",
              "2                   1  \n",
              "3                   1  \n",
              "4                   1  \n",
              "5                   0  \n",
              "...               ...  \n",
              "887                 0  \n",
              "888                 1  \n",
              "889                 0  \n",
              "890                 1  \n",
              "891                 0  \n",
              "\n",
              "[891 rows x 9 columns]"
            ]
          },
          "execution_count": 150,
          "metadata": {},
          "output_type": "execute_result"
        }
      ],
      "source": [
        "path_csv = \"data/titanic_modified_dataset.csv\"\n",
        "titanic_data_df = pd.read_csv(path_csv, index_col=\"PassengerId\")\n",
        "titanic_data_df"
      ]
    },
    {
      "cell_type": "code",
      "execution_count": 151,
      "metadata": {
        "id": "_8L-yvC6g79n"
      },
      "outputs": [],
      "source": [
        "# convert to numpy array\n",
        "titanic_data_arr = titanic_data_df.to_numpy().astype(np.float64)\n",
        "\n",
        "# shuffle data\n",
        "idx = np.arange(titanic_data_arr.shape[0])\n",
        "np.random.shuffle(idx)\n",
        "titanic_data_arr = titanic_data_arr[idx]"
      ]
    },
    {
      "cell_type": "code",
      "execution_count": 152,
      "metadata": {
        "colab": {
          "base_uri": "https://localhost:8080/"
        },
        "id": "WW9Lo2wlg77L",
        "outputId": "0eb66856-8f41-4a05-d05a-ea087fade399"
      },
      "outputs": [
        {
          "name": "stdout",
          "output_type": "stream",
          "text": [
            "(891, 8)\n",
            "(891,)\n"
          ]
        }
      ],
      "source": [
        "# devide features to X, label to y \n",
        "X, y = titanic_data_arr[:, :-1], titanic_data_arr[:, -1]\n",
        "print(X.shape)\n",
        "print(y.shape)"
      ]
    },
    {
      "cell_type": "code",
      "execution_count": 159,
      "metadata": {
        "colab": {
          "base_uri": "https://localhost:8080/"
        },
        "id": "J-9mwPKig7zR",
        "outputId": "63449527-74db-4e96-e890-bc36d95ac726"
      },
      "outputs": [
        {
          "name": "stdout",
          "output_type": "stream",
          "text": [
            "(623, 9) (178, 9) (90, 9)\n",
            "(623,) (178,) (90,)\n"
          ]
        }
      ],
      "source": [
        "# add bias to X\n",
        "bias = np.ones((X.shape[0], 1))\n",
        "X_b = np.append(X, bias, axis=1)\n",
        "\n",
        "TRAIN_SIZE = 0.7\n",
        "VAL_SIZE = 0.2\n",
        "#TEST_SIZE = 0.1\n",
        "TRAIN_SAMPLES = int(TRAIN_SIZE * titanic_data_arr.shape[0])\n",
        "VAL_SAMPLES = TRAIN_SAMPLES + int(VAL_SIZE * titanic_data_arr.shape[0])\n",
        "\n",
        "x_train, y_train = X_b[:TRAIN_SAMPLES], y[:TRAIN_SAMPLES]\n",
        "x_val, y_val = X_b[TRAIN_SAMPLES:VAL_SAMPLES], y[TRAIN_SAMPLES:VAL_SAMPLES]\n",
        "x_test, y_test = X_b[VAL_SAMPLES:], y[VAL_SAMPLES:]\n",
        "\n",
        "print(x_train.shape, x_val.shape, x_test.shape)\n",
        "print(y_train.shape, y_val.shape, y_test.shape)"
      ]
    },
    {
      "cell_type": "markdown",
      "metadata": {
        "id": "49C4W4iC1COO"
      },
      "source": [
        "## Training"
      ]
    },
    {
      "cell_type": "code",
      "execution_count": 162,
      "metadata": {
        "id": "1XUIPYWZ1qN8"
      },
      "outputs": [],
      "source": [
        "n_features = x_train.shape[1]\n",
        "n_iters = 100"
      ]
    },
    {
      "cell_type": "markdown",
      "metadata": {
        "id": "nAWvHpjY1TXm"
      },
      "source": [
        "## Batch_size = 1, learning_rate = 0.0001"
      ]
    },
    {
      "cell_type": "code",
      "execution_count": 163,
      "metadata": {
        "colab": {
          "base_uri": "https://localhost:8080/",
          "height": 1000,
          "referenced_widgets": [
            "ecd63351507e4036b03faab512cd78a3",
            "9f1a006e53dc4d8994938937d19cbc9a",
            "82b69ca85253490aa6c7291902902dfa",
            "ee3aac7728dd47c9b65016c9db527d8b",
            "c57c40cfa9234fe295cfe672d4a4292d",
            "be5dbf68e5564571b086a5669ccc11b9",
            "4c43986391044abeb6615516efba7886",
            "e34f3fda1d634607afe2010f79823828",
            "1e8d669ebcb7441792230fdc1b02acba",
            "1327aa0d5ff44819a12ba8f85ee540b3",
            "9ad84a8fb6944e2b9b49c8736618c1a8"
          ]
        },
        "id": "2UcHo0yug7wF",
        "outputId": "b3f96e05-1c6e-4680-a68f-e6934fd11be5"
      },
      "outputs": [
        {
          "data": {
            "application/vnd.jupyter.widget-view+json": {
              "model_id": "fc631dde7e4c49fbbf9de817f45f8996",
              "version_major": 2,
              "version_minor": 0
            },
            "text/plain": [
              "  0%|          | 0/100 [00:00<?, ?it/s]"
            ]
          },
          "metadata": {},
          "output_type": "display_data"
        },
        {
          "name": "stdout",
          "output_type": "stream",
          "text": [
            "Epoch: 10, loss: 3.4377027502668556, acc: 0.6982343499197432, loss_val: 0.8963363931263085, acc_val: 0.7078651685393258\n",
            "Epoch: 20, loss: 2.7723812544277306, acc: 0.7174959871589085, loss_val: 0.7812198377984517, acc_val: 0.7303370786516854\n",
            "Epoch: 30, loss: 2.2268843704744987, acc: 0.7335473515248796, loss_val: 0.686934723827934, acc_val: 0.7415730337078652\n",
            "Epoch: 40, loss: 1.8070282423923587, acc: 0.7479935794542536, loss_val: 0.6173137120028781, acc_val: 0.7528089887640449\n",
            "Epoch: 50, loss: 1.50471207041337, acc: 0.7640449438202247, loss_val: 0.572800904694826, acc_val: 0.7584269662921348\n",
            "Epoch: 60, loss: 1.3011186111357496, acc: 0.7768860353130016, loss_val: 0.5482356440908756, acc_val: 0.7752808988764045\n",
            "Epoch: 70, loss: 1.1709729322789046, acc: 0.7736757624398074, loss_val: 0.5358143871888937, acc_val: 0.7696629213483146\n",
            "Epoch: 80, loss: 1.089849517185342, acc: 0.7881219903691814, loss_val: 0.5295448421858209, acc_val: 0.7640449438202247\n",
            "Epoch: 90, loss: 1.0396470718920936, acc: 0.7800963081861958, loss_val: 0.5261742836391304, acc_val: 0.7696629213483146\n",
            "Epoch: 100, loss: 1.008697082269844, acc: 0.7849117174959872, loss_val: 0.5241728096395072, acc_val: 0.7696629213483146\n"
          ]
        }
      ],
      "source": [
        "batch_size = 1\n",
        "learning_rate = 0.0001\n",
        "LRModel = LogisticRegression(batch_size, n_features, type=\"binary\")\n",
        "history = LRModel.fit(x_train, y_train, x_val, y_val, n_iters, learning_rate)"
      ]
    },
    {
      "cell_type": "code",
      "execution_count": 164,
      "metadata": {
        "colab": {
          "base_uri": "https://localhost:8080/",
          "height": 282
        },
        "id": "es9UNdV4g7sg",
        "outputId": "328c3db2-a4cf-4a99-f63d-3cd93d0ee97c"
      },
      "outputs": [
        {
          "data": {
            "image/png": "[encoded data removed]",
            "text/plain": [
              "<Figure size 1000x1000 with 4 Axes>"
            ]
          },
          "metadata": {},
          "output_type": "display_data"
        }
      ],
      "source": [
        "fig, ax = plt.subplots(2, 2, figsize=(10, 10))\n",
        "ax[0, 0].plot(history[\"losses_train\"])\n",
        "ax[0, 0].set(xlabel='Epoch', ylabel='Loss')\n",
        "ax[0, 0].set_title('Training Loss')\n",
        "\n",
        "ax[0, 1].plot(history['losses_val'], 'orange')\n",
        "ax[0, 1].set(xlabel='Epoch', ylabel='Loss')\n",
        "ax[0, 1].set_title('Validation Loss')\n",
        "\n",
        "ax[1, 0].plot(history['accs_train'])\n",
        "ax[1, 0].set(xlabel='Epoch', ylabel='Accuracy')\n",
        "ax[1, 0].set_title('Training Accuracy')\n",
        "\n",
        "ax[1, 1].plot(history['accs_val'], 'orange')\n",
        "ax[1, 1].set(xlabel='Epoch', ylabel='Accuracy')\n",
        "ax[1, 1].set_title('Validation Accuracy')\n",
        "\n",
        "plt.show()"
      ]
    },
    {
      "cell_type": "markdown",
      "metadata": {
        "id": "OXYeNuwfCSRX"
      },
      "source": [
        "## Batch_size = 32, learning_rate = 0.001"
      ]
    },
    {
      "cell_type": "code",
      "execution_count": 165,
      "metadata": {
        "colab": {
          "base_uri": "https://localhost:8080/",
          "height": 1000,
          "referenced_widgets": [
            "f81267af6c7b4277b931badfc2f0c962",
            "cc2bb27b20e84aca8e06e6388cd8a1a4",
            "e3d36a91565d4dec84badb994549768c",
            "0452c0dff9e84ab381bd449e1dbd6a09",
            "b3b05db790a749739b08f1820d61a356",
            "ae106dd1c0e343779fe61d4e207489e9",
            "bbbdc10166d9451eb329fecdffd2fcbc",
            "0b1cf267adc54866b921f0eed23dc4e3",
            "34882af0cf22455396b74edc4991df45",
            "bcd4eeac59a249459931a713918fa5ad",
            "bab91f8de37f4fbeb856e125faf9afa2"
          ]
        },
        "id": "cKGHHLFUBj_3",
        "outputId": "a44ad3c1-996c-4af3-bd07-b1e5e9005c29"
      },
      "outputs": [
        {
          "data": {
            "application/vnd.jupyter.widget-view+json": {
              "model_id": "304914fc72654d1ea28eb138c55e95db",
              "version_major": 2,
              "version_minor": 0
            },
            "text/plain": [
              "  0%|          | 0/100 [00:00<?, ?it/s]"
            ]
          },
          "metadata": {},
          "output_type": "display_data"
        },
        {
          "name": "stdout",
          "output_type": "stream",
          "text": [
            "Epoch: 10, loss: 1.5011722262468397, acc: 0.695024077046549, loss_val: 0.9927005426811878, acc_val: 0.6741573033707865\n",
            "Epoch: 20, loss: 1.418362278623402, acc: 0.6982343499197432, loss_val: 0.9466634609382863, acc_val: 0.6853932584269663\n",
            "Epoch: 30, loss: 1.3387544825999618, acc: 0.7062600321027287, loss_val: 0.9024954681908703, acc_val: 0.702247191011236\n",
            "Epoch: 40, loss: 1.2625354763770589, acc: 0.7078651685393258, loss_val: 0.8603330628394911, acc_val: 0.7134831460674157\n",
            "Epoch: 50, loss: 1.1899138238142952, acc: 0.7126805778491172, loss_val: 0.8203232679785173, acc_val: 0.7303370786516854\n",
            "Epoch: 60, loss: 1.121111319922772, acc: 0.7142857142857143, loss_val: 0.7826247640589197, acc_val: 0.7303370786516854\n",
            "Epoch: 70, loss: 1.0563628639764084, acc: 0.7158908507223114, loss_val: 0.7474061718092581, acc_val: 0.7415730337078652\n",
            "Epoch: 80, loss: 0.9959116124209134, acc: 0.7191011235955056, loss_val: 0.7148399094671191, acc_val: 0.7415730337078652\n",
            "Epoch: 90, loss: 0.9399960778239325, acc: 0.7287319422150883, loss_val: 0.6850897693147415, acc_val: 0.7359550561797753\n",
            "Epoch: 100, loss: 0.8888261169863646, acc: 0.7335473515248796, loss_val: 0.6582918699367873, acc_val: 0.7303370786516854\n"
          ]
        }
      ],
      "source": [
        "batch_size = 32\n",
        "learning_rate = 0.001\n",
        "LRModel = LogisticRegression(batch_size, n_features, type=\"binary\")\n",
        "history = LRModel.fit(x_train, y_train, x_val, y_val, n_iters, learning_rate)"
      ]
    },
    {
      "cell_type": "code",
      "execution_count": 166,
      "metadata": {
        "colab": {
          "base_uri": "https://localhost:8080/",
          "height": 282
        },
        "id": "xdacGRiaCb_G",
        "outputId": "648eba2a-5821-42d3-9e93-f84ae70fe4e9"
      },
      "outputs": [
        {
          "data": {
            "image/png": "[encoded data removed]",
            "text/plain": [
              "<Figure size 1000x1000 with 4 Axes>"
            ]
          },
          "metadata": {},
          "output_type": "display_data"
        }
      ],
      "source": [
        "fig, ax = plt.subplots(2, 2, figsize=(10, 10))\n",
        "ax[0, 0].plot(history[\"losses_train\"])\n",
        "ax[0, 0].set(xlabel='Epoch', ylabel='Loss')\n",
        "ax[0, 0].set_title('Training Loss')\n",
        "\n",
        "ax[0, 1].plot(history['losses_val'], 'orange')\n",
        "ax[0, 1].set(xlabel='Epoch', ylabel='Loss')\n",
        "ax[0, 1].set_title('Validation Loss')\n",
        "\n",
        "ax[1, 0].plot(history['accs_train'])\n",
        "ax[1, 0].set(xlabel='Epoch', ylabel='Accuracy')\n",
        "ax[1, 0].set_title('Training Accuracy')\n",
        "\n",
        "ax[1, 1].plot(history['accs_val'], 'orange')\n",
        "ax[1, 1].set(xlabel='Epoch', ylabel='Accuracy')\n",
        "ax[1, 1].set_title('Validation Accuracy')\n",
        "\n",
        "plt.show()"
      ]
    },
    {
      "cell_type": "markdown",
      "metadata": {
        "id": "SaJIoMb_ICc4"
      },
      "source": [
        "## Batch_size = n_sample, learning_rate = 0.001"
      ]
    },
    {
      "cell_type": "code",
      "execution_count": 167,
      "metadata": {
        "colab": {
          "base_uri": "https://localhost:8080/",
          "height": 1000,
          "referenced_widgets": [
            "78686c6b76fb4483a29002ec0a973bb3",
            "8e13e9c8cc214e798082261c1b75d60d",
            "1d0b58ecbf0743fd963f3a89c8a0d456",
            "100bade58a7d49e683875a090d6cb552",
            "ab2af4b4284845f9ba4ba7fa936d7e9b",
            "f97de8afbb6347dc9f722e812aae402d",
            "d266480f77b8499eac2079d9d12b7ffb",
            "0828b73ac025434997206d035587ae63",
            "ede4145613994d2ebeae1ec2f4eecd2b",
            "6c132e0050304d5e9fbfeba833b81d4c",
            "e39dd88ddb7e4826932579338e985a86"
          ]
        },
        "id": "RuSxfMpyCb6I",
        "outputId": "e8090de0-6d1b-4761-d480-cb5b4222829c"
      },
      "outputs": [
        {
          "data": {
            "application/vnd.jupyter.widget-view+json": {
              "model_id": "3eccc37dd2c34a29b932d7bac49afbfe",
              "version_major": 2,
              "version_minor": 0
            },
            "text/plain": [
              "  0%|          | 0/100 [00:00<?, ?it/s]"
            ]
          },
          "metadata": {},
          "output_type": "display_data"
        },
        {
          "name": "stdout",
          "output_type": "stream",
          "text": [
            "Epoch: 10, loss: 8.374425519955356, acc: 0.39325842696629215, loss_val: 8.99798596366331, acc_val: 0.34831460674157305\n",
            "Epoch: 20, loss: 7.966937965255063, acc: 0.39325842696629215, loss_val: 8.39714741916184, acc_val: 0.34831460674157305\n",
            "Epoch: 30, loss: 5.714866232660573, acc: 0.39325842696629215, loss_val: 5.748523467032057, acc_val: 0.34831460674157305\n",
            "Epoch: 40, loss: 2.075205541791117, acc: 0.47030497592295345, loss_val: 2.0981920135758134, acc_val: 0.47191011235955055\n",
            "Epoch: 50, loss: 1.0662122055973602, acc: 0.7030497592295345, loss_val: 1.102731470002727, acc_val: 0.6966292134831461\n",
            "Epoch: 60, loss: 1.0098018488033573, acc: 0.7062600321027287, loss_val: 1.0066286677023846, acc_val: 0.702247191011236\n",
            "Epoch: 70, loss: 0.996769249258465, acc: 0.6998394863563403, loss_val: 1.0007704130938273, acc_val: 0.6910112359550562\n",
            "Epoch: 80, loss: 0.9906566654804171, acc: 0.695024077046549, loss_val: 1.0024300274002675, acc_val: 0.6910112359550562\n",
            "Epoch: 90, loss: 0.9870832252265932, acc: 0.6902086677367576, loss_val: 1.0035701970340931, acc_val: 0.6797752808988764\n",
            "Epoch: 100, loss: 0.9843442714917406, acc: 0.6869983948635634, loss_val: 1.0034395465516712, acc_val: 0.6741573033707865\n"
          ]
        }
      ],
      "source": [
        "batch_size = len(x_train)\n",
        "learning_rate = 0.001\n",
        "LRModel = LogisticRegression(batch_size, n_features, type=\"binary\")\n",
        "history = LRModel.fit(x_train, y_train, x_val, y_val, n_iters, learning_rate)"
      ]
    },
    {
      "cell_type": "code",
      "execution_count": 168,
      "metadata": {
        "colab": {
          "base_uri": "https://localhost:8080/",
          "height": 282
        },
        "id": "96MiPUPfCb09",
        "outputId": "25823712-e008-46b7-9bb7-1a0cc8249250"
      },
      "outputs": [
        {
          "data": {
            "image/png": "[encoded data removed]",
            "text/plain": [
              "<Figure size 1000x1000 with 4 Axes>"
            ]
          },
          "metadata": {},
          "output_type": "display_data"
        }
      ],
      "source": [
        "fig, ax = plt.subplots(2, 2, figsize=(10, 10))\n",
        "ax[0, 0].plot(history[\"losses_train\"])\n",
        "ax[0, 0].set(xlabel='Epoch', ylabel='Loss')\n",
        "ax[0, 0].set_title('Training Loss')\n",
        "\n",
        "ax[0, 1].plot(history['losses_val'], 'orange')\n",
        "ax[0, 1].set(xlabel='Epoch', ylabel='Loss')\n",
        "ax[0, 1].set_title('Validation Loss')\n",
        "\n",
        "ax[1, 0].plot(history['accs_train'])\n",
        "ax[1, 0].set(xlabel='Epoch', ylabel='Accuracy')\n",
        "ax[1, 0].set_title('Training Accuracy')\n",
        "\n",
        "ax[1, 1].plot(history['accs_val'], 'orange')\n",
        "ax[1, 1].set(xlabel='Epoch', ylabel='Accuracy')\n",
        "ax[1, 1].set_title('Validation Accuracy')\n",
        "\n",
        "plt.show()"
      ]
    },
    {
      "cell_type": "markdown",
      "metadata": {},
      "source": [
        "# MNIST data"
      ]
    },
    {
      "cell_type": "code",
      "execution_count": 169,
      "metadata": {},
      "outputs": [
        {
          "data": {
            "image/png": "[encoded data removed]",
            "text/plain": [
              "<Figure size 1000x300 with 4 Axes>"
            ]
          },
          "metadata": {},
          "output_type": "display_data"
        }
      ],
      "source": [
        "digits = datasets.load_digits()\n",
        "\n",
        "_, axes = plt.subplots(nrows=1, ncols=4, figsize=(10, 3))\n",
        "for ax, image, label in zip(axes, digits.images, digits.target):\n",
        "    ax.set_axis_off()\n",
        "    ax.imshow(image, cmap=plt.cm.gray_r, interpolation=\"nearest\")\n",
        "    ax.set_title(\"Training: %i\" % label)"
      ]
    },
    {
      "cell_type": "code",
      "execution_count": 170,
      "metadata": {},
      "outputs": [],
      "source": [
        "def one_hot(y, c):\n",
        "    \n",
        "    # y--> label/ground truth.\n",
        "    # c--> Number of classes.\n",
        "    \n",
        "    # A zero matrix of size (m, c)\n",
        "    y_hot = np.zeros((len(y), c))\n",
        "    \n",
        "    # Putting 1 for column where the label is,\n",
        "    # Using multidimensional indexing.\n",
        "    y_hot[np.arange(len(y)), y] = 1\n",
        "    \n",
        "    return y_hot"
      ]
    },
    {
      "cell_type": "code",
      "execution_count": 171,
      "metadata": {},
      "outputs": [],
      "source": [
        "# flatten the images\n",
        "n_samples = len(digits.images)\n",
        "num_class = 10\n",
        "data = digits.images.reshape((n_samples, -1))\n",
        "bias = np.ones((data.shape[0], 1))\n",
        "data = np.append(data, bias, axis=1)\n",
        "\n",
        "# Split data into 50% train and 50% test subsets\n",
        "x_train, x_test, y_train, y_test = train_test_split(data, digits.target, test_size=0.2, shuffle=True)\n",
        "y_train = one_hot(y_train, num_class)\n",
        "y_test = one_hot(y_test, num_class)"
      ]
    },
    {
      "cell_type": "code",
      "execution_count": 172,
      "metadata": {},
      "outputs": [
        {
          "name": "stdout",
          "output_type": "stream",
          "text": [
            "(1437, 65) (360, 65) (1437, 10) (360, 10)\n"
          ]
        }
      ],
      "source": [
        "print(x_train.shape, x_test.shape, y_train.shape, y_test.shape)"
      ]
    },
    {
      "cell_type": "code",
      "execution_count": 173,
      "metadata": {},
      "outputs": [
        {
          "data": {
            "application/vnd.jupyter.widget-view+json": {
              "model_id": "0af4e979fb344c3ebccaacc9ab822f95",
              "version_major": 2,
              "version_minor": 0
            },
            "text/plain": [
              "  0%|          | 0/100 [00:00<?, ?it/s]"
            ]
          },
          "metadata": {},
          "output_type": "display_data"
        },
        {
          "name": "stdout",
          "output_type": "stream",
          "text": [
            "Epoch: 10, loss: 0.6583551670115735, acc: 0.8516353514265832, loss_val: 0.7390602200704093, acc_val: 0.845\n",
            "Epoch: 20, loss: 0.5520379809050835, acc: 0.865205288796103, loss_val: 0.6169347732463214, acc_val: 0.8597222222222223\n",
            "Epoch: 30, loss: 0.48729639252344253, acc: 0.8740431454418929, loss_val: 0.5378229483202567, acc_val: 0.8722222222222222\n",
            "Epoch: 40, loss: 0.4148650757081603, acc: 0.8870563674321503, loss_val: 0.4609334898096721, acc_val: 0.8819444444444444\n",
            "Epoch: 50, loss: 0.3519463734239301, acc: 0.897633959638135, loss_val: 0.39476533892477766, acc_val: 0.8936111111111111\n",
            "Epoch: 60, loss: 0.2949500633010956, acc: 0.9073068893528183, loss_val: 0.34115043120975125, acc_val: 0.9038888888888889\n",
            "Epoch: 70, loss: 0.25326165176007615, acc: 0.916214335421016, loss_val: 0.29961229557381747, acc_val: 0.9122222222222223\n",
            "Epoch: 80, loss: 0.22224948029762728, acc: 0.92366040361865, loss_val: 0.2658028262059942, acc_val: 0.9213888888888889\n",
            "Epoch: 90, loss: 0.19631473171096753, acc: 0.9313848295059151, loss_val: 0.2380910347600583, acc_val: 0.93\n",
            "Epoch: 100, loss: 0.1748393341098696, acc: 0.9361864996520529, loss_val: 0.21528081954186876, acc_val: 0.935\n"
          ]
        }
      ],
      "source": [
        "batch_size = 32\n",
        "learning_rate = 0.001\n",
        "n_iters = 100\n",
        "n_features = x_train.shape[1]\n",
        "LRModel = LogisticRegression(batch_size, n_features, type='multi', num_class= num_class)\n",
        "history = LRModel.fit(x_train, y_train, x_test, y_test, n_iters, learning_rate)"
      ]
    },
    {
      "cell_type": "code",
      "execution_count": 174,
      "metadata": {},
      "outputs": [
        {
          "data": {
            "image/png": "[encoded data removed]",
            "text/plain": [
              "<Figure size 1000x1000 with 4 Axes>"
            ]
          },
          "metadata": {},
          "output_type": "display_data"
        }
      ],
      "source": [
        "fig, ax = plt.subplots(2, 2, figsize=(10, 10))\n",
        "ax[0, 0].plot(history[\"losses_train\"])\n",
        "ax[0, 0].set(xlabel='Epoch', ylabel='Loss')\n",
        "ax[0, 0].set_title('Training Loss')\n",
        "\n",
        "ax[0, 1].plot(history['losses_val'], 'orange')\n",
        "ax[0, 1].set(xlabel='Epoch', ylabel='Loss')\n",
        "ax[0, 1].set_title('Validation Loss')\n",
        "\n",
        "ax[1, 0].plot(history['accs_train'])\n",
        "ax[1, 0].set(xlabel='Epoch', ylabel='Accuracy')\n",
        "ax[1, 0].set_title('Training Accuracy')\n",
        "\n",
        "ax[1, 1].plot(history['accs_val'], 'orange')\n",
        "ax[1, 1].set(xlabel='Epoch', ylabel='Accuracy')\n",
        "ax[1, 1].set_title('Validation Accuracy')\n",
        "\n",
        "plt.show()"
      ]
    }
  ],
  "metadata": {
    "colab": {
      "collapsed_sections": [],
      "provenance": []
    },
    "kernelspec": {
      "display_name": "Python 3.10.4 64-bit",
      "language": "python",
      "name": "python3"
    },
    "language_info": {
      "codemirror_mode": {
        "name": "ipython",
        "version": 3
      },
      "file_extension": ".py",
      "mimetype": "text/x-python",
      "name": "python",
      "nbconvert_exporter": "python",
      "pygments_lexer": "ipython3",
      "version": "3.10.4"
    },
    "vscode": {
      "interpreter": {
        "hash": "916dbcbb3f70747c44a77c7bcd40155683ae19c65e1c03b4aa3499c5328201f1"
      }
    },
    "widgets": {
      "application/vnd.jupyter.widget-state+json": {
        "0452c0dff9e84ab381bd449e1dbd6a09": {
          "model_module": "@jupyter-widgets/controls",
          "model_module_version": "1.5.0",
          "model_name": "HTMLModel",
          "state": {
            "_dom_classes": [],
            "_model_module": "@jupyter-widgets/controls",
            "_model_module_version": "1.5.0",
            "_model_name": "HTMLModel",
            "_view_count": null,
            "_view_module": "@jupyter-widgets/controls",
            "_view_module_version": "1.5.0",
            "_view_name": "HTMLView",
            "description": "",
            "description_tooltip": null,
            "layout": "IPY_MODEL_bcd4eeac59a249459931a713918fa5ad",
            "placeholder": "​",
            "style": "IPY_MODEL_bab91f8de37f4fbeb856e125faf9afa2",
            "value": " 100/100 [00:00&lt;00:00, 829.45it/s]"
          }
        },
        "0828b73ac025434997206d035587ae63": {
          "model_module": "@jupyter-widgets/base",
          "model_module_version": "1.2.0",
          "model_name": "LayoutModel",
          "state": {
            "_model_module": "@jupyter-widgets/base",
            "_model_module_version": "1.2.0",
            "_model_name": "LayoutModel",
            "_view_count": null,
            "_view_module": "@jupyter-widgets/base",
            "_view_module_version": "1.2.0",
            "_view_name": "LayoutView",
            "align_content": null,
            "align_items": null,
            "align_self": null,
            "border": null,
            "bottom": null,
            "display": null,
            "flex": null,
            "flex_flow": null,
            "grid_area": null,
            "grid_auto_columns": null,
            "grid_auto_flow": null,
            "grid_auto_rows": null,
            "grid_column": null,
            "grid_gap": null,
            "grid_row": null,
            "grid_template_areas": null,
            "grid_template_columns": null,
            "grid_template_rows": null,
            "height": null,
            "justify_content": null,
            "justify_items": null,
            "left": null,
            "margin": null,
            "max_height": null,
            "max_width": null,
            "min_height": null,
            "min_width": null,
            "object_fit": null,
            "object_position": null,
            "order": null,
            "overflow": null,
            "overflow_x": null,
            "overflow_y": null,
            "padding": null,
            "right": null,
            "top": null,
            "visibility": null,
            "width": null
          }
        },
        "0b1cf267adc54866b921f0eed23dc4e3": {
          "model_module": "@jupyter-widgets/base",
          "model_module_version": "1.2.0",
          "model_name": "LayoutModel",
          "state": {
            "_model_module": "@jupyter-widgets/base",
            "_model_module_version": "1.2.0",
            "_model_name": "LayoutModel",
            "_view_count": null,
            "_view_module": "@jupyter-widgets/base",
            "_view_module_version": "1.2.0",
            "_view_name": "LayoutView",
            "align_content": null,
            "align_items": null,
            "align_self": null,
            "border": null,
            "bottom": null,
            "display": null,
            "flex": null,
            "flex_flow": null,
            "grid_area": null,
            "grid_auto_columns": null,
            "grid_auto_flow": null,
            "grid_auto_rows": null,
            "grid_column": null,
            "grid_gap": null,
            "grid_row": null,
            "grid_template_areas": null,
            "grid_template_columns": null,
            "grid_template_rows": null,
            "height": null,
            "justify_content": null,
            "justify_items": null,
            "left": null,
            "margin": null,
            "max_height": null,
            "max_width": null,
            "min_height": null,
            "min_width": null,
            "object_fit": null,
            "object_position": null,
            "order": null,
            "overflow": null,
            "overflow_x": null,
            "overflow_y": null,
            "padding": null,
            "right": null,
            "top": null,
            "visibility": null,
            "width": null
          }
        },
        "100bade58a7d49e683875a090d6cb552": {
          "model_module": "@jupyter-widgets/controls",
          "model_module_version": "1.5.0",
          "model_name": "HTMLModel",
          "state": {
            "_dom_classes": [],
            "_model_module": "@jupyter-widgets/controls",
            "_model_module_version": "1.5.0",
            "_model_name": "HTMLModel",
            "_view_count": null,
            "_view_module": "@jupyter-widgets/controls",
            "_view_module_version": "1.5.0",
            "_view_name": "HTMLView",
            "description": "",
            "description_tooltip": null,
            "layout": "IPY_MODEL_6c132e0050304d5e9fbfeba833b81d4c",
            "placeholder": "​",
            "style": "IPY_MODEL_e39dd88ddb7e4826932579338e985a86",
            "value": " 100/100 [00:00&lt;00:00, 1154.77it/s]"
          }
        },
        "1327aa0d5ff44819a12ba8f85ee540b3": {
          "model_module": "@jupyter-widgets/base",
          "model_module_version": "1.2.0",
          "model_name": "LayoutModel",
          "state": {
            "_model_module": "@jupyter-widgets/base",
            "_model_module_version": "1.2.0",
            "_model_name": "LayoutModel",
            "_view_count": null,
            "_view_module": "@jupyter-widgets/base",
            "_view_module_version": "1.2.0",
            "_view_name": "LayoutView",
            "align_content": null,
            "align_items": null,
            "align_self": null,
            "border": null,
            "bottom": null,
            "display": null,
            "flex": null,
            "flex_flow": null,
            "grid_area": null,
            "grid_auto_columns": null,
            "grid_auto_flow": null,
            "grid_auto_rows": null,
            "grid_column": null,
            "grid_gap": null,
            "grid_row": null,
            "grid_template_areas": null,
            "grid_template_columns": null,
            "grid_template_rows": null,
            "height": null,
            "justify_content": null,
            "justify_items": null,
            "left": null,
            "margin": null,
            "max_height": null,
            "max_width": null,
            "min_height": null,
            "min_width": null,
            "object_fit": null,
            "object_position": null,
            "order": null,
            "overflow": null,
            "overflow_x": null,
            "overflow_y": null,
            "padding": null,
            "right": null,
            "top": null,
            "visibility": null,
            "width": null
          }
        },
        "1d0b58ecbf0743fd963f3a89c8a0d456": {
          "model_module": "@jupyter-widgets/controls",
          "model_module_version": "1.5.0",
          "model_name": "FloatProgressModel",
          "state": {
            "_dom_classes": [],
            "_model_module": "@jupyter-widgets/controls",
            "_model_module_version": "1.5.0",
            "_model_name": "FloatProgressModel",
            "_view_count": null,
            "_view_module": "@jupyter-widgets/controls",
            "_view_module_version": "1.5.0",
            "_view_name": "ProgressView",
            "bar_style": "success",
            "description": "",
            "description_tooltip": null,
            "layout": "IPY_MODEL_0828b73ac025434997206d035587ae63",
            "max": 100,
            "min": 0,
            "orientation": "horizontal",
            "style": "IPY_MODEL_ede4145613994d2ebeae1ec2f4eecd2b",
            "value": 100
          }
        },
        "1e8d669ebcb7441792230fdc1b02acba": {
          "model_module": "@jupyter-widgets/controls",
          "model_module_version": "1.5.0",
          "model_name": "ProgressStyleModel",
          "state": {
            "_model_module": "@jupyter-widgets/controls",
            "_model_module_version": "1.5.0",
            "_model_name": "ProgressStyleModel",
            "_view_count": null,
            "_view_module": "@jupyter-widgets/base",
            "_view_module_version": "1.2.0",
            "_view_name": "StyleView",
            "bar_color": null,
            "description_width": ""
          }
        },
        "34882af0cf22455396b74edc4991df45": {
          "model_module": "@jupyter-widgets/controls",
          "model_module_version": "1.5.0",
          "model_name": "ProgressStyleModel",
          "state": {
            "_model_module": "@jupyter-widgets/controls",
            "_model_module_version": "1.5.0",
            "_model_name": "ProgressStyleModel",
            "_view_count": null,
            "_view_module": "@jupyter-widgets/base",
            "_view_module_version": "1.2.0",
            "_view_name": "StyleView",
            "bar_color": null,
            "description_width": ""
          }
        },
        "4c43986391044abeb6615516efba7886": {
          "model_module": "@jupyter-widgets/controls",
          "model_module_version": "1.5.0",
          "model_name": "DescriptionStyleModel",
          "state": {
            "_model_module": "@jupyter-widgets/controls",
            "_model_module_version": "1.5.0",
            "_model_name": "DescriptionStyleModel",
            "_view_count": null,
            "_view_module": "@jupyter-widgets/base",
            "_view_module_version": "1.2.0",
            "_view_name": "StyleView",
            "description_width": ""
          }
        },
        "6c132e0050304d5e9fbfeba833b81d4c": {
          "model_module": "@jupyter-widgets/base",
          "model_module_version": "1.2.0",
          "model_name": "LayoutModel",
          "state": {
            "_model_module": "@jupyter-widgets/base",
            "_model_module_version": "1.2.0",
            "_model_name": "LayoutModel",
            "_view_count": null,
            "_view_module": "@jupyter-widgets/base",
            "_view_module_version": "1.2.0",
            "_view_name": "LayoutView",
            "align_content": null,
            "align_items": null,
            "align_self": null,
            "border": null,
            "bottom": null,
            "display": null,
            "flex": null,
            "flex_flow": null,
            "grid_area": null,
            "grid_auto_columns": null,
            "grid_auto_flow": null,
            "grid_auto_rows": null,
            "grid_column": null,
            "grid_gap": null,
            "grid_row": null,
            "grid_template_areas": null,
            "grid_template_columns": null,
            "grid_template_rows": null,
            "height": null,
            "justify_content": null,
            "justify_items": null,
            "left": null,
            "margin": null,
            "max_height": null,
            "max_width": null,
            "min_height": null,
            "min_width": null,
            "object_fit": null,
            "object_position": null,
            "order": null,
            "overflow": null,
            "overflow_x": null,
            "overflow_y": null,
            "padding": null,
            "right": null,
            "top": null,
            "visibility": null,
            "width": null
          }
        },
        "78686c6b76fb4483a29002ec0a973bb3": {
          "model_module": "@jupyter-widgets/controls",
          "model_module_version": "1.5.0",
          "model_name": "HBoxModel",
          "state": {
            "_dom_classes": [],
            "_model_module": "@jupyter-widgets/controls",
            "_model_module_version": "1.5.0",
            "_model_name": "HBoxModel",
            "_view_count": null,
            "_view_module": "@jupyter-widgets/controls",
            "_view_module_version": "1.5.0",
            "_view_name": "HBoxView",
            "box_style": "",
            "children": [
              "IPY_MODEL_8e13e9c8cc214e798082261c1b75d60d",
              "IPY_MODEL_1d0b58ecbf0743fd963f3a89c8a0d456",
              "IPY_MODEL_100bade58a7d49e683875a090d6cb552"
            ],
            "layout": "IPY_MODEL_ab2af4b4284845f9ba4ba7fa936d7e9b"
          }
        },
        "82b69ca85253490aa6c7291902902dfa": {
          "model_module": "@jupyter-widgets/controls",
          "model_module_version": "1.5.0",
          "model_name": "FloatProgressModel",
          "state": {
            "_dom_classes": [],
            "_model_module": "@jupyter-widgets/controls",
            "_model_module_version": "1.5.0",
            "_model_name": "FloatProgressModel",
            "_view_count": null,
            "_view_module": "@jupyter-widgets/controls",
            "_view_module_version": "1.5.0",
            "_view_name": "ProgressView",
            "bar_style": "success",
            "description": "",
            "description_tooltip": null,
            "layout": "IPY_MODEL_e34f3fda1d634607afe2010f79823828",
            "max": 100,
            "min": 0,
            "orientation": "horizontal",
            "style": "IPY_MODEL_1e8d669ebcb7441792230fdc1b02acba",
            "value": 100
          }
        },
        "8e13e9c8cc214e798082261c1b75d60d": {
          "model_module": "@jupyter-widgets/controls",
          "model_module_version": "1.5.0",
          "model_name": "HTMLModel",
          "state": {
            "_dom_classes": [],
            "_model_module": "@jupyter-widgets/controls",
            "_model_module_version": "1.5.0",
            "_model_name": "HTMLModel",
            "_view_count": null,
            "_view_module": "@jupyter-widgets/controls",
            "_view_module_version": "1.5.0",
            "_view_name": "HTMLView",
            "description": "",
            "description_tooltip": null,
            "layout": "IPY_MODEL_f97de8afbb6347dc9f722e812aae402d",
            "placeholder": "​",
            "style": "IPY_MODEL_d266480f77b8499eac2079d9d12b7ffb",
            "value": "100%"
          }
        },
        "9ad84a8fb6944e2b9b49c8736618c1a8": {
          "model_module": "@jupyter-widgets/controls",
          "model_module_version": "1.5.0",
          "model_name": "DescriptionStyleModel",
          "state": {
            "_model_module": "@jupyter-widgets/controls",
            "_model_module_version": "1.5.0",
            "_model_name": "DescriptionStyleModel",
            "_view_count": null,
            "_view_module": "@jupyter-widgets/base",
            "_view_module_version": "1.2.0",
            "_view_name": "StyleView",
            "description_width": ""
          }
        },
        "9f1a006e53dc4d8994938937d19cbc9a": {
          "model_module": "@jupyter-widgets/controls",
          "model_module_version": "1.5.0",
          "model_name": "HTMLModel",
          "state": {
            "_dom_classes": [],
            "_model_module": "@jupyter-widgets/controls",
            "_model_module_version": "1.5.0",
            "_model_name": "HTMLModel",
            "_view_count": null,
            "_view_module": "@jupyter-widgets/controls",
            "_view_module_version": "1.5.0",
            "_view_name": "HTMLView",
            "description": "",
            "description_tooltip": null,
            "layout": "IPY_MODEL_be5dbf68e5564571b086a5669ccc11b9",
            "placeholder": "​",
            "style": "IPY_MODEL_4c43986391044abeb6615516efba7886",
            "value": "100%"
          }
        },
        "ab2af4b4284845f9ba4ba7fa936d7e9b": {
          "model_module": "@jupyter-widgets/base",
          "model_module_version": "1.2.0",
          "model_name": "LayoutModel",
          "state": {
            "_model_module": "@jupyter-widgets/base",
            "_model_module_version": "1.2.0",
            "_model_name": "LayoutModel",
            "_view_count": null,
            "_view_module": "@jupyter-widgets/base",
            "_view_module_version": "1.2.0",
            "_view_name": "LayoutView",
            "align_content": null,
            "align_items": null,
            "align_self": null,
            "border": null,
            "bottom": null,
            "display": null,
            "flex": null,
            "flex_flow": null,
            "grid_area": null,
            "grid_auto_columns": null,
            "grid_auto_flow": null,
            "grid_auto_rows": null,
            "grid_column": null,
            "grid_gap": null,
            "grid_row": null,
            "grid_template_areas": null,
            "grid_template_columns": null,
            "grid_template_rows": null,
            "height": null,
            "justify_content": null,
            "justify_items": null,
            "left": null,
            "margin": null,
            "max_height": null,
            "max_width": null,
            "min_height": null,
            "min_width": null,
            "object_fit": null,
            "object_position": null,
            "order": null,
            "overflow": null,
            "overflow_x": null,
            "overflow_y": null,
            "padding": null,
            "right": null,
            "top": null,
            "visibility": null,
            "width": null
          }
        },
        "ae106dd1c0e343779fe61d4e207489e9": {
          "model_module": "@jupyter-widgets/base",
          "model_module_version": "1.2.0",
          "model_name": "LayoutModel",
          "state": {
            "_model_module": "@jupyter-widgets/base",
            "_model_module_version": "1.2.0",
            "_model_name": "LayoutModel",
            "_view_count": null,
            "_view_module": "@jupyter-widgets/base",
            "_view_module_version": "1.2.0",
            "_view_name": "LayoutView",
            "align_content": null,
            "align_items": null,
            "align_self": null,
            "border": null,
            "bottom": null,
            "display": null,
            "flex": null,
            "flex_flow": null,
            "grid_area": null,
            "grid_auto_columns": null,
            "grid_auto_flow": null,
            "grid_auto_rows": null,
            "grid_column": null,
            "grid_gap": null,
            "grid_row": null,
            "grid_template_areas": null,
            "grid_template_columns": null,
            "grid_template_rows": null,
            "height": null,
            "justify_content": null,
            "justify_items": null,
            "left": null,
            "margin": null,
            "max_height": null,
            "max_width": null,
            "min_height": null,
            "min_width": null,
            "object_fit": null,
            "object_position": null,
            "order": null,
            "overflow": null,
            "overflow_x": null,
            "overflow_y": null,
            "padding": null,
            "right": null,
            "top": null,
            "visibility": null,
            "width": null
          }
        },
        "b3b05db790a749739b08f1820d61a356": {
          "model_module": "@jupyter-widgets/base",
          "model_module_version": "1.2.0",
          "model_name": "LayoutModel",
          "state": {
            "_model_module": "@jupyter-widgets/base",
            "_model_module_version": "1.2.0",
            "_model_name": "LayoutModel",
            "_view_count": null,
            "_view_module": "@jupyter-widgets/base",
            "_view_module_version": "1.2.0",
            "_view_name": "LayoutView",
            "align_content": null,
            "align_items": null,
            "align_self": null,
            "border": null,
            "bottom": null,
            "display": null,
            "flex": null,
            "flex_flow": null,
            "grid_area": null,
            "grid_auto_columns": null,
            "grid_auto_flow": null,
            "grid_auto_rows": null,
            "grid_column": null,
            "grid_gap": null,
            "grid_row": null,
            "grid_template_areas": null,
            "grid_template_columns": null,
            "grid_template_rows": null,
            "height": null,
            "justify_content": null,
            "justify_items": null,
            "left": null,
            "margin": null,
            "max_height": null,
            "max_width": null,
            "min_height": null,
            "min_width": null,
            "object_fit": null,
            "object_position": null,
            "order": null,
            "overflow": null,
            "overflow_x": null,
            "overflow_y": null,
            "padding": null,
            "right": null,
            "top": null,
            "visibility": null,
            "width": null
          }
        },
        "bab91f8de37f4fbeb856e125faf9afa2": {
          "model_module": "@jupyter-widgets/controls",
          "model_module_version": "1.5.0",
          "model_name": "DescriptionStyleModel",
          "state": {
            "_model_module": "@jupyter-widgets/controls",
            "_model_module_version": "1.5.0",
            "_model_name": "DescriptionStyleModel",
            "_view_count": null,
            "_view_module": "@jupyter-widgets/base",
            "_view_module_version": "1.2.0",
            "_view_name": "StyleView",
            "description_width": ""
          }
        },
        "bbbdc10166d9451eb329fecdffd2fcbc": {
          "model_module": "@jupyter-widgets/controls",
          "model_module_version": "1.5.0",
          "model_name": "DescriptionStyleModel",
          "state": {
            "_model_module": "@jupyter-widgets/controls",
            "_model_module_version": "1.5.0",
            "_model_name": "DescriptionStyleModel",
            "_view_count": null,
            "_view_module": "@jupyter-widgets/base",
            "_view_module_version": "1.2.0",
            "_view_name": "StyleView",
            "description_width": ""
          }
        },
        "bcd4eeac59a249459931a713918fa5ad": {
          "model_module": "@jupyter-widgets/base",
          "model_module_version": "1.2.0",
          "model_name": "LayoutModel",
          "state": {
            "_model_module": "@jupyter-widgets/base",
            "_model_module_version": "1.2.0",
            "_model_name": "LayoutModel",
            "_view_count": null,
            "_view_module": "@jupyter-widgets/base",
            "_view_module_version": "1.2.0",
            "_view_name": "LayoutView",
            "align_content": null,
            "align_items": null,
            "align_self": null,
            "border": null,
            "bottom": null,
            "display": null,
            "flex": null,
            "flex_flow": null,
            "grid_area": null,
            "grid_auto_columns": null,
            "grid_auto_flow": null,
            "grid_auto_rows": null,
            "grid_column": null,
            "grid_gap": null,
            "grid_row": null,
            "grid_template_areas": null,
            "grid_template_columns": null,
            "grid_template_rows": null,
            "height": null,
            "justify_content": null,
            "justify_items": null,
            "left": null,
            "margin": null,
            "max_height": null,
            "max_width": null,
            "min_height": null,
            "min_width": null,
            "object_fit": null,
            "object_position": null,
            "order": null,
            "overflow": null,
            "overflow_x": null,
            "overflow_y": null,
            "padding": null,
            "right": null,
            "top": null,
            "visibility": null,
            "width": null
          }
        },
        "be5dbf68e5564571b086a5669ccc11b9": {
          "model_module": "@jupyter-widgets/base",
          "model_module_version": "1.2.0",
          "model_name": "LayoutModel",
          "state": {
            "_model_module": "@jupyter-widgets/base",
            "_model_module_version": "1.2.0",
            "_model_name": "LayoutModel",
            "_view_count": null,
            "_view_module": "@jupyter-widgets/base",
            "_view_module_version": "1.2.0",
            "_view_name": "LayoutView",
            "align_content": null,
            "align_items": null,
            "align_self": null,
            "border": null,
            "bottom": null,
            "display": null,
            "flex": null,
            "flex_flow": null,
            "grid_area": null,
            "grid_auto_columns": null,
            "grid_auto_flow": null,
            "grid_auto_rows": null,
            "grid_column": null,
            "grid_gap": null,
            "grid_row": null,
            "grid_template_areas": null,
            "grid_template_columns": null,
            "grid_template_rows": null,
            "height": null,
            "justify_content": null,
            "justify_items": null,
            "left": null,
            "margin": null,
            "max_height": null,
            "max_width": null,
            "min_height": null,
            "min_width": null,
            "object_fit": null,
            "object_position": null,
            "order": null,
            "overflow": null,
            "overflow_x": null,
            "overflow_y": null,
            "padding": null,
            "right": null,
            "top": null,
            "visibility": null,
            "width": null
          }
        },
        "c57c40cfa9234fe295cfe672d4a4292d": {
          "model_module": "@jupyter-widgets/base",
          "model_module_version": "1.2.0",
          "model_name": "LayoutModel",
          "state": {
            "_model_module": "@jupyter-widgets/base",
            "_model_module_version": "1.2.0",
            "_model_name": "LayoutModel",
            "_view_count": null,
            "_view_module": "@jupyter-widgets/base",
            "_view_module_version": "1.2.0",
            "_view_name": "LayoutView",
            "align_content": null,
            "align_items": null,
            "align_self": null,
            "border": null,
            "bottom": null,
            "display": null,
            "flex": null,
            "flex_flow": null,
            "grid_area": null,
            "grid_auto_columns": null,
            "grid_auto_flow": null,
            "grid_auto_rows": null,
            "grid_column": null,
            "grid_gap": null,
            "grid_row": null,
            "grid_template_areas": null,
            "grid_template_columns": null,
            "grid_template_rows": null,
            "height": null,
            "justify_content": null,
            "justify_items": null,
            "left": null,
            "margin": null,
            "max_height": null,
            "max_width": null,
            "min_height": null,
            "min_width": null,
            "object_fit": null,
            "object_position": null,
            "order": null,
            "overflow": null,
            "overflow_x": null,
            "overflow_y": null,
            "padding": null,
            "right": null,
            "top": null,
            "visibility": null,
            "width": null
          }
        },
        "cc2bb27b20e84aca8e06e6388cd8a1a4": {
          "model_module": "@jupyter-widgets/controls",
          "model_module_version": "1.5.0",
          "model_name": "HTMLModel",
          "state": {
            "_dom_classes": [],
            "_model_module": "@jupyter-widgets/controls",
            "_model_module_version": "1.5.0",
            "_model_name": "HTMLModel",
            "_view_count": null,
            "_view_module": "@jupyter-widgets/controls",
            "_view_module_version": "1.5.0",
            "_view_name": "HTMLView",
            "description": "",
            "description_tooltip": null,
            "layout": "IPY_MODEL_ae106dd1c0e343779fe61d4e207489e9",
            "placeholder": "​",
            "style": "IPY_MODEL_bbbdc10166d9451eb329fecdffd2fcbc",
            "value": "100%"
          }
        },
        "d266480f77b8499eac2079d9d12b7ffb": {
          "model_module": "@jupyter-widgets/controls",
          "model_module_version": "1.5.0",
          "model_name": "DescriptionStyleModel",
          "state": {
            "_model_module": "@jupyter-widgets/controls",
            "_model_module_version": "1.5.0",
            "_model_name": "DescriptionStyleModel",
            "_view_count": null,
            "_view_module": "@jupyter-widgets/base",
            "_view_module_version": "1.2.0",
            "_view_name": "StyleView",
            "description_width": ""
          }
        },
        "e34f3fda1d634607afe2010f79823828": {
          "model_module": "@jupyter-widgets/base",
          "model_module_version": "1.2.0",
          "model_name": "LayoutModel",
          "state": {
            "_model_module": "@jupyter-widgets/base",
            "_model_module_version": "1.2.0",
            "_model_name": "LayoutModel",
            "_view_count": null,
            "_view_module": "@jupyter-widgets/base",
            "_view_module_version": "1.2.0",
            "_view_name": "LayoutView",
            "align_content": null,
            "align_items": null,
            "align_self": null,
            "border": null,
            "bottom": null,
            "display": null,
            "flex": null,
            "flex_flow": null,
            "grid_area": null,
            "grid_auto_columns": null,
            "grid_auto_flow": null,
            "grid_auto_rows": null,
            "grid_column": null,
            "grid_gap": null,
            "grid_row": null,
            "grid_template_areas": null,
            "grid_template_columns": null,
            "grid_template_rows": null,
            "height": null,
            "justify_content": null,
            "justify_items": null,
            "left": null,
            "margin": null,
            "max_height": null,
            "max_width": null,
            "min_height": null,
            "min_width": null,
            "object_fit": null,
            "object_position": null,
            "order": null,
            "overflow": null,
            "overflow_x": null,
            "overflow_y": null,
            "padding": null,
            "right": null,
            "top": null,
            "visibility": null,
            "width": null
          }
        },
        "e39dd88ddb7e4826932579338e985a86": {
          "model_module": "@jupyter-widgets/controls",
          "model_module_version": "1.5.0",
          "model_name": "DescriptionStyleModel",
          "state": {
            "_model_module": "@jupyter-widgets/controls",
            "_model_module_version": "1.5.0",
            "_model_name": "DescriptionStyleModel",
            "_view_count": null,
            "_view_module": "@jupyter-widgets/base",
            "_view_module_version": "1.2.0",
            "_view_name": "StyleView",
            "description_width": ""
          }
        },
        "e3d36a91565d4dec84badb994549768c": {
          "model_module": "@jupyter-widgets/controls",
          "model_module_version": "1.5.0",
          "model_name": "FloatProgressModel",
          "state": {
            "_dom_classes": [],
            "_model_module": "@jupyter-widgets/controls",
            "_model_module_version": "1.5.0",
            "_model_name": "FloatProgressModel",
            "_view_count": null,
            "_view_module": "@jupyter-widgets/controls",
            "_view_module_version": "1.5.0",
            "_view_name": "ProgressView",
            "bar_style": "success",
            "description": "",
            "description_tooltip": null,
            "layout": "IPY_MODEL_0b1cf267adc54866b921f0eed23dc4e3",
            "max": 100,
            "min": 0,
            "orientation": "horizontal",
            "style": "IPY_MODEL_34882af0cf22455396b74edc4991df45",
            "value": 100
          }
        },
        "ecd63351507e4036b03faab512cd78a3": {
          "model_module": "@jupyter-widgets/controls",
          "model_module_version": "1.5.0",
          "model_name": "HBoxModel",
          "state": {
            "_dom_classes": [],
            "_model_module": "@jupyter-widgets/controls",
            "_model_module_version": "1.5.0",
            "_model_name": "HBoxModel",
            "_view_count": null,
            "_view_module": "@jupyter-widgets/controls",
            "_view_module_version": "1.5.0",
            "_view_name": "HBoxView",
            "box_style": "",
            "children": [
              "IPY_MODEL_9f1a006e53dc4d8994938937d19cbc9a",
              "IPY_MODEL_82b69ca85253490aa6c7291902902dfa",
              "IPY_MODEL_ee3aac7728dd47c9b65016c9db527d8b"
            ],
            "layout": "IPY_MODEL_c57c40cfa9234fe295cfe672d4a4292d"
          }
        },
        "ede4145613994d2ebeae1ec2f4eecd2b": {
          "model_module": "@jupyter-widgets/controls",
          "model_module_version": "1.5.0",
          "model_name": "ProgressStyleModel",
          "state": {
            "_model_module": "@jupyter-widgets/controls",
            "_model_module_version": "1.5.0",
            "_model_name": "ProgressStyleModel",
            "_view_count": null,
            "_view_module": "@jupyter-widgets/base",
            "_view_module_version": "1.2.0",
            "_view_name": "StyleView",
            "bar_color": null,
            "description_width": ""
          }
        },
        "ee3aac7728dd47c9b65016c9db527d8b": {
          "model_module": "@jupyter-widgets/controls",
          "model_module_version": "1.5.0",
          "model_name": "HTMLModel",
          "state": {
            "_dom_classes": [],
            "_model_module": "@jupyter-widgets/controls",
            "_model_module_version": "1.5.0",
            "_model_name": "HTMLModel",
            "_view_count": null,
            "_view_module": "@jupyter-widgets/controls",
            "_view_module_version": "1.5.0",
            "_view_name": "HTMLView",
            "description": "",
            "description_tooltip": null,
            "layout": "IPY_MODEL_1327aa0d5ff44819a12ba8f85ee540b3",
            "placeholder": "​",
            "style": "IPY_MODEL_9ad84a8fb6944e2b9b49c8736618c1a8",
            "value": " 100/100 [00:00&lt;00:00, 1510.89it/s]"
          }
        },
        "f81267af6c7b4277b931badfc2f0c962": {
          "model_module": "@jupyter-widgets/controls",
          "model_module_version": "1.5.0",
          "model_name": "HBoxModel",
          "state": {
            "_dom_classes": [],
            "_model_module": "@jupyter-widgets/controls",
            "_model_module_version": "1.5.0",
            "_model_name": "HBoxModel",
            "_view_count": null,
            "_view_module": "@jupyter-widgets/controls",
            "_view_module_version": "1.5.0",
            "_view_name": "HBoxView",
            "box_style": "",
            "children": [
              "IPY_MODEL_cc2bb27b20e84aca8e06e6388cd8a1a4",
              "IPY_MODEL_e3d36a91565d4dec84badb994549768c",
              "IPY_MODEL_0452c0dff9e84ab381bd449e1dbd6a09"
            ],
            "layout": "IPY_MODEL_b3b05db790a749739b08f1820d61a356"
          }
        },
        "f97de8afbb6347dc9f722e812aae402d": {
          "model_module": "@jupyter-widgets/base",
          "model_module_version": "1.2.0",
          "model_name": "LayoutModel",
          "state": {
            "_model_module": "@jupyter-widgets/base",
            "_model_module_version": "1.2.0",
            "_model_name": "LayoutModel",
            "_view_count": null,
            "_view_module": "@jupyter-widgets/base",
            "_view_module_version": "1.2.0",
            "_view_name": "LayoutView",
            "align_content": null,
            "align_items": null,
            "align_self": null,
            "border": null,
            "bottom": null,
            "display": null,
            "flex": null,
            "flex_flow": null,
            "grid_area": null,
            "grid_auto_columns": null,
            "grid_auto_flow": null,
            "grid_auto_rows": null,
            "grid_column": null,
            "grid_gap": null,
            "grid_row": null,
            "grid_template_areas": null,
            "grid_template_columns": null,
            "grid_template_rows": null,
            "height": null,
            "justify_content": null,
            "justify_items": null,
            "left": null,
            "margin": null,
            "max_height": null,
            "max_width": null,
            "min_height": null,
            "min_width": null,
            "object_fit": null,
            "object_position": null,
            "order": null,
            "overflow": null,
            "overflow_x": null,
            "overflow_y": null,
            "padding": null,
            "right": null,
            "top": null,
            "visibility": null,
            "width": null
          }
        }
      }
    }
  },
  "nbformat": 4,
  "nbformat_minor": 0
}

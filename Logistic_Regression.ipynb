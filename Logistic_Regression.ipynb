{
  "nbformat": 4,
  "nbformat_minor": 0,
  "metadata": {
    "colab": {
      "provenance": [],
      "collapsed_sections": []
    },
    "kernelspec": {
      "name": "python3",
      "display_name": "Python 3"
    },
    "language_info": {
      "name": "python"
    },
    "widgets": {
      "application/vnd.jupyter.widget-state+json": {
        "ecd63351507e4036b03faab512cd78a3": {
          "model_module": "@jupyter-widgets/controls",
          "model_name": "HBoxModel",
          "model_module_version": "1.5.0",
          "state": {
            "_dom_classes": [],
            "_model_module": "@jupyter-widgets/controls",
            "_model_module_version": "1.5.0",
            "_model_name": "HBoxModel",
            "_view_count": null,
            "_view_module": "@jupyter-widgets/controls",
            "_view_module_version": "1.5.0",
            "_view_name": "HBoxView",
            "box_style": "",
            "children": [
              "IPY_MODEL_9f1a006e53dc4d8994938937d19cbc9a",
              "IPY_MODEL_82b69ca85253490aa6c7291902902dfa",
              "IPY_MODEL_ee3aac7728dd47c9b65016c9db527d8b"
            ],
            "layout": "IPY_MODEL_c57c40cfa9234fe295cfe672d4a4292d"
          }
        },
        "9f1a006e53dc4d8994938937d19cbc9a": {
          "model_module": "@jupyter-widgets/controls",
          "model_name": "HTMLModel",
          "model_module_version": "1.5.0",
          "state": {
            "_dom_classes": [],
            "_model_module": "@jupyter-widgets/controls",
            "_model_module_version": "1.5.0",
            "_model_name": "HTMLModel",
            "_view_count": null,
            "_view_module": "@jupyter-widgets/controls",
            "_view_module_version": "1.5.0",
            "_view_name": "HTMLView",
            "description": "",
            "description_tooltip": null,
            "layout": "IPY_MODEL_be5dbf68e5564571b086a5669ccc11b9",
            "placeholder": "​",
            "style": "IPY_MODEL_4c43986391044abeb6615516efba7886",
            "value": "100%"
          }
        },
        "82b69ca85253490aa6c7291902902dfa": {
          "model_module": "@jupyter-widgets/controls",
          "model_name": "FloatProgressModel",
          "model_module_version": "1.5.0",
          "state": {
            "_dom_classes": [],
            "_model_module": "@jupyter-widgets/controls",
            "_model_module_version": "1.5.0",
            "_model_name": "FloatProgressModel",
            "_view_count": null,
            "_view_module": "@jupyter-widgets/controls",
            "_view_module_version": "1.5.0",
            "_view_name": "ProgressView",
            "bar_style": "success",
            "description": "",
            "description_tooltip": null,
            "layout": "IPY_MODEL_e34f3fda1d634607afe2010f79823828",
            "max": 100,
            "min": 0,
            "orientation": "horizontal",
            "style": "IPY_MODEL_1e8d669ebcb7441792230fdc1b02acba",
            "value": 100
          }
        },
        "ee3aac7728dd47c9b65016c9db527d8b": {
          "model_module": "@jupyter-widgets/controls",
          "model_name": "HTMLModel",
          "model_module_version": "1.5.0",
          "state": {
            "_dom_classes": [],
            "_model_module": "@jupyter-widgets/controls",
            "_model_module_version": "1.5.0",
            "_model_name": "HTMLModel",
            "_view_count": null,
            "_view_module": "@jupyter-widgets/controls",
            "_view_module_version": "1.5.0",
            "_view_name": "HTMLView",
            "description": "",
            "description_tooltip": null,
            "layout": "IPY_MODEL_1327aa0d5ff44819a12ba8f85ee540b3",
            "placeholder": "​",
            "style": "IPY_MODEL_9ad84a8fb6944e2b9b49c8736618c1a8",
            "value": " 100/100 [00:00&lt;00:00, 1510.89it/s]"
          }
        },
        "c57c40cfa9234fe295cfe672d4a4292d": {
          "model_module": "@jupyter-widgets/base",
          "model_name": "LayoutModel",
          "model_module_version": "1.2.0",
          "state": {
            "_model_module": "@jupyter-widgets/base",
            "_model_module_version": "1.2.0",
            "_model_name": "LayoutModel",
            "_view_count": null,
            "_view_module": "@jupyter-widgets/base",
            "_view_module_version": "1.2.0",
            "_view_name": "LayoutView",
            "align_content": null,
            "align_items": null,
            "align_self": null,
            "border": null,
            "bottom": null,
            "display": null,
            "flex": null,
            "flex_flow": null,
            "grid_area": null,
            "grid_auto_columns": null,
            "grid_auto_flow": null,
            "grid_auto_rows": null,
            "grid_column": null,
            "grid_gap": null,
            "grid_row": null,
            "grid_template_areas": null,
            "grid_template_columns": null,
            "grid_template_rows": null,
            "height": null,
            "justify_content": null,
            "justify_items": null,
            "left": null,
            "margin": null,
            "max_height": null,
            "max_width": null,
            "min_height": null,
            "min_width": null,
            "object_fit": null,
            "object_position": null,
            "order": null,
            "overflow": null,
            "overflow_x": null,
            "overflow_y": null,
            "padding": null,
            "right": null,
            "top": null,
            "visibility": null,
            "width": null
          }
        },
        "be5dbf68e5564571b086a5669ccc11b9": {
          "model_module": "@jupyter-widgets/base",
          "model_name": "LayoutModel",
          "model_module_version": "1.2.0",
          "state": {
            "_model_module": "@jupyter-widgets/base",
            "_model_module_version": "1.2.0",
            "_model_name": "LayoutModel",
            "_view_count": null,
            "_view_module": "@jupyter-widgets/base",
            "_view_module_version": "1.2.0",
            "_view_name": "LayoutView",
            "align_content": null,
            "align_items": null,
            "align_self": null,
            "border": null,
            "bottom": null,
            "display": null,
            "flex": null,
            "flex_flow": null,
            "grid_area": null,
            "grid_auto_columns": null,
            "grid_auto_flow": null,
            "grid_auto_rows": null,
            "grid_column": null,
            "grid_gap": null,
            "grid_row": null,
            "grid_template_areas": null,
            "grid_template_columns": null,
            "grid_template_rows": null,
            "height": null,
            "justify_content": null,
            "justify_items": null,
            "left": null,
            "margin": null,
            "max_height": null,
            "max_width": null,
            "min_height": null,
            "min_width": null,
            "object_fit": null,
            "object_position": null,
            "order": null,
            "overflow": null,
            "overflow_x": null,
            "overflow_y": null,
            "padding": null,
            "right": null,
            "top": null,
            "visibility": null,
            "width": null
          }
        },
        "4c43986391044abeb6615516efba7886": {
          "model_module": "@jupyter-widgets/controls",
          "model_name": "DescriptionStyleModel",
          "model_module_version": "1.5.0",
          "state": {
            "_model_module": "@jupyter-widgets/controls",
            "_model_module_version": "1.5.0",
            "_model_name": "DescriptionStyleModel",
            "_view_count": null,
            "_view_module": "@jupyter-widgets/base",
            "_view_module_version": "1.2.0",
            "_view_name": "StyleView",
            "description_width": ""
          }
        },
        "e34f3fda1d634607afe2010f79823828": {
          "model_module": "@jupyter-widgets/base",
          "model_name": "LayoutModel",
          "model_module_version": "1.2.0",
          "state": {
            "_model_module": "@jupyter-widgets/base",
            "_model_module_version": "1.2.0",
            "_model_name": "LayoutModel",
            "_view_count": null,
            "_view_module": "@jupyter-widgets/base",
            "_view_module_version": "1.2.0",
            "_view_name": "LayoutView",
            "align_content": null,
            "align_items": null,
            "align_self": null,
            "border": null,
            "bottom": null,
            "display": null,
            "flex": null,
            "flex_flow": null,
            "grid_area": null,
            "grid_auto_columns": null,
            "grid_auto_flow": null,
            "grid_auto_rows": null,
            "grid_column": null,
            "grid_gap": null,
            "grid_row": null,
            "grid_template_areas": null,
            "grid_template_columns": null,
            "grid_template_rows": null,
            "height": null,
            "justify_content": null,
            "justify_items": null,
            "left": null,
            "margin": null,
            "max_height": null,
            "max_width": null,
            "min_height": null,
            "min_width": null,
            "object_fit": null,
            "object_position": null,
            "order": null,
            "overflow": null,
            "overflow_x": null,
            "overflow_y": null,
            "padding": null,
            "right": null,
            "top": null,
            "visibility": null,
            "width": null
          }
        },
        "1e8d669ebcb7441792230fdc1b02acba": {
          "model_module": "@jupyter-widgets/controls",
          "model_name": "ProgressStyleModel",
          "model_module_version": "1.5.0",
          "state": {
            "_model_module": "@jupyter-widgets/controls",
            "_model_module_version": "1.5.0",
            "_model_name": "ProgressStyleModel",
            "_view_count": null,
            "_view_module": "@jupyter-widgets/base",
            "_view_module_version": "1.2.0",
            "_view_name": "StyleView",
            "bar_color": null,
            "description_width": ""
          }
        },
        "1327aa0d5ff44819a12ba8f85ee540b3": {
          "model_module": "@jupyter-widgets/base",
          "model_name": "LayoutModel",
          "model_module_version": "1.2.0",
          "state": {
            "_model_module": "@jupyter-widgets/base",
            "_model_module_version": "1.2.0",
            "_model_name": "LayoutModel",
            "_view_count": null,
            "_view_module": "@jupyter-widgets/base",
            "_view_module_version": "1.2.0",
            "_view_name": "LayoutView",
            "align_content": null,
            "align_items": null,
            "align_self": null,
            "border": null,
            "bottom": null,
            "display": null,
            "flex": null,
            "flex_flow": null,
            "grid_area": null,
            "grid_auto_columns": null,
            "grid_auto_flow": null,
            "grid_auto_rows": null,
            "grid_column": null,
            "grid_gap": null,
            "grid_row": null,
            "grid_template_areas": null,
            "grid_template_columns": null,
            "grid_template_rows": null,
            "height": null,
            "justify_content": null,
            "justify_items": null,
            "left": null,
            "margin": null,
            "max_height": null,
            "max_width": null,
            "min_height": null,
            "min_width": null,
            "object_fit": null,
            "object_position": null,
            "order": null,
            "overflow": null,
            "overflow_x": null,
            "overflow_y": null,
            "padding": null,
            "right": null,
            "top": null,
            "visibility": null,
            "width": null
          }
        },
        "9ad84a8fb6944e2b9b49c8736618c1a8": {
          "model_module": "@jupyter-widgets/controls",
          "model_name": "DescriptionStyleModel",
          "model_module_version": "1.5.0",
          "state": {
            "_model_module": "@jupyter-widgets/controls",
            "_model_module_version": "1.5.0",
            "_model_name": "DescriptionStyleModel",
            "_view_count": null,
            "_view_module": "@jupyter-widgets/base",
            "_view_module_version": "1.2.0",
            "_view_name": "StyleView",
            "description_width": ""
          }
        },
        "f81267af6c7b4277b931badfc2f0c962": {
          "model_module": "@jupyter-widgets/controls",
          "model_name": "HBoxModel",
          "model_module_version": "1.5.0",
          "state": {
            "_dom_classes": [],
            "_model_module": "@jupyter-widgets/controls",
            "_model_module_version": "1.5.0",
            "_model_name": "HBoxModel",
            "_view_count": null,
            "_view_module": "@jupyter-widgets/controls",
            "_view_module_version": "1.5.0",
            "_view_name": "HBoxView",
            "box_style": "",
            "children": [
              "IPY_MODEL_cc2bb27b20e84aca8e06e6388cd8a1a4",
              "IPY_MODEL_e3d36a91565d4dec84badb994549768c",
              "IPY_MODEL_0452c0dff9e84ab381bd449e1dbd6a09"
            ],
            "layout": "IPY_MODEL_b3b05db790a749739b08f1820d61a356"
          }
        },
        "cc2bb27b20e84aca8e06e6388cd8a1a4": {
          "model_module": "@jupyter-widgets/controls",
          "model_name": "HTMLModel",
          "model_module_version": "1.5.0",
          "state": {
            "_dom_classes": [],
            "_model_module": "@jupyter-widgets/controls",
            "_model_module_version": "1.5.0",
            "_model_name": "HTMLModel",
            "_view_count": null,
            "_view_module": "@jupyter-widgets/controls",
            "_view_module_version": "1.5.0",
            "_view_name": "HTMLView",
            "description": "",
            "description_tooltip": null,
            "layout": "IPY_MODEL_ae106dd1c0e343779fe61d4e207489e9",
            "placeholder": "​",
            "style": "IPY_MODEL_bbbdc10166d9451eb329fecdffd2fcbc",
            "value": "100%"
          }
        },
        "e3d36a91565d4dec84badb994549768c": {
          "model_module": "@jupyter-widgets/controls",
          "model_name": "FloatProgressModel",
          "model_module_version": "1.5.0",
          "state": {
            "_dom_classes": [],
            "_model_module": "@jupyter-widgets/controls",
            "_model_module_version": "1.5.0",
            "_model_name": "FloatProgressModel",
            "_view_count": null,
            "_view_module": "@jupyter-widgets/controls",
            "_view_module_version": "1.5.0",
            "_view_name": "ProgressView",
            "bar_style": "success",
            "description": "",
            "description_tooltip": null,
            "layout": "IPY_MODEL_0b1cf267adc54866b921f0eed23dc4e3",
            "max": 100,
            "min": 0,
            "orientation": "horizontal",
            "style": "IPY_MODEL_34882af0cf22455396b74edc4991df45",
            "value": 100
          }
        },
        "0452c0dff9e84ab381bd449e1dbd6a09": {
          "model_module": "@jupyter-widgets/controls",
          "model_name": "HTMLModel",
          "model_module_version": "1.5.0",
          "state": {
            "_dom_classes": [],
            "_model_module": "@jupyter-widgets/controls",
            "_model_module_version": "1.5.0",
            "_model_name": "HTMLModel",
            "_view_count": null,
            "_view_module": "@jupyter-widgets/controls",
            "_view_module_version": "1.5.0",
            "_view_name": "HTMLView",
            "description": "",
            "description_tooltip": null,
            "layout": "IPY_MODEL_bcd4eeac59a249459931a713918fa5ad",
            "placeholder": "​",
            "style": "IPY_MODEL_bab91f8de37f4fbeb856e125faf9afa2",
            "value": " 100/100 [00:00&lt;00:00, 829.45it/s]"
          }
        },
        "b3b05db790a749739b08f1820d61a356": {
          "model_module": "@jupyter-widgets/base",
          "model_name": "LayoutModel",
          "model_module_version": "1.2.0",
          "state": {
            "_model_module": "@jupyter-widgets/base",
            "_model_module_version": "1.2.0",
            "_model_name": "LayoutModel",
            "_view_count": null,
            "_view_module": "@jupyter-widgets/base",
            "_view_module_version": "1.2.0",
            "_view_name": "LayoutView",
            "align_content": null,
            "align_items": null,
            "align_self": null,
            "border": null,
            "bottom": null,
            "display": null,
            "flex": null,
            "flex_flow": null,
            "grid_area": null,
            "grid_auto_columns": null,
            "grid_auto_flow": null,
            "grid_auto_rows": null,
            "grid_column": null,
            "grid_gap": null,
            "grid_row": null,
            "grid_template_areas": null,
            "grid_template_columns": null,
            "grid_template_rows": null,
            "height": null,
            "justify_content": null,
            "justify_items": null,
            "left": null,
            "margin": null,
            "max_height": null,
            "max_width": null,
            "min_height": null,
            "min_width": null,
            "object_fit": null,
            "object_position": null,
            "order": null,
            "overflow": null,
            "overflow_x": null,
            "overflow_y": null,
            "padding": null,
            "right": null,
            "top": null,
            "visibility": null,
            "width": null
          }
        },
        "ae106dd1c0e343779fe61d4e207489e9": {
          "model_module": "@jupyter-widgets/base",
          "model_name": "LayoutModel",
          "model_module_version": "1.2.0",
          "state": {
            "_model_module": "@jupyter-widgets/base",
            "_model_module_version": "1.2.0",
            "_model_name": "LayoutModel",
            "_view_count": null,
            "_view_module": "@jupyter-widgets/base",
            "_view_module_version": "1.2.0",
            "_view_name": "LayoutView",
            "align_content": null,
            "align_items": null,
            "align_self": null,
            "border": null,
            "bottom": null,
            "display": null,
            "flex": null,
            "flex_flow": null,
            "grid_area": null,
            "grid_auto_columns": null,
            "grid_auto_flow": null,
            "grid_auto_rows": null,
            "grid_column": null,
            "grid_gap": null,
            "grid_row": null,
            "grid_template_areas": null,
            "grid_template_columns": null,
            "grid_template_rows": null,
            "height": null,
            "justify_content": null,
            "justify_items": null,
            "left": null,
            "margin": null,
            "max_height": null,
            "max_width": null,
            "min_height": null,
            "min_width": null,
            "object_fit": null,
            "object_position": null,
            "order": null,
            "overflow": null,
            "overflow_x": null,
            "overflow_y": null,
            "padding": null,
            "right": null,
            "top": null,
            "visibility": null,
            "width": null
          }
        },
        "bbbdc10166d9451eb329fecdffd2fcbc": {
          "model_module": "@jupyter-widgets/controls",
          "model_name": "DescriptionStyleModel",
          "model_module_version": "1.5.0",
          "state": {
            "_model_module": "@jupyter-widgets/controls",
            "_model_module_version": "1.5.0",
            "_model_name": "DescriptionStyleModel",
            "_view_count": null,
            "_view_module": "@jupyter-widgets/base",
            "_view_module_version": "1.2.0",
            "_view_name": "StyleView",
            "description_width": ""
          }
        },
        "0b1cf267adc54866b921f0eed23dc4e3": {
          "model_module": "@jupyter-widgets/base",
          "model_name": "LayoutModel",
          "model_module_version": "1.2.0",
          "state": {
            "_model_module": "@jupyter-widgets/base",
            "_model_module_version": "1.2.0",
            "_model_name": "LayoutModel",
            "_view_count": null,
            "_view_module": "@jupyter-widgets/base",
            "_view_module_version": "1.2.0",
            "_view_name": "LayoutView",
            "align_content": null,
            "align_items": null,
            "align_self": null,
            "border": null,
            "bottom": null,
            "display": null,
            "flex": null,
            "flex_flow": null,
            "grid_area": null,
            "grid_auto_columns": null,
            "grid_auto_flow": null,
            "grid_auto_rows": null,
            "grid_column": null,
            "grid_gap": null,
            "grid_row": null,
            "grid_template_areas": null,
            "grid_template_columns": null,
            "grid_template_rows": null,
            "height": null,
            "justify_content": null,
            "justify_items": null,
            "left": null,
            "margin": null,
            "max_height": null,
            "max_width": null,
            "min_height": null,
            "min_width": null,
            "object_fit": null,
            "object_position": null,
            "order": null,
            "overflow": null,
            "overflow_x": null,
            "overflow_y": null,
            "padding": null,
            "right": null,
            "top": null,
            "visibility": null,
            "width": null
          }
        },
        "34882af0cf22455396b74edc4991df45": {
          "model_module": "@jupyter-widgets/controls",
          "model_name": "ProgressStyleModel",
          "model_module_version": "1.5.0",
          "state": {
            "_model_module": "@jupyter-widgets/controls",
            "_model_module_version": "1.5.0",
            "_model_name": "ProgressStyleModel",
            "_view_count": null,
            "_view_module": "@jupyter-widgets/base",
            "_view_module_version": "1.2.0",
            "_view_name": "StyleView",
            "bar_color": null,
            "description_width": ""
          }
        },
        "bcd4eeac59a249459931a713918fa5ad": {
          "model_module": "@jupyter-widgets/base",
          "model_name": "LayoutModel",
          "model_module_version": "1.2.0",
          "state": {
            "_model_module": "@jupyter-widgets/base",
            "_model_module_version": "1.2.0",
            "_model_name": "LayoutModel",
            "_view_count": null,
            "_view_module": "@jupyter-widgets/base",
            "_view_module_version": "1.2.0",
            "_view_name": "LayoutView",
            "align_content": null,
            "align_items": null,
            "align_self": null,
            "border": null,
            "bottom": null,
            "display": null,
            "flex": null,
            "flex_flow": null,
            "grid_area": null,
            "grid_auto_columns": null,
            "grid_auto_flow": null,
            "grid_auto_rows": null,
            "grid_column": null,
            "grid_gap": null,
            "grid_row": null,
            "grid_template_areas": null,
            "grid_template_columns": null,
            "grid_template_rows": null,
            "height": null,
            "justify_content": null,
            "justify_items": null,
            "left": null,
            "margin": null,
            "max_height": null,
            "max_width": null,
            "min_height": null,
            "min_width": null,
            "object_fit": null,
            "object_position": null,
            "order": null,
            "overflow": null,
            "overflow_x": null,
            "overflow_y": null,
            "padding": null,
            "right": null,
            "top": null,
            "visibility": null,
            "width": null
          }
        },
        "bab91f8de37f4fbeb856e125faf9afa2": {
          "model_module": "@jupyter-widgets/controls",
          "model_name": "DescriptionStyleModel",
          "model_module_version": "1.5.0",
          "state": {
            "_model_module": "@jupyter-widgets/controls",
            "_model_module_version": "1.5.0",
            "_model_name": "DescriptionStyleModel",
            "_view_count": null,
            "_view_module": "@jupyter-widgets/base",
            "_view_module_version": "1.2.0",
            "_view_name": "StyleView",
            "description_width": ""
          }
        },
        "78686c6b76fb4483a29002ec0a973bb3": {
          "model_module": "@jupyter-widgets/controls",
          "model_name": "HBoxModel",
          "model_module_version": "1.5.0",
          "state": {
            "_dom_classes": [],
            "_model_module": "@jupyter-widgets/controls",
            "_model_module_version": "1.5.0",
            "_model_name": "HBoxModel",
            "_view_count": null,
            "_view_module": "@jupyter-widgets/controls",
            "_view_module_version": "1.5.0",
            "_view_name": "HBoxView",
            "box_style": "",
            "children": [
              "IPY_MODEL_8e13e9c8cc214e798082261c1b75d60d",
              "IPY_MODEL_1d0b58ecbf0743fd963f3a89c8a0d456",
              "IPY_MODEL_100bade58a7d49e683875a090d6cb552"
            ],
            "layout": "IPY_MODEL_ab2af4b4284845f9ba4ba7fa936d7e9b"
          }
        },
        "8e13e9c8cc214e798082261c1b75d60d": {
          "model_module": "@jupyter-widgets/controls",
          "model_name": "HTMLModel",
          "model_module_version": "1.5.0",
          "state": {
            "_dom_classes": [],
            "_model_module": "@jupyter-widgets/controls",
            "_model_module_version": "1.5.0",
            "_model_name": "HTMLModel",
            "_view_count": null,
            "_view_module": "@jupyter-widgets/controls",
            "_view_module_version": "1.5.0",
            "_view_name": "HTMLView",
            "description": "",
            "description_tooltip": null,
            "layout": "IPY_MODEL_f97de8afbb6347dc9f722e812aae402d",
            "placeholder": "​",
            "style": "IPY_MODEL_d266480f77b8499eac2079d9d12b7ffb",
            "value": "100%"
          }
        },
        "1d0b58ecbf0743fd963f3a89c8a0d456": {
          "model_module": "@jupyter-widgets/controls",
          "model_name": "FloatProgressModel",
          "model_module_version": "1.5.0",
          "state": {
            "_dom_classes": [],
            "_model_module": "@jupyter-widgets/controls",
            "_model_module_version": "1.5.0",
            "_model_name": "FloatProgressModel",
            "_view_count": null,
            "_view_module": "@jupyter-widgets/controls",
            "_view_module_version": "1.5.0",
            "_view_name": "ProgressView",
            "bar_style": "success",
            "description": "",
            "description_tooltip": null,
            "layout": "IPY_MODEL_0828b73ac025434997206d035587ae63",
            "max": 100,
            "min": 0,
            "orientation": "horizontal",
            "style": "IPY_MODEL_ede4145613994d2ebeae1ec2f4eecd2b",
            "value": 100
          }
        },
        "100bade58a7d49e683875a090d6cb552": {
          "model_module": "@jupyter-widgets/controls",
          "model_name": "HTMLModel",
          "model_module_version": "1.5.0",
          "state": {
            "_dom_classes": [],
            "_model_module": "@jupyter-widgets/controls",
            "_model_module_version": "1.5.0",
            "_model_name": "HTMLModel",
            "_view_count": null,
            "_view_module": "@jupyter-widgets/controls",
            "_view_module_version": "1.5.0",
            "_view_name": "HTMLView",
            "description": "",
            "description_tooltip": null,
            "layout": "IPY_MODEL_6c132e0050304d5e9fbfeba833b81d4c",
            "placeholder": "​",
            "style": "IPY_MODEL_e39dd88ddb7e4826932579338e985a86",
            "value": " 100/100 [00:00&lt;00:00, 1154.77it/s]"
          }
        },
        "ab2af4b4284845f9ba4ba7fa936d7e9b": {
          "model_module": "@jupyter-widgets/base",
          "model_name": "LayoutModel",
          "model_module_version": "1.2.0",
          "state": {
            "_model_module": "@jupyter-widgets/base",
            "_model_module_version": "1.2.0",
            "_model_name": "LayoutModel",
            "_view_count": null,
            "_view_module": "@jupyter-widgets/base",
            "_view_module_version": "1.2.0",
            "_view_name": "LayoutView",
            "align_content": null,
            "align_items": null,
            "align_self": null,
            "border": null,
            "bottom": null,
            "display": null,
            "flex": null,
            "flex_flow": null,
            "grid_area": null,
            "grid_auto_columns": null,
            "grid_auto_flow": null,
            "grid_auto_rows": null,
            "grid_column": null,
            "grid_gap": null,
            "grid_row": null,
            "grid_template_areas": null,
            "grid_template_columns": null,
            "grid_template_rows": null,
            "height": null,
            "justify_content": null,
            "justify_items": null,
            "left": null,
            "margin": null,
            "max_height": null,
            "max_width": null,
            "min_height": null,
            "min_width": null,
            "object_fit": null,
            "object_position": null,
            "order": null,
            "overflow": null,
            "overflow_x": null,
            "overflow_y": null,
            "padding": null,
            "right": null,
            "top": null,
            "visibility": null,
            "width": null
          }
        },
        "f97de8afbb6347dc9f722e812aae402d": {
          "model_module": "@jupyter-widgets/base",
          "model_name": "LayoutModel",
          "model_module_version": "1.2.0",
          "state": {
            "_model_module": "@jupyter-widgets/base",
            "_model_module_version": "1.2.0",
            "_model_name": "LayoutModel",
            "_view_count": null,
            "_view_module": "@jupyter-widgets/base",
            "_view_module_version": "1.2.0",
            "_view_name": "LayoutView",
            "align_content": null,
            "align_items": null,
            "align_self": null,
            "border": null,
            "bottom": null,
            "display": null,
            "flex": null,
            "flex_flow": null,
            "grid_area": null,
            "grid_auto_columns": null,
            "grid_auto_flow": null,
            "grid_auto_rows": null,
            "grid_column": null,
            "grid_gap": null,
            "grid_row": null,
            "grid_template_areas": null,
            "grid_template_columns": null,
            "grid_template_rows": null,
            "height": null,
            "justify_content": null,
            "justify_items": null,
            "left": null,
            "margin": null,
            "max_height": null,
            "max_width": null,
            "min_height": null,
            "min_width": null,
            "object_fit": null,
            "object_position": null,
            "order": null,
            "overflow": null,
            "overflow_x": null,
            "overflow_y": null,
            "padding": null,
            "right": null,
            "top": null,
            "visibility": null,
            "width": null
          }
        },
        "d266480f77b8499eac2079d9d12b7ffb": {
          "model_module": "@jupyter-widgets/controls",
          "model_name": "DescriptionStyleModel",
          "model_module_version": "1.5.0",
          "state": {
            "_model_module": "@jupyter-widgets/controls",
            "_model_module_version": "1.5.0",
            "_model_name": "DescriptionStyleModel",
            "_view_count": null,
            "_view_module": "@jupyter-widgets/base",
            "_view_module_version": "1.2.0",
            "_view_name": "StyleView",
            "description_width": ""
          }
        },
        "0828b73ac025434997206d035587ae63": {
          "model_module": "@jupyter-widgets/base",
          "model_name": "LayoutModel",
          "model_module_version": "1.2.0",
          "state": {
            "_model_module": "@jupyter-widgets/base",
            "_model_module_version": "1.2.0",
            "_model_name": "LayoutModel",
            "_view_count": null,
            "_view_module": "@jupyter-widgets/base",
            "_view_module_version": "1.2.0",
            "_view_name": "LayoutView",
            "align_content": null,
            "align_items": null,
            "align_self": null,
            "border": null,
            "bottom": null,
            "display": null,
            "flex": null,
            "flex_flow": null,
            "grid_area": null,
            "grid_auto_columns": null,
            "grid_auto_flow": null,
            "grid_auto_rows": null,
            "grid_column": null,
            "grid_gap": null,
            "grid_row": null,
            "grid_template_areas": null,
            "grid_template_columns": null,
            "grid_template_rows": null,
            "height": null,
            "justify_content": null,
            "justify_items": null,
            "left": null,
            "margin": null,
            "max_height": null,
            "max_width": null,
            "min_height": null,
            "min_width": null,
            "object_fit": null,
            "object_position": null,
            "order": null,
            "overflow": null,
            "overflow_x": null,
            "overflow_y": null,
            "padding": null,
            "right": null,
            "top": null,
            "visibility": null,
            "width": null
          }
        },
        "ede4145613994d2ebeae1ec2f4eecd2b": {
          "model_module": "@jupyter-widgets/controls",
          "model_name": "ProgressStyleModel",
          "model_module_version": "1.5.0",
          "state": {
            "_model_module": "@jupyter-widgets/controls",
            "_model_module_version": "1.5.0",
            "_model_name": "ProgressStyleModel",
            "_view_count": null,
            "_view_module": "@jupyter-widgets/base",
            "_view_module_version": "1.2.0",
            "_view_name": "StyleView",
            "bar_color": null,
            "description_width": ""
          }
        },
        "6c132e0050304d5e9fbfeba833b81d4c": {
          "model_module": "@jupyter-widgets/base",
          "model_name": "LayoutModel",
          "model_module_version": "1.2.0",
          "state": {
            "_model_module": "@jupyter-widgets/base",
            "_model_module_version": "1.2.0",
            "_model_name": "LayoutModel",
            "_view_count": null,
            "_view_module": "@jupyter-widgets/base",
            "_view_module_version": "1.2.0",
            "_view_name": "LayoutView",
            "align_content": null,
            "align_items": null,
            "align_self": null,
            "border": null,
            "bottom": null,
            "display": null,
            "flex": null,
            "flex_flow": null,
            "grid_area": null,
            "grid_auto_columns": null,
            "grid_auto_flow": null,
            "grid_auto_rows": null,
            "grid_column": null,
            "grid_gap": null,
            "grid_row": null,
            "grid_template_areas": null,
            "grid_template_columns": null,
            "grid_template_rows": null,
            "height": null,
            "justify_content": null,
            "justify_items": null,
            "left": null,
            "margin": null,
            "max_height": null,
            "max_width": null,
            "min_height": null,
            "min_width": null,
            "object_fit": null,
            "object_position": null,
            "order": null,
            "overflow": null,
            "overflow_x": null,
            "overflow_y": null,
            "padding": null,
            "right": null,
            "top": null,
            "visibility": null,
            "width": null
          }
        },
        "e39dd88ddb7e4826932579338e985a86": {
          "model_module": "@jupyter-widgets/controls",
          "model_name": "DescriptionStyleModel",
          "model_module_version": "1.5.0",
          "state": {
            "_model_module": "@jupyter-widgets/controls",
            "_model_module_version": "1.5.0",
            "_model_name": "DescriptionStyleModel",
            "_view_count": null,
            "_view_module": "@jupyter-widgets/base",
            "_view_module_version": "1.2.0",
            "_view_name": "StyleView",
            "description_width": ""
          }
        }
      }
    }
  },
  "cells": [
    {
      "cell_type": "code",
      "execution_count": 1,
      "metadata": {
        "colab": {
          "base_uri": "https://localhost:8080/"
        },
        "id": "1KFFsV8EgJ5G",
        "outputId": "a2d90584-5597-4d06-a448-13f6a11b1c9c"
      },
      "outputs": [
        {
          "output_type": "stream",
          "name": "stdout",
          "text": [
            "Downloading...\n",
            "From: https://drive.google.com/u/0/uc?id=1mWl9Z6EKJDjlOdoPu5skp6uP39Ax4gME&export=download\n",
            "To: /content/titanic.zip\n",
            "\r  0% 0.00/7.00k [00:00<?, ?B/s]\r100% 7.00k/7.00k [00:00<00:00, 10.2MB/s]\n"
          ]
        }
      ],
      "source": [
        "!gdown \"https://drive.google.com/u/0/uc?id=1mWl9Z6EKJDjlOdoPu5skp6uP39Ax4gME&export=download\""
      ]
    },
    {
      "cell_type": "code",
      "source": [
        "!unzip \"titanic.zip\""
      ],
      "metadata": {
        "colab": {
          "base_uri": "https://localhost:8080/"
        },
        "id": "uKxFsvichK20",
        "outputId": "6101a2c7-5ed6-4288-e6e5-e5a67442acc4"
      },
      "execution_count": 2,
      "outputs": [
        {
          "output_type": "stream",
          "name": "stdout",
          "text": [
            "Archive:  titanic.zip\n",
            "  inflating: titanic_modified_dataset.csv  \n"
          ]
        }
      ]
    },
    {
      "cell_type": "code",
      "source": [
        "import pandas as pd\n",
        "import numpy as np\n",
        "from tqdm.notebook import tqdm\n",
        "import matplotlib.pyplot as plt\n",
        "from sklearn.model_selection import train_test_split"
      ],
      "metadata": {
        "id": "PrApSzkVg8Ls"
      },
      "execution_count": 3,
      "outputs": []
    },
    {
      "cell_type": "code",
      "source": [
        "class LogisticRegression():\n",
        "  def __init__(self, batch_size, n_feature):\n",
        "    self.batch_size = batch_size\n",
        "    self.theta = np.random.normal(0, 0.1 , (n_feature + 1, 1))\n",
        "    \n",
        "  def sigmoid(self, z):\n",
        "    return 1 / (1 + np.exp(-z))\n",
        "\n",
        "  def loss(self, y, y_hat):\n",
        "    return (- 1 / self.batch_size) * np.sum(y * np.log(y_hat) + (1 - y) * np.log(1 - y_hat))\n",
        "\n",
        "  def gradient(self, X, y, y_hat):\n",
        "    return np.dot(X.T, (y_hat - y)) / self.batch_size \n",
        "\n",
        "  def predict(self, X):\n",
        "    z = np.dot(X, self.theta)\n",
        "    return self.sigmoid(z)\n",
        "\n",
        "  def getBatchData(self, X, y, ith_iters):\n",
        "    last_size = 0\n",
        "    if len(X) % self.batch_size == 0:\n",
        "      number_batch_size = int(len(X) / self.batch_size)\n",
        "    else:\n",
        "      number_batch_size = int(len(X) / self.batch_size) + 1\n",
        "      last_size = len(X) - self.batch_size * number_batch_size\n",
        "\n",
        "    ith_batch = ith_iters % number_batch_size\n",
        "\n",
        "    if ith_batch == number_batch_size - 1 and last_size != 0:\n",
        "      X_batch = X[ith_batch * self.batch_size : (ith_batch * self.batch_size) + last_size]\n",
        "      y_batch = y[ith_batch * self.batch_size : (ith_batch * self.batch_size) + last_size]\n",
        "    else:\n",
        "      X_batch = X[ith_batch * self.batch_size : (ith_batch + 1) * self.batch_size]\n",
        "      y_batch = y[ith_batch * self.batch_size : (ith_batch + 1) * self.batch_size]\n",
        "    return X_batch, y_batch\n",
        "  \n",
        "  def accuracy(self, y, y_hat):\n",
        "    y_hat = np.round(y_hat)\n",
        "    return np.sum(y == y_hat) / len(y)\n",
        "\n",
        "  def evaluate(self, x_val, y_val):\n",
        "    y_hat = self.predict(x_val)\n",
        "    y_hat = np.round(y_hat)\n",
        "    return np.sum(y_val == y_hat) / len(y_val)\n",
        "\n",
        "  def fit(self, X, y, n_iters, learning_rate):\n",
        "    history = {\"losses\": [], \"accs\": []}\n",
        "    for i in tqdm(range(n_iters)):\n",
        "      # get X_batch, y_batch\n",
        "      X_batch, y_batch = self.getBatchData(X, y, i)\n",
        "      # calculate y_hat\n",
        "      y_batch_hat = self.predict(X_batch)\n",
        "      # calculate loss and append to list\n",
        "      loss = self.loss(y_batch, y_batch_hat)\n",
        "      history['losses'].append(loss)\n",
        "      acc = self.accuracy(y_batch, y_batch_hat)\n",
        "      history['accs'].append(acc)\n",
        "      # calculate the gradient\n",
        "      gradient = self.gradient(X_batch, y_batch, y_batch_hat)\n",
        "      # update theta\n",
        "      self.theta -= learning_rate * gradient\n",
        "      print(f\"epoch: {i}, loss: {loss}, acc: {acc}\")\n",
        "    return history\n"
      ],
      "metadata": {
        "id": "tEk1YGNGg8HR"
      },
      "execution_count": 23,
      "outputs": []
    },
    {
      "cell_type": "markdown",
      "source": [
        "# Titanic data"
      ],
      "metadata": {
        "id": "5SfZeEh0wbWs"
      }
    },
    {
      "cell_type": "code",
      "source": [
        "path_csv = \"titanic_modified_dataset.csv\"\n",
        "titanic_data_df = pd.read_csv(path_csv)\n",
        "titanic_data_df"
      ],
      "metadata": {
        "colab": {
          "base_uri": "https://localhost:8080/",
          "height": 424
        },
        "id": "YdBd26yXg8JT",
        "outputId": "e2c34231-be07-4a92-a254-ffb145ed09a7"
      },
      "execution_count": 5,
      "outputs": [
        {
          "output_type": "execute_result",
          "data": {
            "text/plain": [
              "     PassengerId  Pclass  Sex   Age  SibSp  Parch     Fare  Embarked  Title  \\\n",
              "0              1       3    0  22.0      1      0   7.2500         0      0   \n",
              "1              2       1    1  38.0      1      0  71.2833         1      1   \n",
              "2              3       3    1  26.0      0      0   7.9250         0      2   \n",
              "3              4       1    1  35.0      1      0  53.1000         0      1   \n",
              "4              5       3    0  35.0      0      0   8.0500         0      0   \n",
              "..           ...     ...  ...   ...    ...    ...      ...       ...    ...   \n",
              "886          887       2    0  27.0      0      0  13.0000         0      5   \n",
              "887          888       1    1  19.0      0      0  30.0000         0      2   \n",
              "888          889       3    1  28.0      1      2  23.4500         0      2   \n",
              "889          890       1    0  26.0      0      0  30.0000         1      0   \n",
              "890          891       3    0  32.0      0      0   7.7500         2      0   \n",
              "\n",
              "     Survived  \n",
              "0           0  \n",
              "1           1  \n",
              "2           1  \n",
              "3           1  \n",
              "4           0  \n",
              "..        ...  \n",
              "886         0  \n",
              "887         1  \n",
              "888         0  \n",
              "889         1  \n",
              "890         0  \n",
              "\n",
              "[891 rows x 10 columns]"
            ],
            "text/html": [
              "\n",
              "  <div id=\"df-20c46482-cf31-481c-a0f6-bc1dc08490d5\">\n",
              "    <div class=\"colab-df-container\">\n",
              "      <div>\n",
              "<style scoped>\n",
              "    .dataframe tbody tr th:only-of-type {\n",
              "        vertical-align: middle;\n",
              "    }\n",
              "\n",
              "    .dataframe tbody tr th {\n",
              "        vertical-align: top;\n",
              "    }\n",
              "\n",
              "    .dataframe thead th {\n",
              "        text-align: right;\n",
              "    }\n",
              "</style>\n",
              "<table border=\"1\" class=\"dataframe\">\n",
              "  <thead>\n",
              "    <tr style=\"text-align: right;\">\n",
              "      <th></th>\n",
              "      <th>PassengerId</th>\n",
              "      <th>Pclass</th>\n",
              "      <th>Sex</th>\n",
              "      <th>Age</th>\n",
              "      <th>SibSp</th>\n",
              "      <th>Parch</th>\n",
              "      <th>Fare</th>\n",
              "      <th>Embarked</th>\n",
              "      <th>Title</th>\n",
              "      <th>Survived</th>\n",
              "    </tr>\n",
              "  </thead>\n",
              "  <tbody>\n",
              "    <tr>\n",
              "      <th>0</th>\n",
              "      <td>1</td>\n",
              "      <td>3</td>\n",
              "      <td>0</td>\n",
              "      <td>22.0</td>\n",
              "      <td>1</td>\n",
              "      <td>0</td>\n",
              "      <td>7.2500</td>\n",
              "      <td>0</td>\n",
              "      <td>0</td>\n",
              "      <td>0</td>\n",
              "    </tr>\n",
              "    <tr>\n",
              "      <th>1</th>\n",
              "      <td>2</td>\n",
              "      <td>1</td>\n",
              "      <td>1</td>\n",
              "      <td>38.0</td>\n",
              "      <td>1</td>\n",
              "      <td>0</td>\n",
              "      <td>71.2833</td>\n",
              "      <td>1</td>\n",
              "      <td>1</td>\n",
              "      <td>1</td>\n",
              "    </tr>\n",
              "    <tr>\n",
              "      <th>2</th>\n",
              "      <td>3</td>\n",
              "      <td>3</td>\n",
              "      <td>1</td>\n",
              "      <td>26.0</td>\n",
              "      <td>0</td>\n",
              "      <td>0</td>\n",
              "      <td>7.9250</td>\n",
              "      <td>0</td>\n",
              "      <td>2</td>\n",
              "      <td>1</td>\n",
              "    </tr>\n",
              "    <tr>\n",
              "      <th>3</th>\n",
              "      <td>4</td>\n",
              "      <td>1</td>\n",
              "      <td>1</td>\n",
              "      <td>35.0</td>\n",
              "      <td>1</td>\n",
              "      <td>0</td>\n",
              "      <td>53.1000</td>\n",
              "      <td>0</td>\n",
              "      <td>1</td>\n",
              "      <td>1</td>\n",
              "    </tr>\n",
              "    <tr>\n",
              "      <th>4</th>\n",
              "      <td>5</td>\n",
              "      <td>3</td>\n",
              "      <td>0</td>\n",
              "      <td>35.0</td>\n",
              "      <td>0</td>\n",
              "      <td>0</td>\n",
              "      <td>8.0500</td>\n",
              "      <td>0</td>\n",
              "      <td>0</td>\n",
              "      <td>0</td>\n",
              "    </tr>\n",
              "    <tr>\n",
              "      <th>...</th>\n",
              "      <td>...</td>\n",
              "      <td>...</td>\n",
              "      <td>...</td>\n",
              "      <td>...</td>\n",
              "      <td>...</td>\n",
              "      <td>...</td>\n",
              "      <td>...</td>\n",
              "      <td>...</td>\n",
              "      <td>...</td>\n",
              "      <td>...</td>\n",
              "    </tr>\n",
              "    <tr>\n",
              "      <th>886</th>\n",
              "      <td>887</td>\n",
              "      <td>2</td>\n",
              "      <td>0</td>\n",
              "      <td>27.0</td>\n",
              "      <td>0</td>\n",
              "      <td>0</td>\n",
              "      <td>13.0000</td>\n",
              "      <td>0</td>\n",
              "      <td>5</td>\n",
              "      <td>0</td>\n",
              "    </tr>\n",
              "    <tr>\n",
              "      <th>887</th>\n",
              "      <td>888</td>\n",
              "      <td>1</td>\n",
              "      <td>1</td>\n",
              "      <td>19.0</td>\n",
              "      <td>0</td>\n",
              "      <td>0</td>\n",
              "      <td>30.0000</td>\n",
              "      <td>0</td>\n",
              "      <td>2</td>\n",
              "      <td>1</td>\n",
              "    </tr>\n",
              "    <tr>\n",
              "      <th>888</th>\n",
              "      <td>889</td>\n",
              "      <td>3</td>\n",
              "      <td>1</td>\n",
              "      <td>28.0</td>\n",
              "      <td>1</td>\n",
              "      <td>2</td>\n",
              "      <td>23.4500</td>\n",
              "      <td>0</td>\n",
              "      <td>2</td>\n",
              "      <td>0</td>\n",
              "    </tr>\n",
              "    <tr>\n",
              "      <th>889</th>\n",
              "      <td>890</td>\n",
              "      <td>1</td>\n",
              "      <td>0</td>\n",
              "      <td>26.0</td>\n",
              "      <td>0</td>\n",
              "      <td>0</td>\n",
              "      <td>30.0000</td>\n",
              "      <td>1</td>\n",
              "      <td>0</td>\n",
              "      <td>1</td>\n",
              "    </tr>\n",
              "    <tr>\n",
              "      <th>890</th>\n",
              "      <td>891</td>\n",
              "      <td>3</td>\n",
              "      <td>0</td>\n",
              "      <td>32.0</td>\n",
              "      <td>0</td>\n",
              "      <td>0</td>\n",
              "      <td>7.7500</td>\n",
              "      <td>2</td>\n",
              "      <td>0</td>\n",
              "      <td>0</td>\n",
              "    </tr>\n",
              "  </tbody>\n",
              "</table>\n",
              "<p>891 rows × 10 columns</p>\n",
              "</div>\n",
              "      <button class=\"colab-df-convert\" onclick=\"convertToInteractive('df-20c46482-cf31-481c-a0f6-bc1dc08490d5')\"\n",
              "              title=\"Convert this dataframe to an interactive table.\"\n",
              "              style=\"display:none;\">\n",
              "        \n",
              "  <svg xmlns=\"http://www.w3.org/2000/svg\" height=\"24px\"viewBox=\"0 0 24 24\"\n",
              "       width=\"24px\">\n",
              "    <path d=\"M0 0h24v24H0V0z\" fill=\"none\"/>\n",
              "    <path d=\"M18.56 5.44l.94 2.06.94-2.06 2.06-.94-2.06-.94-.94-2.06-.94 2.06-2.06.94zm-11 1L8.5 8.5l.94-2.06 2.06-.94-2.06-.94L8.5 2.5l-.94 2.06-2.06.94zm10 10l.94 2.06.94-2.06 2.06-.94-2.06-.94-.94-2.06-.94 2.06-2.06.94z\"/><path d=\"M17.41 7.96l-1.37-1.37c-.4-.4-.92-.59-1.43-.59-.52 0-1.04.2-1.43.59L10.3 9.45l-7.72 7.72c-.78.78-.78 2.05 0 2.83L4 21.41c.39.39.9.59 1.41.59.51 0 1.02-.2 1.41-.59l7.78-7.78 2.81-2.81c.8-.78.8-2.07 0-2.86zM5.41 20L4 18.59l7.72-7.72 1.47 1.35L5.41 20z\"/>\n",
              "  </svg>\n",
              "      </button>\n",
              "      \n",
              "  <style>\n",
              "    .colab-df-container {\n",
              "      display:flex;\n",
              "      flex-wrap:wrap;\n",
              "      gap: 12px;\n",
              "    }\n",
              "\n",
              "    .colab-df-convert {\n",
              "      background-color: #E8F0FE;\n",
              "      border: none;\n",
              "      border-radius: 50%;\n",
              "      cursor: pointer;\n",
              "      display: none;\n",
              "      fill: #1967D2;\n",
              "      height: 32px;\n",
              "      padding: 0 0 0 0;\n",
              "      width: 32px;\n",
              "    }\n",
              "\n",
              "    .colab-df-convert:hover {\n",
              "      background-color: #E2EBFA;\n",
              "      box-shadow: 0px 1px 2px rgba(60, 64, 67, 0.3), 0px 1px 3px 1px rgba(60, 64, 67, 0.15);\n",
              "      fill: #174EA6;\n",
              "    }\n",
              "\n",
              "    [theme=dark] .colab-df-convert {\n",
              "      background-color: #3B4455;\n",
              "      fill: #D2E3FC;\n",
              "    }\n",
              "\n",
              "    [theme=dark] .colab-df-convert:hover {\n",
              "      background-color: #434B5C;\n",
              "      box-shadow: 0px 1px 3px 1px rgba(0, 0, 0, 0.15);\n",
              "      filter: drop-shadow(0px 1px 2px rgba(0, 0, 0, 0.3));\n",
              "      fill: #FFFFFF;\n",
              "    }\n",
              "  </style>\n",
              "\n",
              "      <script>\n",
              "        const buttonEl =\n",
              "          document.querySelector('#df-20c46482-cf31-481c-a0f6-bc1dc08490d5 button.colab-df-convert');\n",
              "        buttonEl.style.display =\n",
              "          google.colab.kernel.accessAllowed ? 'block' : 'none';\n",
              "\n",
              "        async function convertToInteractive(key) {\n",
              "          const element = document.querySelector('#df-20c46482-cf31-481c-a0f6-bc1dc08490d5');\n",
              "          const dataTable =\n",
              "            await google.colab.kernel.invokeFunction('convertToInteractive',\n",
              "                                                     [key], {});\n",
              "          if (!dataTable) return;\n",
              "\n",
              "          const docLinkHtml = 'Like what you see? Visit the ' +\n",
              "            '<a target=\"_blank\" href=https://colab.research.google.com/notebooks/data_table.ipynb>data table notebook</a>'\n",
              "            + ' to learn more about interactive tables.';\n",
              "          element.innerHTML = '';\n",
              "          dataTable['output_type'] = 'display_data';\n",
              "          await google.colab.output.renderOutput(dataTable, element);\n",
              "          const docLink = document.createElement('div');\n",
              "          docLink.innerHTML = docLinkHtml;\n",
              "          element.appendChild(docLink);\n",
              "        }\n",
              "      </script>\n",
              "    </div>\n",
              "  </div>\n",
              "  "
            ]
          },
          "metadata": {},
          "execution_count": 5
        }
      ]
    },
    {
      "cell_type": "code",
      "source": [
        "titanic_data_arr = titanic_data_df.to_numpy()"
      ],
      "metadata": {
        "id": "_8L-yvC6g79n"
      },
      "execution_count": 6,
      "outputs": []
    },
    {
      "cell_type": "code",
      "source": [
        "# devide features to X, label to y \n",
        "X = titanic_data_arr[:, 1 : 9]\n",
        "y = titanic_data_arr[:, 9].reshape((-1, 1))\n",
        "print(X.shape)\n",
        "print(y.shape)"
      ],
      "metadata": {
        "colab": {
          "base_uri": "https://localhost:8080/"
        },
        "id": "WW9Lo2wlg77L",
        "outputId": "0eb66856-8f41-4a05-d05a-ea087fade399"
      },
      "execution_count": 7,
      "outputs": [
        {
          "output_type": "stream",
          "name": "stdout",
          "text": [
            "(891, 8)\n",
            "(891, 1)\n"
          ]
        }
      ]
    },
    {
      "cell_type": "code",
      "source": [
        "# add bias to X\n",
        "bias = np.ones((X.shape[0], 1))\n",
        "X = np.append(X, bias, axis=1)\n",
        "print(X.shape)"
      ],
      "metadata": {
        "colab": {
          "base_uri": "https://localhost:8080/"
        },
        "id": "RYYwbjdlg74k",
        "outputId": "e1ebb8a1-342a-4aab-9675-ed69d620798b"
      },
      "execution_count": 8,
      "outputs": [
        {
          "output_type": "stream",
          "name": "stdout",
          "text": [
            "(891, 9)\n"
          ]
        }
      ]
    },
    {
      "cell_type": "code",
      "source": [
        "train_ratio = 0.7\n",
        "validation_ratio = 0.2\n",
        "test_ratio = 0.1\n",
        "\n",
        "# train is now 75% of the entire data set\n",
        "# the _junk suffix means that we drop that variable completely\n",
        "x_train, x_test, y_train, y_test = train_test_split(X, y, test_size=1 - train_ratio)\n",
        "\n",
        "# test is now 10% of the initial data set\n",
        "# validation is now 15% of the initial data set\n",
        "x_val, x_test, y_val, y_test = train_test_split(x_test, y_test, test_size=test_ratio/(test_ratio + validation_ratio)) \n",
        "\n",
        "print(x_train.shape, x_val.shape, x_test.shape)\n",
        "print(y_train.shape, y_val.shape, y_test.shape)"
      ],
      "metadata": {
        "colab": {
          "base_uri": "https://localhost:8080/"
        },
        "id": "J-9mwPKig7zR",
        "outputId": "63449527-74db-4e96-e890-bc36d95ac726"
      },
      "execution_count": 9,
      "outputs": [
        {
          "output_type": "stream",
          "name": "stdout",
          "text": [
            "(623, 9) (178, 9) (90, 9)\n",
            "(623, 1) (178, 1) (90, 1)\n"
          ]
        }
      ]
    },
    {
      "cell_type": "markdown",
      "source": [
        "## Training"
      ],
      "metadata": {
        "id": "49C4W4iC1COO"
      }
    },
    {
      "cell_type": "code",
      "source": [
        "n_features = X.shape[1] - 1\n",
        "n_iters = 100\n",
        "np.random.seed(0)"
      ],
      "metadata": {
        "id": "1XUIPYWZ1qN8"
      },
      "execution_count": 25,
      "outputs": []
    },
    {
      "cell_type": "markdown",
      "source": [
        "### Batch_size = 1, learning_rate = 0.0001"
      ],
      "metadata": {
        "id": "nAWvHpjY1TXm"
      }
    },
    {
      "cell_type": "code",
      "source": [
        "batch_size = 1\n",
        "learning_rate = 0.0001\n",
        "LRModel = LogisticRegression(batch_size, n_features)\n",
        "history = LRModel.fit(x_train, y_train, n_iters, learning_rate)"
      ],
      "metadata": {
        "id": "2UcHo0yug7wF",
        "colab": {
          "base_uri": "https://localhost:8080/",
          "height": 1000,
          "referenced_widgets": [
            "ecd63351507e4036b03faab512cd78a3",
            "9f1a006e53dc4d8994938937d19cbc9a",
            "82b69ca85253490aa6c7291902902dfa",
            "ee3aac7728dd47c9b65016c9db527d8b",
            "c57c40cfa9234fe295cfe672d4a4292d",
            "be5dbf68e5564571b086a5669ccc11b9",
            "4c43986391044abeb6615516efba7886",
            "e34f3fda1d634607afe2010f79823828",
            "1e8d669ebcb7441792230fdc1b02acba",
            "1327aa0d5ff44819a12ba8f85ee540b3",
            "9ad84a8fb6944e2b9b49c8736618c1a8"
          ]
        },
        "outputId": "b3f96e05-1c6e-4680-a68f-e6934fd11be5"
      },
      "execution_count": 26,
      "outputs": [
        {
          "output_type": "display_data",
          "data": {
            "text/plain": [
              "  0%|          | 0/100 [00:00<?, ?it/s]"
            ],
            "application/vnd.jupyter.widget-view+json": {
              "version_major": 2,
              "version_minor": 0,
              "model_id": "ecd63351507e4036b03faab512cd78a3"
            }
          },
          "metadata": {}
        },
        {
          "output_type": "stream",
          "name": "stdout",
          "text": [
            "epoch: 0, loss: 0.623019628011741, acc: 1.0\n",
            "epoch: 1, loss: 1.8727384141000312, acc: 0.0\n",
            "epoch: 2, loss: 0.07911892693971713, acc: 1.0\n",
            "epoch: 3, loss: 2.041083040899157, acc: 0.0\n",
            "epoch: 4, loss: 1.294679661083801, acc: 0.0\n",
            "epoch: 5, loss: 4.00870956998381, acc: 0.0\n",
            "epoch: 6, loss: 1.606632786367003, acc: 0.0\n",
            "epoch: 7, loss: 1.3417964263598614, acc: 0.0\n",
            "epoch: 8, loss: 1.6852680305518906, acc: 0.0\n",
            "epoch: 9, loss: 0.1802105896325852, acc: 1.0\n",
            "epoch: 10, loss: 0.5950340125404191, acc: 1.0\n",
            "epoch: 11, loss: 0.08798697769834546, acc: 1.0\n",
            "epoch: 12, loss: 0.11370417076328207, acc: 1.0\n",
            "epoch: 13, loss: 0.155880304932642, acc: 1.0\n",
            "epoch: 14, loss: 2.3025265533095087, acc: 0.0\n",
            "epoch: 15, loss: 2.0944500484836888, acc: 0.0\n",
            "epoch: 16, loss: 2.7520704899258726, acc: 0.0\n",
            "epoch: 17, loss: 0.18944612124429905, acc: 1.0\n",
            "epoch: 18, loss: 2.534054315930299, acc: 0.0\n",
            "epoch: 19, loss: 2.1258668747020115, acc: 0.0\n",
            "epoch: 20, loss: 0.11576417348117006, acc: 1.0\n",
            "epoch: 21, loss: 2.0153592810234553, acc: 0.0\n",
            "epoch: 22, loss: 0.4128784299653108, acc: 1.0\n",
            "epoch: 23, loss: 0.15190620941310629, acc: 1.0\n",
            "epoch: 24, loss: 2.8516480983671193, acc: 0.0\n",
            "epoch: 25, loss: 0.7420445511990182, acc: 0.0\n",
            "epoch: 26, loss: 0.872208459533346, acc: 0.0\n",
            "epoch: 27, loss: 1.5157786382995175, acc: 0.0\n",
            "epoch: 28, loss: 1.5759308177845546, acc: 0.0\n",
            "epoch: 29, loss: 1.4228195674374327, acc: 0.0\n",
            "epoch: 30, loss: 2.302126593314155, acc: 0.0\n",
            "epoch: 31, loss: 1.6159737196565915, acc: 0.0\n",
            "epoch: 32, loss: 1.6022118834461585, acc: 0.0\n",
            "epoch: 33, loss: 4.4917770255610796e-05, acc: 1.0\n",
            "epoch: 34, loss: 0.6717431851749688, acc: 1.0\n",
            "epoch: 35, loss: 0.22758735525737783, acc: 1.0\n",
            "epoch: 36, loss: 0.3737120528123365, acc: 1.0\n",
            "epoch: 37, loss: 0.995889017365623, acc: 0.0\n",
            "epoch: 38, loss: 4.924841033781817, acc: 0.0\n",
            "epoch: 39, loss: 1.6348607538537734, acc: 0.0\n",
            "epoch: 40, loss: 1.7819053302296317, acc: 0.0\n",
            "epoch: 41, loss: 0.20165962425324455, acc: 1.0\n",
            "epoch: 42, loss: 1.2748978363016663, acc: 0.0\n",
            "epoch: 43, loss: 1.3683709348609234, acc: 0.0\n",
            "epoch: 44, loss: 1.3955173402788104, acc: 0.0\n",
            "epoch: 45, loss: 1.927672570252293, acc: 0.0\n",
            "epoch: 46, loss: 1.558189134961757, acc: 0.0\n",
            "epoch: 47, loss: 1.2559134239685776, acc: 0.0\n",
            "epoch: 48, loss: 1.4163045425147214, acc: 0.0\n",
            "epoch: 49, loss: 0.18362191153102286, acc: 1.0\n",
            "epoch: 50, loss: 2.0113092183239694, acc: 0.0\n",
            "epoch: 51, loss: 0.4434294522949023, acc: 1.0\n",
            "epoch: 52, loss: 0.04458237515312676, acc: 1.0\n",
            "epoch: 53, loss: 1.07570968063776, acc: 0.0\n",
            "epoch: 54, loss: 1.7475313875177592, acc: 0.0\n",
            "epoch: 55, loss: 1.2226944884031843, acc: 0.0\n",
            "epoch: 56, loss: 0.8575536592485851, acc: 0.0\n",
            "epoch: 57, loss: 6.25857400729868, acc: 0.0\n",
            "epoch: 58, loss: 0.49772957892599956, acc: 1.0\n",
            "epoch: 59, loss: 0.9068557774268755, acc: 0.0\n",
            "epoch: 60, loss: 1.9096476296084466, acc: 0.0\n",
            "epoch: 61, loss: 0.393898099324997, acc: 1.0\n",
            "epoch: 62, loss: 1.5379521327233503, acc: 0.0\n",
            "epoch: 63, loss: 1.8774162498507556, acc: 0.0\n",
            "epoch: 64, loss: 1.7097816128219985, acc: 0.0\n",
            "epoch: 65, loss: 0.29048405265748317, acc: 1.0\n",
            "epoch: 66, loss: 1.3363447243892117, acc: 0.0\n",
            "epoch: 67, loss: 0.9567277330229312, acc: 0.0\n",
            "epoch: 68, loss: 9.191279435794216, acc: 0.0\n",
            "epoch: 69, loss: 5.571802478742672, acc: 0.0\n",
            "epoch: 70, loss: 0.9718772301502158, acc: 0.0\n",
            "epoch: 71, loss: 1.2075440357196694, acc: 0.0\n",
            "epoch: 72, loss: 1.3620139376354925, acc: 0.0\n",
            "epoch: 73, loss: 0.2633284757102336, acc: 1.0\n",
            "epoch: 74, loss: 5.18682904219739, acc: 0.0\n",
            "epoch: 75, loss: 0.0740481975994238, acc: 1.0\n",
            "epoch: 76, loss: 4.937695017461914, acc: 0.0\n",
            "epoch: 77, loss: 0.6978981088188165, acc: 0.0\n",
            "epoch: 78, loss: 1.170284594677524, acc: 0.0\n",
            "epoch: 79, loss: 0.6382988541437749, acc: 1.0\n",
            "epoch: 80, loss: 1.5259378543738966, acc: 0.0\n",
            "epoch: 81, loss: 5.349073678408689, acc: 0.0\n",
            "epoch: 82, loss: 0.9693745813036094, acc: 0.0\n",
            "epoch: 83, loss: 0.5837487503550121, acc: 1.0\n",
            "epoch: 84, loss: 1.0375020081131685, acc: 0.0\n",
            "epoch: 85, loss: 1.9284716844340688, acc: 0.0\n",
            "epoch: 86, loss: 0.24352674450822015, acc: 1.0\n",
            "epoch: 87, loss: 1.487663163154307, acc: 0.0\n",
            "epoch: 88, loss: 2.572819522485395, acc: 0.0\n",
            "epoch: 89, loss: 1.2440034710686187, acc: 0.0\n",
            "epoch: 90, loss: 0.2955339733895996, acc: 1.0\n",
            "epoch: 91, loss: 0.9408348277342929, acc: 0.0\n",
            "epoch: 92, loss: 0.7920641247124973, acc: 0.0\n",
            "epoch: 93, loss: 0.27307107500536515, acc: 1.0\n",
            "epoch: 94, loss: 1.3155600989289489, acc: 0.0\n",
            "epoch: 95, loss: 1.6287195345327876, acc: 0.0\n",
            "epoch: 96, loss: 1.5005011933015906, acc: 0.0\n",
            "epoch: 97, loss: 1.8138709239244895, acc: 0.0\n",
            "epoch: 98, loss: 1.084105445939729, acc: 0.0\n",
            "epoch: 99, loss: 0.8099816205420456, acc: 0.0\n"
          ]
        }
      ]
    },
    {
      "cell_type": "code",
      "source": [
        "plt.plot(history['losses'])\n",
        "plt.show"
      ],
      "metadata": {
        "colab": {
          "base_uri": "https://localhost:8080/",
          "height": 282
        },
        "id": "es9UNdV4g7sg",
        "outputId": "328c3db2-a4cf-4a99-f63d-3cd93d0ee97c"
      },
      "execution_count": 27,
      "outputs": [
        {
          "output_type": "execute_result",
          "data": {
            "text/plain": [
              "<function matplotlib.pyplot.show(*args, **kw)>"
            ]
          },
          "metadata": {},
          "execution_count": 27
        },
        {
          "output_type": "display_data",
          "data": {
            "text/plain": [
              "<Figure size 432x288 with 1 Axes>"
            ],
            "image/png": "[encoded data removed]"
          },
          "metadata": {
            "needs_background": "light"
          }
        }
      ]
    },
    {
      "cell_type": "code",
      "source": [
        "plt.plot(history['accs'])\n",
        "plt.show"
      ],
      "metadata": {
        "colab": {
          "base_uri": "https://localhost:8080/",
          "height": 282
        },
        "id": "TKQPAAUQCKks",
        "outputId": "ddead00d-2ad3-41a0-f4e0-efada99e2016"
      },
      "execution_count": 28,
      "outputs": [
        {
          "output_type": "execute_result",
          "data": {
            "text/plain": [
              "<function matplotlib.pyplot.show(*args, **kw)>"
            ]
          },
          "metadata": {},
          "execution_count": 28
        },
        {
          "output_type": "display_data",
          "data": {
            "text/plain": [
              "<Figure size 432x288 with 1 Axes>"
            ],
            "image/png": "[encoded data removed]"
          },
          "metadata": {
            "needs_background": "light"
          }
        }
      ]
    },
    {
      "cell_type": "code",
      "source": [
        "eval = LRModel.evaluate(x_val, y_val)\n",
        "print(f\"evaluatiotn: {eval}%\")"
      ],
      "metadata": {
        "colab": {
          "base_uri": "https://localhost:8080/"
        },
        "id": "v7fvm1q6_pRx",
        "outputId": "cd4b3c63-2e4d-4c4e-c6b1-eebbab449806"
      },
      "execution_count": 29,
      "outputs": [
        {
          "output_type": "stream",
          "name": "stdout",
          "text": [
            "evaluatiotn: 0.3202247191011236%\n"
          ]
        }
      ]
    },
    {
      "cell_type": "markdown",
      "source": [
        "## batch_size = 32, learning_rate = 0.001"
      ],
      "metadata": {
        "id": "OXYeNuwfCSRX"
      }
    },
    {
      "cell_type": "code",
      "source": [
        "batch_size = 32\n",
        "learning_rate = 0.001\n",
        "LRModel = LogisticRegression(batch_size, n_features)\n",
        "history = LRModel.fit(x_train, y_train, n_iters, learning_rate)"
      ],
      "metadata": {
        "colab": {
          "base_uri": "https://localhost:8080/",
          "height": 1000,
          "referenced_widgets": [
            "f81267af6c7b4277b931badfc2f0c962",
            "cc2bb27b20e84aca8e06e6388cd8a1a4",
            "e3d36a91565d4dec84badb994549768c",
            "0452c0dff9e84ab381bd449e1dbd6a09",
            "b3b05db790a749739b08f1820d61a356",
            "ae106dd1c0e343779fe61d4e207489e9",
            "bbbdc10166d9451eb329fecdffd2fcbc",
            "0b1cf267adc54866b921f0eed23dc4e3",
            "34882af0cf22455396b74edc4991df45",
            "bcd4eeac59a249459931a713918fa5ad",
            "bab91f8de37f4fbeb856e125faf9afa2"
          ]
        },
        "id": "cKGHHLFUBj_3",
        "outputId": "a44ad3c1-996c-4af3-bd07-b1e5e9005c29"
      },
      "execution_count": 30,
      "outputs": [
        {
          "output_type": "display_data",
          "data": {
            "text/plain": [
              "  0%|          | 0/100 [00:00<?, ?it/s]"
            ],
            "application/vnd.jupyter.widget-view+json": {
              "version_major": 2,
              "version_minor": 0,
              "model_id": "f81267af6c7b4277b931badfc2f0c962"
            }
          },
          "metadata": {}
        },
        {
          "output_type": "stream",
          "name": "stdout",
          "text": [
            "epoch: 0, loss: 3.1880129696652464, acc: 0.3125\n",
            "epoch: 1, loss: 3.0527125742535457, acc: 0.34375\n",
            "epoch: 2, loss: 2.047926041357768, acc: 0.46875\n",
            "epoch: 3, loss: 1.9472310910434332, acc: 0.40625\n",
            "epoch: 4, loss: 1.490911262662057, acc: 0.40625\n",
            "epoch: 5, loss: 1.642916577233673, acc: 0.25\n",
            "epoch: 6, loss: 1.17293605709022, acc: 0.3125\n",
            "epoch: 7, loss: 1.12205845191438, acc: 0.3125\n",
            "epoch: 8, loss: 0.9410642481661979, acc: 0.28125\n",
            "epoch: 9, loss: 0.7778660087454554, acc: 0.40625\n",
            "epoch: 10, loss: 0.7339414554512651, acc: 0.5\n",
            "epoch: 11, loss: 0.7332197582310791, acc: 0.5\n",
            "epoch: 12, loss: 0.6514962652031987, acc: 0.5625\n",
            "epoch: 13, loss: 0.6924629693113211, acc: 0.59375\n",
            "epoch: 14, loss: 0.6645945760987417, acc: 0.71875\n",
            "epoch: 15, loss: 0.6590249571421132, acc: 0.625\n",
            "epoch: 16, loss: 0.5727320466093542, acc: 0.75\n",
            "epoch: 17, loss: 0.7083690189270567, acc: 0.53125\n",
            "epoch: 18, loss: 0.6628566221205796, acc: 0.5625\n",
            "epoch: 19, loss: -0.0, acc: nan\n",
            "epoch: 20, loss: 0.6392245296684027, acc: 0.6875\n",
            "epoch: 21, loss: 0.6040643358012133, acc: 0.71875\n",
            "epoch: 22, loss: 0.6746908016542725, acc: 0.5625\n",
            "epoch: 23, loss: 0.5848253188849183, acc: 0.78125\n",
            "epoch: 24, loss: 0.6025100773143319, acc: 0.75\n",
            "epoch: 25, loss: 0.7184789985576935, acc: 0.6875\n",
            "epoch: 26, loss: 0.610805715488581, acc: 0.71875\n",
            "epoch: 27, loss: 0.6045830742098066, acc: 0.71875\n",
            "epoch: 28, loss: 0.5139480394524188, acc: 0.75\n",
            "epoch: 29, loss: 0.5893025061114078, acc: 0.6875\n",
            "epoch: 30, loss: 0.5468965864419203, acc: 0.75\n",
            "epoch: 31, loss: 0.6467738829649251, acc: 0.59375\n",
            "epoch: 32, loss: 0.5330426450973046, acc: 0.8125\n",
            "epoch: 33, loss: 0.6939517555285295, acc: 0.5625\n",
            "epoch: 34, loss: 0.6141665174138128, acc: 0.6875\n",
            "epoch: 35, loss: 0.7484650571597353, acc: 0.6875\n",
            "epoch: 36, loss: 0.5133164991228141, acc: 0.78125\n",
            "epoch: 37, loss: 0.6586351601255729, acc: 0.5625\n",
            "epoch: 38, loss: 0.6742045253157226, acc: 0.53125\n",
            "epoch: 39, loss: -0.0, acc: nan\n",
            "epoch: 40, loss: 0.6265384182187337, acc: 0.625\n",
            "epoch: 41, loss: 0.5983056585286993, acc: 0.6875\n",
            "epoch: 42, loss: 0.6485580000869442, acc: 0.6875\n",
            "epoch: 43, loss: 0.5608003745357419, acc: 0.78125\n",
            "epoch: 44, loss: 0.5813323830308732, acc: 0.75\n",
            "epoch: 45, loss: 0.7552626613213581, acc: 0.6875\n",
            "epoch: 46, loss: 0.5620754247392948, acc: 0.78125\n",
            "epoch: 47, loss: 0.6007046469113237, acc: 0.71875\n",
            "epoch: 48, loss: 0.49558326565229494, acc: 0.75\n",
            "epoch: 49, loss: 0.5915617856966099, acc: 0.625\n",
            "epoch: 50, loss: 0.5336843699923464, acc: 0.6875\n",
            "epoch: 51, loss: 0.6462079403522873, acc: 0.59375\n",
            "epoch: 52, loss: 0.523127224155779, acc: 0.8125\n",
            "epoch: 53, loss: 0.6990376483840443, acc: 0.59375\n",
            "epoch: 54, loss: 0.6116274831436923, acc: 0.6875\n",
            "epoch: 55, loss: 0.772322989496911, acc: 0.6875\n",
            "epoch: 56, loss: 0.5056672185516733, acc: 0.8125\n",
            "epoch: 57, loss: 0.6485107049190544, acc: 0.5625\n",
            "epoch: 58, loss: 0.6784231582740559, acc: 0.53125\n",
            "epoch: 59, loss: -0.0, acc: nan\n",
            "epoch: 60, loss: 0.6251779719641232, acc: 0.65625\n",
            "epoch: 61, loss: 0.5977816245584966, acc: 0.6875\n",
            "epoch: 62, loss: 0.6441175548303546, acc: 0.6875\n",
            "epoch: 63, loss: 0.5559081602310691, acc: 0.78125\n",
            "epoch: 64, loss: 0.5770614295912946, acc: 0.71875\n",
            "epoch: 65, loss: 0.7635460411903923, acc: 0.6875\n",
            "epoch: 66, loss: 0.553600513140945, acc: 0.78125\n",
            "epoch: 67, loss: 0.5996356169991353, acc: 0.71875\n",
            "epoch: 68, loss: 0.49196736063052654, acc: 0.75\n",
            "epoch: 69, loss: 0.5917121079718006, acc: 0.625\n",
            "epoch: 70, loss: 0.5304364085615728, acc: 0.6875\n",
            "epoch: 71, loss: 0.6456005510987742, acc: 0.59375\n",
            "epoch: 72, loss: 0.5203540881297073, acc: 0.8125\n",
            "epoch: 73, loss: 0.699187454847127, acc: 0.59375\n",
            "epoch: 74, loss: 0.6101865185328887, acc: 0.6875\n",
            "epoch: 75, loss: 0.7773665745440341, acc: 0.65625\n",
            "epoch: 76, loss: 0.5030648369600721, acc: 0.8125\n",
            "epoch: 77, loss: 0.6458809710064962, acc: 0.5625\n",
            "epoch: 78, loss: 0.6783322875583482, acc: 0.53125\n",
            "epoch: 79, loss: -0.0, acc: nan\n",
            "epoch: 80, loss: 0.6241216803785734, acc: 0.65625\n",
            "epoch: 81, loss: 0.5962354438163275, acc: 0.71875\n",
            "epoch: 82, loss: 0.6418191525932782, acc: 0.6875\n",
            "epoch: 83, loss: 0.5535830253493567, acc: 0.78125\n",
            "epoch: 84, loss: 0.5753902977512885, acc: 0.71875\n",
            "epoch: 85, loss: 0.7649355520014282, acc: 0.6875\n",
            "epoch: 86, loss: 0.5515139955546364, acc: 0.78125\n",
            "epoch: 87, loss: 0.5983394075378732, acc: 0.71875\n",
            "epoch: 88, loss: 0.49100422863121707, acc: 0.75\n",
            "epoch: 89, loss: 0.5909479146287163, acc: 0.625\n",
            "epoch: 90, loss: 0.5290493591961432, acc: 0.6875\n",
            "epoch: 91, loss: 0.6447229769108016, acc: 0.59375\n",
            "epoch: 92, loss: 0.5189338724278628, acc: 0.8125\n",
            "epoch: 93, loss: 0.6980822515171693, acc: 0.59375\n",
            "epoch: 94, loss: 0.6087791570528622, acc: 0.6875\n",
            "epoch: 95, loss: 0.7780103744308426, acc: 0.65625\n",
            "epoch: 96, loss: 0.5014617281415815, acc: 0.8125\n",
            "epoch: 97, loss: 0.644808818201916, acc: 0.5625\n",
            "epoch: 98, loss: 0.677172475242627, acc: 0.53125\n",
            "epoch: 99, loss: -0.0, acc: nan\n"
          ]
        },
        {
          "output_type": "stream",
          "name": "stderr",
          "text": [
            "/usr/local/lib/python3.7/dist-packages/ipykernel_launcher.py:39: RuntimeWarning: invalid value encountered in long_scalars\n"
          ]
        }
      ]
    },
    {
      "cell_type": "code",
      "source": [
        "plt.plot(history['losses'])\n",
        "plt.show"
      ],
      "metadata": {
        "colab": {
          "base_uri": "https://localhost:8080/",
          "height": 282
        },
        "id": "xdacGRiaCb_G",
        "outputId": "648eba2a-5821-42d3-9e93-f84ae70fe4e9"
      },
      "execution_count": 31,
      "outputs": [
        {
          "output_type": "execute_result",
          "data": {
            "text/plain": [
              "<function matplotlib.pyplot.show(*args, **kw)>"
            ]
          },
          "metadata": {},
          "execution_count": 31
        },
        {
          "output_type": "display_data",
          "data": {
            "text/plain": [
              "<Figure size 432x288 with 1 Axes>"
            ],
            "image/png": "[encoded data removed]"
          },
          "metadata": {
            "needs_background": "light"
          }
        }
      ]
    },
    {
      "cell_type": "code",
      "source": [
        "plt.plot(history['accs'])\n",
        "plt.show"
      ],
      "metadata": {
        "colab": {
          "base_uri": "https://localhost:8080/",
          "height": 282
        },
        "id": "iwFcPkt4utBT",
        "outputId": "6f19c408-5269-46fc-d980-871d90ada15d"
      },
      "execution_count": 32,
      "outputs": [
        {
          "output_type": "execute_result",
          "data": {
            "text/plain": [
              "<function matplotlib.pyplot.show(*args, **kw)>"
            ]
          },
          "metadata": {},
          "execution_count": 32
        },
        {
          "output_type": "display_data",
          "data": {
            "text/plain": [
              "<Figure size 432x288 with 1 Axes>"
            ],
            "image/png": "[encoded data removed]"
          },
          "metadata": {
            "needs_background": "light"
          }
        }
      ]
    },
    {
      "cell_type": "code",
      "source": [
        "eval = LRModel.evaluate(x_val, y_val)\n",
        "print(f\"evaluatiotn: {eval}%\")"
      ],
      "metadata": {
        "colab": {
          "base_uri": "https://localhost:8080/"
        },
        "id": "q223qn35Cb8X",
        "outputId": "882cb6d5-0440-4c95-eef4-1e13bacb6b48"
      },
      "execution_count": 33,
      "outputs": [
        {
          "output_type": "stream",
          "name": "stdout",
          "text": [
            "evaluatiotn: 0.6853932584269663%\n"
          ]
        }
      ]
    },
    {
      "cell_type": "markdown",
      "source": [
        "## batch_size = n_sample, learning_rate = 0.001"
      ],
      "metadata": {
        "id": "SaJIoMb_ICc4"
      }
    },
    {
      "cell_type": "code",
      "source": [
        "batch_size = len(x_train)\n",
        "learning_rate = 0.001\n",
        "LRModel = LogisticRegression(batch_size, n_features)\n",
        "history = LRModel.fit(x_train, y_train, n_iters, learning_rate)"
      ],
      "metadata": {
        "colab": {
          "base_uri": "https://localhost:8080/",
          "height": 1000,
          "referenced_widgets": [
            "78686c6b76fb4483a29002ec0a973bb3",
            "8e13e9c8cc214e798082261c1b75d60d",
            "1d0b58ecbf0743fd963f3a89c8a0d456",
            "100bade58a7d49e683875a090d6cb552",
            "ab2af4b4284845f9ba4ba7fa936d7e9b",
            "f97de8afbb6347dc9f722e812aae402d",
            "d266480f77b8499eac2079d9d12b7ffb",
            "0828b73ac025434997206d035587ae63",
            "ede4145613994d2ebeae1ec2f4eecd2b",
            "6c132e0050304d5e9fbfeba833b81d4c",
            "e39dd88ddb7e4826932579338e985a86"
          ]
        },
        "id": "RuSxfMpyCb6I",
        "outputId": "e8090de0-6d1b-4761-d480-cb5b4222829c"
      },
      "execution_count": 34,
      "outputs": [
        {
          "output_type": "display_data",
          "data": {
            "text/plain": [
              "  0%|          | 0/100 [00:00<?, ?it/s]"
            ],
            "application/vnd.jupyter.widget-view+json": {
              "version_major": 2,
              "version_minor": 0,
              "model_id": "78686c6b76fb4483a29002ec0a973bb3"
            }
          },
          "metadata": {}
        },
        {
          "output_type": "stream",
          "name": "stdout",
          "text": [
            "epoch: 0, loss: 4.187469697113543, acc: 0.6115569823434992\n",
            "epoch: 1, loss: 3.7216864099167157, acc: 0.6115569823434992\n",
            "epoch: 2, loss: 3.258476466263805, acc: 0.6115569823434992\n",
            "epoch: 3, loss: 2.79948136404755, acc: 0.6115569823434992\n",
            "epoch: 4, loss: 2.3486668820236054, acc: 0.6147672552166934\n",
            "epoch: 5, loss: 1.9351205569658427, acc: 0.6324237560192616\n",
            "epoch: 6, loss: 1.6624814560075776, acc: 0.6404494382022472\n",
            "epoch: 7, loss: 1.459831330055622, acc: 0.6468699839486356\n",
            "epoch: 8, loss: 1.3102426790350015, acc: 0.651685393258427\n",
            "epoch: 9, loss: 1.1995551783361806, acc: 0.6548956661316212\n",
            "epoch: 10, loss: 1.1159030404041919, acc: 0.6548956661316212\n",
            "epoch: 11, loss: 1.0512708338483872, acc: 0.6629213483146067\n",
            "epoch: 12, loss: 1.0003605884342919, acc: 0.6693418940609952\n",
            "epoch: 13, loss: 0.9595578192224058, acc: 0.6725521669341894\n",
            "epoch: 14, loss: 0.9263636286014924, acc: 0.6773675762439807\n",
            "epoch: 15, loss: 0.8989962615920383, acc: 0.6757624398073836\n",
            "epoch: 16, loss: 0.8761439596645164, acc: 0.6789727126805778\n",
            "epoch: 17, loss: 0.8568161872510554, acc: 0.6837881219903692\n",
            "epoch: 18, loss: 0.8402516346796697, acc: 0.6869983948635634\n",
            "epoch: 19, loss: 0.8258595079133194, acc: 0.6902086677367576\n",
            "epoch: 20, loss: 0.8131802519749352, acc: 0.6902086677367576\n",
            "epoch: 21, loss: 0.8018575460734572, acc: 0.6902086677367576\n",
            "epoch: 22, loss: 0.7916170290373731, acc: 0.6902086677367576\n",
            "epoch: 23, loss: 0.7822493748450773, acc: 0.6902086677367576\n",
            "epoch: 24, loss: 0.7735965023397672, acc: 0.6918138041733547\n",
            "epoch: 25, loss: 0.7655402679451576, acc: 0.6918138041733547\n",
            "epoch: 26, loss: 0.7579932384651998, acc: 0.6918138041733547\n",
            "epoch: 27, loss: 0.7508912417328751, acc: 0.6918138041733547\n",
            "epoch: 28, loss: 0.7441874341031477, acc: 0.6918138041733547\n",
            "epoch: 29, loss: 0.7378476461977139, acc: 0.6918138041733547\n",
            "epoch: 30, loss: 0.7318467880731933, acc: 0.6918138041733547\n",
            "epoch: 31, loss: 0.7261661169928276, acc: 0.6918138041733547\n",
            "epoch: 32, loss: 0.7207911952837684, acc: 0.6902086677367576\n",
            "epoch: 33, loss: 0.715710391005048, acc: 0.6886035313001605\n",
            "epoch: 34, loss: 0.7109137987318537, acc: 0.6886035313001605\n",
            "epoch: 35, loss: 0.706392480485852, acc: 0.6886035313001605\n",
            "epoch: 36, loss: 0.7021379469966834, acc: 0.6886035313001605\n",
            "epoch: 37, loss: 0.6981418167260575, acc: 0.6869983948635634\n",
            "epoch: 38, loss: 0.6943956044354967, acc: 0.6869983948635634\n",
            "epoch: 39, loss: 0.6908906027123433, acc: 0.6869983948635634\n",
            "epoch: 40, loss: 0.6876178290920597, acc: 0.6886035313001605\n",
            "epoch: 41, loss: 0.6845680185733682, acc: 0.6869983948635634\n",
            "epoch: 42, loss: 0.6817316467723263, acc: 0.6869983948635634\n",
            "epoch: 43, loss: 0.6790989730333837, acc: 0.6853932584269663\n",
            "epoch: 44, loss: 0.6766600958068626, acc: 0.6837881219903692\n",
            "epoch: 45, loss: 0.6744050147673966, acc: 0.6821829855537721\n",
            "epoch: 46, loss: 0.6723236956982427, acc: 0.6821829855537721\n",
            "epoch: 47, loss: 0.6704061352697005, acc: 0.6773675762439807\n",
            "epoch: 48, loss: 0.6686424236280496, acc: 0.6757624398073836\n",
            "epoch: 49, loss: 0.6670228032823459, acc: 0.6757624398073836\n",
            "epoch: 50, loss: 0.6655377232008465, acc: 0.6757624398073836\n",
            "epoch: 51, loss: 0.6641778873562161, acc: 0.6757624398073836\n",
            "epoch: 52, loss: 0.662934297221446, acc: 0.6757624398073836\n",
            "epoch: 53, loss: 0.6617982879368461, acc: 0.6757624398073836\n",
            "epoch: 54, loss: 0.6607615580544229, acc: 0.6757624398073836\n",
            "epoch: 55, loss: 0.6598161929253875, acc: 0.6757624398073836\n",
            "epoch: 56, loss: 0.6589546819324955, acc: 0.6741573033707865\n",
            "epoch: 57, loss: 0.6581699298821908, acc: 0.6741573033707865\n",
            "epoch: 58, loss: 0.6574552629626655, acc: 0.6741573033707865\n",
            "epoch: 59, loss: 0.6568044297432015, acc: 0.6741573033707865\n",
            "epoch: 60, loss: 0.6562115977383337, acc: 0.6741573033707865\n",
            "epoch: 61, loss: 0.6556713460887212, acc: 0.6741573033707865\n",
            "epoch: 62, loss: 0.655178654920864, acc: 0.6741573033707865\n",
            "epoch: 63, loss: 0.6547288919421907, acc: 0.6741573033707865\n",
            "epoch: 64, loss: 0.6543177968090055, acc: 0.6741573033707865\n",
            "epoch: 65, loss: 0.6539414637749335, acc: 0.6741573033707865\n",
            "epoch: 66, loss: 0.6535963230894489, acc: 0.6741573033707865\n",
            "epoch: 67, loss: 0.653279121572292, acc: 0.6741573033707865\n",
            "epoch: 68, loss: 0.6529869027423286, acc: 0.6741573033707865\n",
            "epoch: 69, loss: 0.6527169868307138, acc: 0.6741573033707865\n",
            "epoch: 70, loss: 0.6524669509597186, acc: 0.6741573033707865\n",
            "epoch: 71, loss: 0.6522346097217028, acc: 0.6725521669341894\n",
            "epoch: 72, loss: 0.6520179963484309, acc: 0.6709470304975923\n",
            "epoch: 73, loss: 0.6518153446200816, acc: 0.6709470304975923\n",
            "epoch: 74, loss: 0.6516250716262955, acc: 0.6709470304975923\n",
            "epoch: 75, loss: 0.6514457614587856, acc: 0.6709470304975923\n",
            "epoch: 76, loss: 0.6512761498864147, acc: 0.6709470304975923\n",
            "epoch: 77, loss: 0.651115110039188, acc: 0.6709470304975923\n",
            "epoch: 78, loss: 0.65096163910712, acc: 0.6709470304975923\n",
            "epoch: 79, loss: 0.6508148460431216, acc: 0.6709470304975923\n",
            "epoch: 80, loss: 0.6506739402456247, acc: 0.6693418940609952\n",
            "epoch: 81, loss: 0.6505382211862372, acc: 0.6693418940609952\n",
            "epoch: 82, loss: 0.6504070689399428, acc: 0.6693418940609952\n",
            "epoch: 83, loss: 0.6502799355698766, acc: 0.6693418940609952\n",
            "epoch: 84, loss: 0.6501563373151531, acc: 0.6693418940609952\n",
            "epoch: 85, loss: 0.6500358475282955, acc: 0.6693418940609952\n",
            "epoch: 86, loss: 0.6499180903082064, acc: 0.6693418940609952\n",
            "epoch: 87, loss: 0.649802734775072, acc: 0.6693418940609952\n",
            "epoch: 88, loss: 0.649689489934869, acc: 0.6693418940609952\n",
            "epoch: 89, loss: 0.6495781000830474, acc: 0.6693418940609952\n",
            "epoch: 90, loss: 0.6494683406993228, acc: 0.6693418940609952\n",
            "epoch: 91, loss: 0.6493600147881794, acc: 0.6693418940609952\n",
            "epoch: 92, loss: 0.6492529496225456, acc: 0.6693418940609952\n",
            "epoch: 93, loss: 0.6491469938510612, acc: 0.6693418940609952\n",
            "epoch: 94, loss: 0.6490420149323324, acc: 0.6693418940609952\n",
            "epoch: 95, loss: 0.6489378968625017, acc: 0.6693418940609952\n",
            "epoch: 96, loss: 0.6488345381653146, acc: 0.6693418940609952\n",
            "epoch: 97, loss: 0.6487318501165874, acc: 0.6693418940609952\n",
            "epoch: 98, loss: 0.6486297551775744, acc: 0.6693418940609952\n",
            "epoch: 99, loss: 0.6485281856141611, acc: 0.6693418940609952\n"
          ]
        }
      ]
    },
    {
      "cell_type": "code",
      "source": [
        "plt.plot(history['losses'])\n",
        "plt.show"
      ],
      "metadata": {
        "colab": {
          "base_uri": "https://localhost:8080/",
          "height": 282
        },
        "id": "96MiPUPfCb09",
        "outputId": "25823712-e008-46b7-9bb7-1a0cc8249250"
      },
      "execution_count": 35,
      "outputs": [
        {
          "output_type": "execute_result",
          "data": {
            "text/plain": [
              "<function matplotlib.pyplot.show(*args, **kw)>"
            ]
          },
          "metadata": {},
          "execution_count": 35
        },
        {
          "output_type": "display_data",
          "data": {
            "text/plain": [
              "<Figure size 432x288 with 1 Axes>"
            ],
            "image/png": "[encoded data removed]"
          },
          "metadata": {
            "needs_background": "light"
          }
        }
      ]
    },
    {
      "cell_type": "code",
      "source": [
        "plt.plot(history['accs'])\n",
        "plt.show"
      ],
      "metadata": {
        "colab": {
          "base_uri": "https://localhost:8080/",
          "height": 282
        },
        "id": "uMZD2RIsCbyT",
        "outputId": "3c7c4dc8-6e84-467d-ab84-9982704d01ee"
      },
      "execution_count": 36,
      "outputs": [
        {
          "output_type": "execute_result",
          "data": {
            "text/plain": [
              "<function matplotlib.pyplot.show(*args, **kw)>"
            ]
          },
          "metadata": {},
          "execution_count": 36
        },
        {
          "output_type": "display_data",
          "data": {
            "text/plain": [
              "<Figure size 432x288 with 1 Axes>"
            ],
            "image/png": "[encoded data removed]"
          },
          "metadata": {
            "needs_background": "light"
          }
        }
      ]
    },
    {
      "cell_type": "code",
      "source": [
        "eval = LRModel.evaluate(x_val, y_val)\n",
        "print(f\"evaluatiotn: {eval}%\")"
      ],
      "metadata": {
        "colab": {
          "base_uri": "https://localhost:8080/"
        },
        "id": "L-R4V2v3Cbvw",
        "outputId": "83fd941e-e521-45d5-cde6-0f31559987b1"
      },
      "execution_count": 37,
      "outputs": [
        {
          "output_type": "stream",
          "name": "stdout",
          "text": [
            "evaluatiotn: 0.651685393258427%\n"
          ]
        }
      ]
    }
  ]
}
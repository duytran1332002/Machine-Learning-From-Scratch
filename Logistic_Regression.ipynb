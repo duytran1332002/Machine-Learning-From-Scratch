{
  "nbformat": 4,
  "nbformat_minor": 0,
  "metadata": {
    "colab": {
      "provenance": []
    },
    "kernelspec": {
      "name": "python3",
      "display_name": "Python 3"
    },
    "language_info": {
      "name": "python"
    },
    "widgets": {
      "application/vnd.jupyter.widget-state+json": {
        "3e79647066814c46974bd79ad54468e5": {
          "model_module": "@jupyter-widgets/controls",
          "model_name": "HBoxModel",
          "model_module_version": "1.5.0",
          "state": {
            "_dom_classes": [],
            "_model_module": "@jupyter-widgets/controls",
            "_model_module_version": "1.5.0",
            "_model_name": "HBoxModel",
            "_view_count": null,
            "_view_module": "@jupyter-widgets/controls",
            "_view_module_version": "1.5.0",
            "_view_name": "HBoxView",
            "box_style": "",
            "children": [
              "IPY_MODEL_7cf3ed766ed44d5ebd0072bfc21bf0d5",
              "IPY_MODEL_99b83674500c4d16bd66f88a4082ecc6",
              "IPY_MODEL_90e2eea098854ff8a242fc067b260f6a"
            ],
            "layout": "IPY_MODEL_f15171ea69c8401da96c9f00c4eec15e"
          }
        },
        "7cf3ed766ed44d5ebd0072bfc21bf0d5": {
          "model_module": "@jupyter-widgets/controls",
          "model_name": "HTMLModel",
          "model_module_version": "1.5.0",
          "state": {
            "_dom_classes": [],
            "_model_module": "@jupyter-widgets/controls",
            "_model_module_version": "1.5.0",
            "_model_name": "HTMLModel",
            "_view_count": null,
            "_view_module": "@jupyter-widgets/controls",
            "_view_module_version": "1.5.0",
            "_view_name": "HTMLView",
            "description": "",
            "description_tooltip": null,
            "layout": "IPY_MODEL_6b8fa65dd95f48bcac7d4794dc934828",
            "placeholder": "​",
            "style": "IPY_MODEL_e3e3238ad7da4cb397406849f04ea939",
            "value": "100%"
          }
        },
        "99b83674500c4d16bd66f88a4082ecc6": {
          "model_module": "@jupyter-widgets/controls",
          "model_name": "FloatProgressModel",
          "model_module_version": "1.5.0",
          "state": {
            "_dom_classes": [],
            "_model_module": "@jupyter-widgets/controls",
            "_model_module_version": "1.5.0",
            "_model_name": "FloatProgressModel",
            "_view_count": null,
            "_view_module": "@jupyter-widgets/controls",
            "_view_module_version": "1.5.0",
            "_view_name": "ProgressView",
            "bar_style": "success",
            "description": "",
            "description_tooltip": null,
            "layout": "IPY_MODEL_e1f471cb0bdb42838c1496df36c51ae5",
            "max": 100,
            "min": 0,
            "orientation": "horizontal",
            "style": "IPY_MODEL_43478fa5e01b4fa3ac6776054750fa8f",
            "value": 100
          }
        },
        "90e2eea098854ff8a242fc067b260f6a": {
          "model_module": "@jupyter-widgets/controls",
          "model_name": "HTMLModel",
          "model_module_version": "1.5.0",
          "state": {
            "_dom_classes": [],
            "_model_module": "@jupyter-widgets/controls",
            "_model_module_version": "1.5.0",
            "_model_name": "HTMLModel",
            "_view_count": null,
            "_view_module": "@jupyter-widgets/controls",
            "_view_module_version": "1.5.0",
            "_view_name": "HTMLView",
            "description": "",
            "description_tooltip": null,
            "layout": "IPY_MODEL_2161ce59e4184dd29697ebd9e17286b2",
            "placeholder": "​",
            "style": "IPY_MODEL_5455287785d0484d92cce18ac46f3003",
            "value": " 100/100 [00:00&lt;00:00, 529.17it/s]"
          }
        },
        "f15171ea69c8401da96c9f00c4eec15e": {
          "model_module": "@jupyter-widgets/base",
          "model_name": "LayoutModel",
          "model_module_version": "1.2.0",
          "state": {
            "_model_module": "@jupyter-widgets/base",
            "_model_module_version": "1.2.0",
            "_model_name": "LayoutModel",
            "_view_count": null,
            "_view_module": "@jupyter-widgets/base",
            "_view_module_version": "1.2.0",
            "_view_name": "LayoutView",
            "align_content": null,
            "align_items": null,
            "align_self": null,
            "border": null,
            "bottom": null,
            "display": null,
            "flex": null,
            "flex_flow": null,
            "grid_area": null,
            "grid_auto_columns": null,
            "grid_auto_flow": null,
            "grid_auto_rows": null,
            "grid_column": null,
            "grid_gap": null,
            "grid_row": null,
            "grid_template_areas": null,
            "grid_template_columns": null,
            "grid_template_rows": null,
            "height": null,
            "justify_content": null,
            "justify_items": null,
            "left": null,
            "margin": null,
            "max_height": null,
            "max_width": null,
            "min_height": null,
            "min_width": null,
            "object_fit": null,
            "object_position": null,
            "order": null,
            "overflow": null,
            "overflow_x": null,
            "overflow_y": null,
            "padding": null,
            "right": null,
            "top": null,
            "visibility": null,
            "width": null
          }
        },
        "6b8fa65dd95f48bcac7d4794dc934828": {
          "model_module": "@jupyter-widgets/base",
          "model_name": "LayoutModel",
          "model_module_version": "1.2.0",
          "state": {
            "_model_module": "@jupyter-widgets/base",
            "_model_module_version": "1.2.0",
            "_model_name": "LayoutModel",
            "_view_count": null,
            "_view_module": "@jupyter-widgets/base",
            "_view_module_version": "1.2.0",
            "_view_name": "LayoutView",
            "align_content": null,
            "align_items": null,
            "align_self": null,
            "border": null,
            "bottom": null,
            "display": null,
            "flex": null,
            "flex_flow": null,
            "grid_area": null,
            "grid_auto_columns": null,
            "grid_auto_flow": null,
            "grid_auto_rows": null,
            "grid_column": null,
            "grid_gap": null,
            "grid_row": null,
            "grid_template_areas": null,
            "grid_template_columns": null,
            "grid_template_rows": null,
            "height": null,
            "justify_content": null,
            "justify_items": null,
            "left": null,
            "margin": null,
            "max_height": null,
            "max_width": null,
            "min_height": null,
            "min_width": null,
            "object_fit": null,
            "object_position": null,
            "order": null,
            "overflow": null,
            "overflow_x": null,
            "overflow_y": null,
            "padding": null,
            "right": null,
            "top": null,
            "visibility": null,
            "width": null
          }
        },
        "e3e3238ad7da4cb397406849f04ea939": {
          "model_module": "@jupyter-widgets/controls",
          "model_name": "DescriptionStyleModel",
          "model_module_version": "1.5.0",
          "state": {
            "_model_module": "@jupyter-widgets/controls",
            "_model_module_version": "1.5.0",
            "_model_name": "DescriptionStyleModel",
            "_view_count": null,
            "_view_module": "@jupyter-widgets/base",
            "_view_module_version": "1.2.0",
            "_view_name": "StyleView",
            "description_width": ""
          }
        },
        "e1f471cb0bdb42838c1496df36c51ae5": {
          "model_module": "@jupyter-widgets/base",
          "model_name": "LayoutModel",
          "model_module_version": "1.2.0",
          "state": {
            "_model_module": "@jupyter-widgets/base",
            "_model_module_version": "1.2.0",
            "_model_name": "LayoutModel",
            "_view_count": null,
            "_view_module": "@jupyter-widgets/base",
            "_view_module_version": "1.2.0",
            "_view_name": "LayoutView",
            "align_content": null,
            "align_items": null,
            "align_self": null,
            "border": null,
            "bottom": null,
            "display": null,
            "flex": null,
            "flex_flow": null,
            "grid_area": null,
            "grid_auto_columns": null,
            "grid_auto_flow": null,
            "grid_auto_rows": null,
            "grid_column": null,
            "grid_gap": null,
            "grid_row": null,
            "grid_template_areas": null,
            "grid_template_columns": null,
            "grid_template_rows": null,
            "height": null,
            "justify_content": null,
            "justify_items": null,
            "left": null,
            "margin": null,
            "max_height": null,
            "max_width": null,
            "min_height": null,
            "min_width": null,
            "object_fit": null,
            "object_position": null,
            "order": null,
            "overflow": null,
            "overflow_x": null,
            "overflow_y": null,
            "padding": null,
            "right": null,
            "top": null,
            "visibility": null,
            "width": null
          }
        },
        "43478fa5e01b4fa3ac6776054750fa8f": {
          "model_module": "@jupyter-widgets/controls",
          "model_name": "ProgressStyleModel",
          "model_module_version": "1.5.0",
          "state": {
            "_model_module": "@jupyter-widgets/controls",
            "_model_module_version": "1.5.0",
            "_model_name": "ProgressStyleModel",
            "_view_count": null,
            "_view_module": "@jupyter-widgets/base",
            "_view_module_version": "1.2.0",
            "_view_name": "StyleView",
            "bar_color": null,
            "description_width": ""
          }
        },
        "2161ce59e4184dd29697ebd9e17286b2": {
          "model_module": "@jupyter-widgets/base",
          "model_name": "LayoutModel",
          "model_module_version": "1.2.0",
          "state": {
            "_model_module": "@jupyter-widgets/base",
            "_model_module_version": "1.2.0",
            "_model_name": "LayoutModel",
            "_view_count": null,
            "_view_module": "@jupyter-widgets/base",
            "_view_module_version": "1.2.0",
            "_view_name": "LayoutView",
            "align_content": null,
            "align_items": null,
            "align_self": null,
            "border": null,
            "bottom": null,
            "display": null,
            "flex": null,
            "flex_flow": null,
            "grid_area": null,
            "grid_auto_columns": null,
            "grid_auto_flow": null,
            "grid_auto_rows": null,
            "grid_column": null,
            "grid_gap": null,
            "grid_row": null,
            "grid_template_areas": null,
            "grid_template_columns": null,
            "grid_template_rows": null,
            "height": null,
            "justify_content": null,
            "justify_items": null,
            "left": null,
            "margin": null,
            "max_height": null,
            "max_width": null,
            "min_height": null,
            "min_width": null,
            "object_fit": null,
            "object_position": null,
            "order": null,
            "overflow": null,
            "overflow_x": null,
            "overflow_y": null,
            "padding": null,
            "right": null,
            "top": null,
            "visibility": null,
            "width": null
          }
        },
        "5455287785d0484d92cce18ac46f3003": {
          "model_module": "@jupyter-widgets/controls",
          "model_name": "DescriptionStyleModel",
          "model_module_version": "1.5.0",
          "state": {
            "_model_module": "@jupyter-widgets/controls",
            "_model_module_version": "1.5.0",
            "_model_name": "DescriptionStyleModel",
            "_view_count": null,
            "_view_module": "@jupyter-widgets/base",
            "_view_module_version": "1.2.0",
            "_view_name": "StyleView",
            "description_width": ""
          }
        },
        "9a2eca8c0a744f4689f784e0d9d2f1af": {
          "model_module": "@jupyter-widgets/controls",
          "model_name": "HBoxModel",
          "model_module_version": "1.5.0",
          "state": {
            "_dom_classes": [],
            "_model_module": "@jupyter-widgets/controls",
            "_model_module_version": "1.5.0",
            "_model_name": "HBoxModel",
            "_view_count": null,
            "_view_module": "@jupyter-widgets/controls",
            "_view_module_version": "1.5.0",
            "_view_name": "HBoxView",
            "box_style": "",
            "children": [
              "IPY_MODEL_89a828772b1a4a979296ef2e18607e4e",
              "IPY_MODEL_6e767385a1df4cc7bc6b0e551c8848ab",
              "IPY_MODEL_0196c82a210547ce9e6048618f4c5813"
            ],
            "layout": "IPY_MODEL_3877253d166b468c9d040878784e49ab"
          }
        },
        "89a828772b1a4a979296ef2e18607e4e": {
          "model_module": "@jupyter-widgets/controls",
          "model_name": "HTMLModel",
          "model_module_version": "1.5.0",
          "state": {
            "_dom_classes": [],
            "_model_module": "@jupyter-widgets/controls",
            "_model_module_version": "1.5.0",
            "_model_name": "HTMLModel",
            "_view_count": null,
            "_view_module": "@jupyter-widgets/controls",
            "_view_module_version": "1.5.0",
            "_view_name": "HTMLView",
            "description": "",
            "description_tooltip": null,
            "layout": "IPY_MODEL_cf10db218b4942c388daee09d1646507",
            "placeholder": "​",
            "style": "IPY_MODEL_4df32eac7fd14944bdcfb9e8b544c935",
            "value": "100%"
          }
        },
        "6e767385a1df4cc7bc6b0e551c8848ab": {
          "model_module": "@jupyter-widgets/controls",
          "model_name": "FloatProgressModel",
          "model_module_version": "1.5.0",
          "state": {
            "_dom_classes": [],
            "_model_module": "@jupyter-widgets/controls",
            "_model_module_version": "1.5.0",
            "_model_name": "FloatProgressModel",
            "_view_count": null,
            "_view_module": "@jupyter-widgets/controls",
            "_view_module_version": "1.5.0",
            "_view_name": "ProgressView",
            "bar_style": "success",
            "description": "",
            "description_tooltip": null,
            "layout": "IPY_MODEL_e9d8c369ca49469fa6b2eeddfe7da1fa",
            "max": 100,
            "min": 0,
            "orientation": "horizontal",
            "style": "IPY_MODEL_2785a377bf4f4a0a92df1bef2f6bd387",
            "value": 100
          }
        },
        "0196c82a210547ce9e6048618f4c5813": {
          "model_module": "@jupyter-widgets/controls",
          "model_name": "HTMLModel",
          "model_module_version": "1.5.0",
          "state": {
            "_dom_classes": [],
            "_model_module": "@jupyter-widgets/controls",
            "_model_module_version": "1.5.0",
            "_model_name": "HTMLModel",
            "_view_count": null,
            "_view_module": "@jupyter-widgets/controls",
            "_view_module_version": "1.5.0",
            "_view_name": "HTMLView",
            "description": "",
            "description_tooltip": null,
            "layout": "IPY_MODEL_4618c93b823c427b9bcb7a4799e17a5d",
            "placeholder": "​",
            "style": "IPY_MODEL_75159572398547059390dfd787e6ed73",
            "value": " 100/100 [00:00&lt;00:00, 226.75it/s]"
          }
        },
        "3877253d166b468c9d040878784e49ab": {
          "model_module": "@jupyter-widgets/base",
          "model_name": "LayoutModel",
          "model_module_version": "1.2.0",
          "state": {
            "_model_module": "@jupyter-widgets/base",
            "_model_module_version": "1.2.0",
            "_model_name": "LayoutModel",
            "_view_count": null,
            "_view_module": "@jupyter-widgets/base",
            "_view_module_version": "1.2.0",
            "_view_name": "LayoutView",
            "align_content": null,
            "align_items": null,
            "align_self": null,
            "border": null,
            "bottom": null,
            "display": null,
            "flex": null,
            "flex_flow": null,
            "grid_area": null,
            "grid_auto_columns": null,
            "grid_auto_flow": null,
            "grid_auto_rows": null,
            "grid_column": null,
            "grid_gap": null,
            "grid_row": null,
            "grid_template_areas": null,
            "grid_template_columns": null,
            "grid_template_rows": null,
            "height": null,
            "justify_content": null,
            "justify_items": null,
            "left": null,
            "margin": null,
            "max_height": null,
            "max_width": null,
            "min_height": null,
            "min_width": null,
            "object_fit": null,
            "object_position": null,
            "order": null,
            "overflow": null,
            "overflow_x": null,
            "overflow_y": null,
            "padding": null,
            "right": null,
            "top": null,
            "visibility": null,
            "width": null
          }
        },
        "cf10db218b4942c388daee09d1646507": {
          "model_module": "@jupyter-widgets/base",
          "model_name": "LayoutModel",
          "model_module_version": "1.2.0",
          "state": {
            "_model_module": "@jupyter-widgets/base",
            "_model_module_version": "1.2.0",
            "_model_name": "LayoutModel",
            "_view_count": null,
            "_view_module": "@jupyter-widgets/base",
            "_view_module_version": "1.2.0",
            "_view_name": "LayoutView",
            "align_content": null,
            "align_items": null,
            "align_self": null,
            "border": null,
            "bottom": null,
            "display": null,
            "flex": null,
            "flex_flow": null,
            "grid_area": null,
            "grid_auto_columns": null,
            "grid_auto_flow": null,
            "grid_auto_rows": null,
            "grid_column": null,
            "grid_gap": null,
            "grid_row": null,
            "grid_template_areas": null,
            "grid_template_columns": null,
            "grid_template_rows": null,
            "height": null,
            "justify_content": null,
            "justify_items": null,
            "left": null,
            "margin": null,
            "max_height": null,
            "max_width": null,
            "min_height": null,
            "min_width": null,
            "object_fit": null,
            "object_position": null,
            "order": null,
            "overflow": null,
            "overflow_x": null,
            "overflow_y": null,
            "padding": null,
            "right": null,
            "top": null,
            "visibility": null,
            "width": null
          }
        },
        "4df32eac7fd14944bdcfb9e8b544c935": {
          "model_module": "@jupyter-widgets/controls",
          "model_name": "DescriptionStyleModel",
          "model_module_version": "1.5.0",
          "state": {
            "_model_module": "@jupyter-widgets/controls",
            "_model_module_version": "1.5.0",
            "_model_name": "DescriptionStyleModel",
            "_view_count": null,
            "_view_module": "@jupyter-widgets/base",
            "_view_module_version": "1.2.0",
            "_view_name": "StyleView",
            "description_width": ""
          }
        },
        "e9d8c369ca49469fa6b2eeddfe7da1fa": {
          "model_module": "@jupyter-widgets/base",
          "model_name": "LayoutModel",
          "model_module_version": "1.2.0",
          "state": {
            "_model_module": "@jupyter-widgets/base",
            "_model_module_version": "1.2.0",
            "_model_name": "LayoutModel",
            "_view_count": null,
            "_view_module": "@jupyter-widgets/base",
            "_view_module_version": "1.2.0",
            "_view_name": "LayoutView",
            "align_content": null,
            "align_items": null,
            "align_self": null,
            "border": null,
            "bottom": null,
            "display": null,
            "flex": null,
            "flex_flow": null,
            "grid_area": null,
            "grid_auto_columns": null,
            "grid_auto_flow": null,
            "grid_auto_rows": null,
            "grid_column": null,
            "grid_gap": null,
            "grid_row": null,
            "grid_template_areas": null,
            "grid_template_columns": null,
            "grid_template_rows": null,
            "height": null,
            "justify_content": null,
            "justify_items": null,
            "left": null,
            "margin": null,
            "max_height": null,
            "max_width": null,
            "min_height": null,
            "min_width": null,
            "object_fit": null,
            "object_position": null,
            "order": null,
            "overflow": null,
            "overflow_x": null,
            "overflow_y": null,
            "padding": null,
            "right": null,
            "top": null,
            "visibility": null,
            "width": null
          }
        },
        "2785a377bf4f4a0a92df1bef2f6bd387": {
          "model_module": "@jupyter-widgets/controls",
          "model_name": "ProgressStyleModel",
          "model_module_version": "1.5.0",
          "state": {
            "_model_module": "@jupyter-widgets/controls",
            "_model_module_version": "1.5.0",
            "_model_name": "ProgressStyleModel",
            "_view_count": null,
            "_view_module": "@jupyter-widgets/base",
            "_view_module_version": "1.2.0",
            "_view_name": "StyleView",
            "bar_color": null,
            "description_width": ""
          }
        },
        "4618c93b823c427b9bcb7a4799e17a5d": {
          "model_module": "@jupyter-widgets/base",
          "model_name": "LayoutModel",
          "model_module_version": "1.2.0",
          "state": {
            "_model_module": "@jupyter-widgets/base",
            "_model_module_version": "1.2.0",
            "_model_name": "LayoutModel",
            "_view_count": null,
            "_view_module": "@jupyter-widgets/base",
            "_view_module_version": "1.2.0",
            "_view_name": "LayoutView",
            "align_content": null,
            "align_items": null,
            "align_self": null,
            "border": null,
            "bottom": null,
            "display": null,
            "flex": null,
            "flex_flow": null,
            "grid_area": null,
            "grid_auto_columns": null,
            "grid_auto_flow": null,
            "grid_auto_rows": null,
            "grid_column": null,
            "grid_gap": null,
            "grid_row": null,
            "grid_template_areas": null,
            "grid_template_columns": null,
            "grid_template_rows": null,
            "height": null,
            "justify_content": null,
            "justify_items": null,
            "left": null,
            "margin": null,
            "max_height": null,
            "max_width": null,
            "min_height": null,
            "min_width": null,
            "object_fit": null,
            "object_position": null,
            "order": null,
            "overflow": null,
            "overflow_x": null,
            "overflow_y": null,
            "padding": null,
            "right": null,
            "top": null,
            "visibility": null,
            "width": null
          }
        },
        "75159572398547059390dfd787e6ed73": {
          "model_module": "@jupyter-widgets/controls",
          "model_name": "DescriptionStyleModel",
          "model_module_version": "1.5.0",
          "state": {
            "_model_module": "@jupyter-widgets/controls",
            "_model_module_version": "1.5.0",
            "_model_name": "DescriptionStyleModel",
            "_view_count": null,
            "_view_module": "@jupyter-widgets/base",
            "_view_module_version": "1.2.0",
            "_view_name": "StyleView",
            "description_width": ""
          }
        }
      }
    }
  },
  "cells": [
    {
      "cell_type": "code",
      "execution_count": null,
      "metadata": {
        "colab": {
          "base_uri": "https://localhost:8080/"
        },
        "id": "1KFFsV8EgJ5G",
        "outputId": "348ae578-30a8-42e5-88f9-6570ac1270e1"
      },
      "outputs": [
        {
          "output_type": "stream",
          "name": "stdout",
          "text": [
            "Downloading...\n",
            "From: https://drive.google.com/u/0/uc?id=1mWl9Z6EKJDjlOdoPu5skp6uP39Ax4gME&export=download\n",
            "To: /content/titanic.zip\n",
            "\r  0% 0.00/7.00k [00:00<?, ?B/s]\r100% 7.00k/7.00k [00:00<00:00, 10.5MB/s]\n"
          ]
        }
      ],
      "source": [
        "!gdown \"https://drive.google.com/u/0/uc?id=1mWl9Z6EKJDjlOdoPu5skp6uP39Ax4gME&export=download\""
      ]
    },
    {
      "cell_type": "code",
      "source": [
        "!unzip \"titanic.zip\""
      ],
      "metadata": {
        "colab": {
          "base_uri": "https://localhost:8080/"
        },
        "id": "uKxFsvichK20",
        "outputId": "e1f9a007-0f01-43e7-e06e-0e794df32fbe"
      },
      "execution_count": null,
      "outputs": [
        {
          "output_type": "stream",
          "name": "stdout",
          "text": [
            "Archive:  titanic.zip\n",
            "  inflating: titanic_modified_dataset.csv  \n"
          ]
        }
      ]
    },
    {
      "cell_type": "code",
      "source": [
        "import pandas as pd\n",
        "import numpy as np\n",
        "from tqdm.notebook import tqdm\n",
        "import matplotlib.pyplot as plt\n",
        "from sklearn.model_selection import train_test_split"
      ],
      "metadata": {
        "id": "PrApSzkVg8Ls"
      },
      "execution_count": null,
      "outputs": []
    },
    {
      "cell_type": "code",
      "source": [
        "class LogisticRegression():\n",
        "  def __init__(self, batch_size, n_feature):\n",
        "    self.batch_size = batch_size\n",
        "    self.theta = np.random.uniform(0, 1. , (n_feature + 1, 1))\n",
        "    \n",
        "  def sigmoid(self, z):\n",
        "    return 1 / (1 + np.exp(-z))\n",
        "\n",
        "  def loss(self, y, y_hat):\n",
        "    return (- 1 / self.batch_size) * np.sum(y.T * np.log(y_hat) + (1 - y).T * np.log(1 - y_hat))\n",
        "\n",
        "  def gradient(self, X, y, y_hat):\n",
        "    return np.dot(X.T, (y_hat - y)) / self.batch_size \n",
        "\n",
        "  def predict(self, X):\n",
        "    z = np.dot(X, self.theta)\n",
        "    return self.sigmoid(z)\n",
        "\n",
        "  def getBatchData(self, X, y, ith_iters):\n",
        "    last_size = 0\n",
        "    if len(X) % self.batch_size == 0:\n",
        "      number_batch_size = int(len(X) / self.batch_size)\n",
        "    else:\n",
        "      number_batch_size = int(len(X) / self.batch_size) + 1\n",
        "      last_size = len(X) - self.batch_size * number_batch_size\n",
        "\n",
        "    ith_batch = ith_iters % number_batch_size\n",
        "\n",
        "    if ith_batch == number_batch_size - 1 and last_size != 0:\n",
        "      X_batch = X[ith_batch * self.batch_size : (ith_batch * self.batch_size) + last_size]\n",
        "      y_batch = y[ith_batch * self.batch_size : (ith_batch * self.batch_size) + last_size]\n",
        "    else:\n",
        "      X_batch = X[ith_batch * self.batch_size : (ith_batch + 1) * self.batch_size]\n",
        "      y_batch = y[ith_batch * self.batch_size : (ith_batch + 1) * self.batch_size]\n",
        "    return X_batch, y_batch\n",
        "  \n",
        "  def accuracy(self, y, y_hat):\n",
        "    y_hat = np.round(y_hat)\n",
        "    return np.sum(y == y_hat) / len(y)\n",
        "\n",
        "  def evaluate(self, x_val, y_val):\n",
        "    y_hat = self.predict(x_val)\n",
        "    y_hat = np.round(y_hat)\n",
        "    return np.sum(y_val == y_hat) / len(y_val)\n",
        "\n",
        "  def fit(self, X, y, n_iters, learning_rate):\n",
        "    history = {\"losses\": [], \"accs\": []}\n",
        "    for i in tqdm(range(n_iters)):\n",
        "      # get X_batch, y_batch\n",
        "      X_batch, y_batch = self.getBatchData(X, y, i)\n",
        "      # calculate y_hat\n",
        "      y_batch_hat = self.predict(X_batch)\n",
        "      # calculate loss and append to list\n",
        "      loss = self.loss(y_batch, y_batch_hat)\n",
        "      history['losses'].append(loss)\n",
        "      acc = self.accuracy(y_batch, y_batch_hat)\n",
        "      history['accs'].append(acc)\n",
        "      # calculate the gradient\n",
        "      gradient = self.gradient(X_batch, y_batch, y_batch_hat)\n",
        "      # update theta\n",
        "      self.theta -= learning_rate * gradient\n",
        "      print(f\"epoch: {i}, loss: {loss}, acc: {acc}\")\n",
        "    return history\n"
      ],
      "metadata": {
        "id": "tEk1YGNGg8HR"
      },
      "execution_count": null,
      "outputs": []
    },
    {
      "cell_type": "markdown",
      "source": [
        "# Titanic data"
      ],
      "metadata": {
        "id": "5SfZeEh0wbWs"
      }
    },
    {
      "cell_type": "code",
      "source": [
        "path_csv = \"titanic_modified_dataset.csv\"\n",
        "titanic_data_df = pd.read_csv(path_csv)\n",
        "titanic_data_df"
      ],
      "metadata": {
        "colab": {
          "base_uri": "https://localhost:8080/",
          "height": 424
        },
        "id": "YdBd26yXg8JT",
        "outputId": "28f3eaae-7811-4db7-a805-9761aa7193e4"
      },
      "execution_count": null,
      "outputs": [
        {
          "output_type": "execute_result",
          "data": {
            "text/plain": [
              "     PassengerId  Pclass  Sex   Age  SibSp  Parch     Fare  Embarked  Title  \\\n",
              "0              1       3    0  22.0      1      0   7.2500         0      0   \n",
              "1              2       1    1  38.0      1      0  71.2833         1      1   \n",
              "2              3       3    1  26.0      0      0   7.9250         0      2   \n",
              "3              4       1    1  35.0      1      0  53.1000         0      1   \n",
              "4              5       3    0  35.0      0      0   8.0500         0      0   \n",
              "..           ...     ...  ...   ...    ...    ...      ...       ...    ...   \n",
              "886          887       2    0  27.0      0      0  13.0000         0      5   \n",
              "887          888       1    1  19.0      0      0  30.0000         0      2   \n",
              "888          889       3    1  28.0      1      2  23.4500         0      2   \n",
              "889          890       1    0  26.0      0      0  30.0000         1      0   \n",
              "890          891       3    0  32.0      0      0   7.7500         2      0   \n",
              "\n",
              "     Survived  \n",
              "0           0  \n",
              "1           1  \n",
              "2           1  \n",
              "3           1  \n",
              "4           0  \n",
              "..        ...  \n",
              "886         0  \n",
              "887         1  \n",
              "888         0  \n",
              "889         1  \n",
              "890         0  \n",
              "\n",
              "[891 rows x 10 columns]"
            ],
            "text/html": [
              "\n",
              "  <div id=\"df-17e0a8d5-f368-4eca-952b-efee5848f6f4\">\n",
              "    <div class=\"colab-df-container\">\n",
              "      <div>\n",
              "<style scoped>\n",
              "    .dataframe tbody tr th:only-of-type {\n",
              "        vertical-align: middle;\n",
              "    }\n",
              "\n",
              "    .dataframe tbody tr th {\n",
              "        vertical-align: top;\n",
              "    }\n",
              "\n",
              "    .dataframe thead th {\n",
              "        text-align: right;\n",
              "    }\n",
              "</style>\n",
              "<table border=\"1\" class=\"dataframe\">\n",
              "  <thead>\n",
              "    <tr style=\"text-align: right;\">\n",
              "      <th></th>\n",
              "      <th>PassengerId</th>\n",
              "      <th>Pclass</th>\n",
              "      <th>Sex</th>\n",
              "      <th>Age</th>\n",
              "      <th>SibSp</th>\n",
              "      <th>Parch</th>\n",
              "      <th>Fare</th>\n",
              "      <th>Embarked</th>\n",
              "      <th>Title</th>\n",
              "      <th>Survived</th>\n",
              "    </tr>\n",
              "  </thead>\n",
              "  <tbody>\n",
              "    <tr>\n",
              "      <th>0</th>\n",
              "      <td>1</td>\n",
              "      <td>3</td>\n",
              "      <td>0</td>\n",
              "      <td>22.0</td>\n",
              "      <td>1</td>\n",
              "      <td>0</td>\n",
              "      <td>7.2500</td>\n",
              "      <td>0</td>\n",
              "      <td>0</td>\n",
              "      <td>0</td>\n",
              "    </tr>\n",
              "    <tr>\n",
              "      <th>1</th>\n",
              "      <td>2</td>\n",
              "      <td>1</td>\n",
              "      <td>1</td>\n",
              "      <td>38.0</td>\n",
              "      <td>1</td>\n",
              "      <td>0</td>\n",
              "      <td>71.2833</td>\n",
              "      <td>1</td>\n",
              "      <td>1</td>\n",
              "      <td>1</td>\n",
              "    </tr>\n",
              "    <tr>\n",
              "      <th>2</th>\n",
              "      <td>3</td>\n",
              "      <td>3</td>\n",
              "      <td>1</td>\n",
              "      <td>26.0</td>\n",
              "      <td>0</td>\n",
              "      <td>0</td>\n",
              "      <td>7.9250</td>\n",
              "      <td>0</td>\n",
              "      <td>2</td>\n",
              "      <td>1</td>\n",
              "    </tr>\n",
              "    <tr>\n",
              "      <th>3</th>\n",
              "      <td>4</td>\n",
              "      <td>1</td>\n",
              "      <td>1</td>\n",
              "      <td>35.0</td>\n",
              "      <td>1</td>\n",
              "      <td>0</td>\n",
              "      <td>53.1000</td>\n",
              "      <td>0</td>\n",
              "      <td>1</td>\n",
              "      <td>1</td>\n",
              "    </tr>\n",
              "    <tr>\n",
              "      <th>4</th>\n",
              "      <td>5</td>\n",
              "      <td>3</td>\n",
              "      <td>0</td>\n",
              "      <td>35.0</td>\n",
              "      <td>0</td>\n",
              "      <td>0</td>\n",
              "      <td>8.0500</td>\n",
              "      <td>0</td>\n",
              "      <td>0</td>\n",
              "      <td>0</td>\n",
              "    </tr>\n",
              "    <tr>\n",
              "      <th>...</th>\n",
              "      <td>...</td>\n",
              "      <td>...</td>\n",
              "      <td>...</td>\n",
              "      <td>...</td>\n",
              "      <td>...</td>\n",
              "      <td>...</td>\n",
              "      <td>...</td>\n",
              "      <td>...</td>\n",
              "      <td>...</td>\n",
              "      <td>...</td>\n",
              "    </tr>\n",
              "    <tr>\n",
              "      <th>886</th>\n",
              "      <td>887</td>\n",
              "      <td>2</td>\n",
              "      <td>0</td>\n",
              "      <td>27.0</td>\n",
              "      <td>0</td>\n",
              "      <td>0</td>\n",
              "      <td>13.0000</td>\n",
              "      <td>0</td>\n",
              "      <td>5</td>\n",
              "      <td>0</td>\n",
              "    </tr>\n",
              "    <tr>\n",
              "      <th>887</th>\n",
              "      <td>888</td>\n",
              "      <td>1</td>\n",
              "      <td>1</td>\n",
              "      <td>19.0</td>\n",
              "      <td>0</td>\n",
              "      <td>0</td>\n",
              "      <td>30.0000</td>\n",
              "      <td>0</td>\n",
              "      <td>2</td>\n",
              "      <td>1</td>\n",
              "    </tr>\n",
              "    <tr>\n",
              "      <th>888</th>\n",
              "      <td>889</td>\n",
              "      <td>3</td>\n",
              "      <td>1</td>\n",
              "      <td>28.0</td>\n",
              "      <td>1</td>\n",
              "      <td>2</td>\n",
              "      <td>23.4500</td>\n",
              "      <td>0</td>\n",
              "      <td>2</td>\n",
              "      <td>0</td>\n",
              "    </tr>\n",
              "    <tr>\n",
              "      <th>889</th>\n",
              "      <td>890</td>\n",
              "      <td>1</td>\n",
              "      <td>0</td>\n",
              "      <td>26.0</td>\n",
              "      <td>0</td>\n",
              "      <td>0</td>\n",
              "      <td>30.0000</td>\n",
              "      <td>1</td>\n",
              "      <td>0</td>\n",
              "      <td>1</td>\n",
              "    </tr>\n",
              "    <tr>\n",
              "      <th>890</th>\n",
              "      <td>891</td>\n",
              "      <td>3</td>\n",
              "      <td>0</td>\n",
              "      <td>32.0</td>\n",
              "      <td>0</td>\n",
              "      <td>0</td>\n",
              "      <td>7.7500</td>\n",
              "      <td>2</td>\n",
              "      <td>0</td>\n",
              "      <td>0</td>\n",
              "    </tr>\n",
              "  </tbody>\n",
              "</table>\n",
              "<p>891 rows × 10 columns</p>\n",
              "</div>\n",
              "      <button class=\"colab-df-convert\" onclick=\"convertToInteractive('df-17e0a8d5-f368-4eca-952b-efee5848f6f4')\"\n",
              "              title=\"Convert this dataframe to an interactive table.\"\n",
              "              style=\"display:none;\">\n",
              "        \n",
              "  <svg xmlns=\"http://www.w3.org/2000/svg\" height=\"24px\"viewBox=\"0 0 24 24\"\n",
              "       width=\"24px\">\n",
              "    <path d=\"M0 0h24v24H0V0z\" fill=\"none\"/>\n",
              "    <path d=\"M18.56 5.44l.94 2.06.94-2.06 2.06-.94-2.06-.94-.94-2.06-.94 2.06-2.06.94zm-11 1L8.5 8.5l.94-2.06 2.06-.94-2.06-.94L8.5 2.5l-.94 2.06-2.06.94zm10 10l.94 2.06.94-2.06 2.06-.94-2.06-.94-.94-2.06-.94 2.06-2.06.94z\"/><path d=\"M17.41 7.96l-1.37-1.37c-.4-.4-.92-.59-1.43-.59-.52 0-1.04.2-1.43.59L10.3 9.45l-7.72 7.72c-.78.78-.78 2.05 0 2.83L4 21.41c.39.39.9.59 1.41.59.51 0 1.02-.2 1.41-.59l7.78-7.78 2.81-2.81c.8-.78.8-2.07 0-2.86zM5.41 20L4 18.59l7.72-7.72 1.47 1.35L5.41 20z\"/>\n",
              "  </svg>\n",
              "      </button>\n",
              "      \n",
              "  <style>\n",
              "    .colab-df-container {\n",
              "      display:flex;\n",
              "      flex-wrap:wrap;\n",
              "      gap: 12px;\n",
              "    }\n",
              "\n",
              "    .colab-df-convert {\n",
              "      background-color: #E8F0FE;\n",
              "      border: none;\n",
              "      border-radius: 50%;\n",
              "      cursor: pointer;\n",
              "      display: none;\n",
              "      fill: #1967D2;\n",
              "      height: 32px;\n",
              "      padding: 0 0 0 0;\n",
              "      width: 32px;\n",
              "    }\n",
              "\n",
              "    .colab-df-convert:hover {\n",
              "      background-color: #E2EBFA;\n",
              "      box-shadow: 0px 1px 2px rgba(60, 64, 67, 0.3), 0px 1px 3px 1px rgba(60, 64, 67, 0.15);\n",
              "      fill: #174EA6;\n",
              "    }\n",
              "\n",
              "    [theme=dark] .colab-df-convert {\n",
              "      background-color: #3B4455;\n",
              "      fill: #D2E3FC;\n",
              "    }\n",
              "\n",
              "    [theme=dark] .colab-df-convert:hover {\n",
              "      background-color: #434B5C;\n",
              "      box-shadow: 0px 1px 3px 1px rgba(0, 0, 0, 0.15);\n",
              "      filter: drop-shadow(0px 1px 2px rgba(0, 0, 0, 0.3));\n",
              "      fill: #FFFFFF;\n",
              "    }\n",
              "  </style>\n",
              "\n",
              "      <script>\n",
              "        const buttonEl =\n",
              "          document.querySelector('#df-17e0a8d5-f368-4eca-952b-efee5848f6f4 button.colab-df-convert');\n",
              "        buttonEl.style.display =\n",
              "          google.colab.kernel.accessAllowed ? 'block' : 'none';\n",
              "\n",
              "        async function convertToInteractive(key) {\n",
              "          const element = document.querySelector('#df-17e0a8d5-f368-4eca-952b-efee5848f6f4');\n",
              "          const dataTable =\n",
              "            await google.colab.kernel.invokeFunction('convertToInteractive',\n",
              "                                                     [key], {});\n",
              "          if (!dataTable) return;\n",
              "\n",
              "          const docLinkHtml = 'Like what you see? Visit the ' +\n",
              "            '<a target=\"_blank\" href=https://colab.research.google.com/notebooks/data_table.ipynb>data table notebook</a>'\n",
              "            + ' to learn more about interactive tables.';\n",
              "          element.innerHTML = '';\n",
              "          dataTable['output_type'] = 'display_data';\n",
              "          await google.colab.output.renderOutput(dataTable, element);\n",
              "          const docLink = document.createElement('div');\n",
              "          docLink.innerHTML = docLinkHtml;\n",
              "          element.appendChild(docLink);\n",
              "        }\n",
              "      </script>\n",
              "    </div>\n",
              "  </div>\n",
              "  "
            ]
          },
          "metadata": {},
          "execution_count": 61
        }
      ]
    },
    {
      "cell_type": "code",
      "source": [
        "titanic_data_arr = titanic_data_df.to_numpy()"
      ],
      "metadata": {
        "id": "_8L-yvC6g79n"
      },
      "execution_count": null,
      "outputs": []
    },
    {
      "cell_type": "code",
      "source": [
        "# devide features to X, label to y \n",
        "X = titanic_data_arr[:, 1 : 9]\n",
        "y = titanic_data_arr[:, 9].reshape((-1, 1))\n",
        "print(X.shape)\n",
        "print(y.shape)"
      ],
      "metadata": {
        "colab": {
          "base_uri": "https://localhost:8080/"
        },
        "id": "WW9Lo2wlg77L",
        "outputId": "ef33eaab-0f10-4e09-d077-a8e958234313"
      },
      "execution_count": null,
      "outputs": [
        {
          "output_type": "stream",
          "name": "stdout",
          "text": [
            "(891, 8)\n",
            "(891, 1)\n"
          ]
        }
      ]
    },
    {
      "cell_type": "code",
      "source": [
        "# add bias to X\n",
        "bias = np.ones((X.shape[0], 1))\n",
        "X = np.append(X, bias, axis=1)\n",
        "print(X.shape)"
      ],
      "metadata": {
        "colab": {
          "base_uri": "https://localhost:8080/"
        },
        "id": "RYYwbjdlg74k",
        "outputId": "cae2639f-be31-43a3-8729-01e3b8e1f5f7"
      },
      "execution_count": null,
      "outputs": [
        {
          "output_type": "stream",
          "name": "stdout",
          "text": [
            "(891, 9)\n"
          ]
        }
      ]
    },
    {
      "cell_type": "code",
      "source": [
        "train_ratio = 0.7\n",
        "validation_ratio = 0.2\n",
        "test_ratio = 0.1\n",
        "\n",
        "# train is now 75% of the entire data set\n",
        "# the _junk suffix means that we drop that variable completely\n",
        "x_train, x_test, y_train, y_test = train_test_split(X, y, test_size=1 - train_ratio)\n",
        "\n",
        "# test is now 10% of the initial data set\n",
        "# validation is now 15% of the initial data set\n",
        "x_val, x_test, y_val, y_test = train_test_split(x_test, y_test, test_size=test_ratio/(test_ratio + validation_ratio)) \n",
        "\n",
        "print(x_train.shape, x_val.shape, x_test.shape)\n",
        "print(y_train.shape, y_val.shape, y_test.shape)"
      ],
      "metadata": {
        "colab": {
          "base_uri": "https://localhost:8080/"
        },
        "id": "J-9mwPKig7zR",
        "outputId": "bfd6c6b7-016c-407d-f3d4-c11493ac0328"
      },
      "execution_count": null,
      "outputs": [
        {
          "output_type": "stream",
          "name": "stdout",
          "text": [
            "(623, 9) (178, 9) (90, 9)\n",
            "(623, 1) (178, 1) (90, 1)\n"
          ]
        }
      ]
    },
    {
      "cell_type": "markdown",
      "source": [
        "## Training"
      ],
      "metadata": {
        "id": "49C4W4iC1COO"
      }
    },
    {
      "cell_type": "code",
      "source": [
        "n_features = X.shape[1] - 1\n",
        "n_iters = 100\n",
        "np.random.seed(0)"
      ],
      "metadata": {
        "id": "1XUIPYWZ1qN8"
      },
      "execution_count": null,
      "outputs": []
    },
    {
      "cell_type": "markdown",
      "source": [
        "### Batch_size = 1, learning_rate = 0.0001"
      ],
      "metadata": {
        "id": "nAWvHpjY1TXm"
      }
    },
    {
      "cell_type": "code",
      "source": [
        "batch_size = 1\n",
        "learning_rate = 0.0001\n",
        "LRModel = LogisticRegression(batch_size, n_features)\n",
        "history = LRModel.fit(x_train, y_train, n_iters, learning_rate)"
      ],
      "metadata": {
        "id": "2UcHo0yug7wF"
      },
      "execution_count": null,
      "outputs": []
    },
    {
      "cell_type": "code",
      "source": [
        "plt.plot(history['losses'])\n",
        "plt.show"
      ],
      "metadata": {
        "colab": {
          "base_uri": "https://localhost:8080/",
          "height": 284
        },
        "id": "es9UNdV4g7sg",
        "outputId": "9251a676-d01c-41a7-df26-4b7040cbfa34"
      },
      "execution_count": null,
      "outputs": [
        {
          "output_type": "execute_result",
          "data": {
            "text/plain": [
              "<function matplotlib.pyplot.show(*args, **kw)>"
            ]
          },
          "metadata": {},
          "execution_count": 145
        },
        {
          "output_type": "display_data",
          "data": {
            "text/plain": [
              "<Figure size 432x288 with 1 Axes>"
            ],
            "image/png": "[encoded data removed]"
          },
          "metadata": {
            "needs_background": "light"
          }
        }
      ]
    },
    {
      "cell_type": "code",
      "source": [
        "plt.plot(history['accs'])\n",
        "plt.show"
      ],
      "metadata": {
        "colab": {
          "base_uri": "https://localhost:8080/",
          "height": 284
        },
        "id": "TKQPAAUQCKks",
        "outputId": "abed9ed0-41d4-4093-c785-3a5a26829285"
      },
      "execution_count": null,
      "outputs": [
        {
          "output_type": "execute_result",
          "data": {
            "text/plain": [
              "<function matplotlib.pyplot.show(*args, **kw)>"
            ]
          },
          "metadata": {},
          "execution_count": 146
        },
        {
          "output_type": "display_data",
          "data": {
            "text/plain": [
              "<Figure size 432x288 with 1 Axes>"
            ],
            "image/png": "[encoded data removed]"
          },
          "metadata": {
            "needs_background": "light"
          }
        }
      ]
    },
    {
      "cell_type": "code",
      "source": [
        "eval = LRModel.evaluate(x_val, y_val)\n",
        "print(f\"evaluatiotn: {eval}%\")"
      ],
      "metadata": {
        "colab": {
          "base_uri": "https://localhost:8080/"
        },
        "id": "v7fvm1q6_pRx",
        "outputId": "7b481820-500f-45c9-ad0f-51dd705a06fa"
      },
      "execution_count": null,
      "outputs": [
        {
          "output_type": "stream",
          "name": "stdout",
          "text": [
            "evaluatiotn: 0.42696629213483145%\n"
          ]
        }
      ]
    },
    {
      "cell_type": "markdown",
      "source": [
        "## batch_size = 32, learning_rate = 0.001"
      ],
      "metadata": {
        "id": "OXYeNuwfCSRX"
      }
    },
    {
      "cell_type": "code",
      "source": [
        "batch_size = 32\n",
        "learning_rate = 0.001\n",
        "LRModel = LogisticRegression(batch_size, n_features)\n",
        "history = LRModel.fit(x_train, y_train, n_iters, learning_rate)"
      ],
      "metadata": {
        "colab": {
          "base_uri": "https://localhost:8080/",
          "height": 1000,
          "referenced_widgets": [
            "3e79647066814c46974bd79ad54468e5",
            "7cf3ed766ed44d5ebd0072bfc21bf0d5",
            "99b83674500c4d16bd66f88a4082ecc6",
            "90e2eea098854ff8a242fc067b260f6a",
            "f15171ea69c8401da96c9f00c4eec15e",
            "6b8fa65dd95f48bcac7d4794dc934828",
            "e3e3238ad7da4cb397406849f04ea939",
            "e1f471cb0bdb42838c1496df36c51ae5",
            "43478fa5e01b4fa3ac6776054750fa8f",
            "2161ce59e4184dd29697ebd9e17286b2",
            "5455287785d0484d92cce18ac46f3003"
          ]
        },
        "id": "cKGHHLFUBj_3",
        "outputId": "f381eb9d-103b-4a60-9dfc-2debc7647d5a"
      },
      "execution_count": null,
      "outputs": [
        {
          "output_type": "display_data",
          "data": {
            "text/plain": [
              "  0%|          | 0/100 [00:00<?, ?it/s]"
            ],
            "application/vnd.jupyter.widget-view+json": {
              "version_major": 2,
              "version_minor": 0,
              "model_id": "3e79647066814c46974bd79ad54468e5"
            }
          },
          "metadata": {}
        },
        {
          "output_type": "stream",
          "name": "stdout",
          "text": [
            "epoch: 0, loss: nan, acc: 0.375\n",
            "epoch: 1, loss: nan, acc: 0.34375\n",
            "epoch: 2, loss: nan, acc: 0.40625\n",
            "epoch: 3, loss: nan, acc: 0.375\n",
            "epoch: 4, loss: nan, acc: 0.59375\n",
            "epoch: 5, loss: nan, acc: 0.34375\n",
            "epoch: 6, loss: nan, acc: 0.28125\n",
            "epoch: 7, loss: 402.7447439017837, acc: 0.3125\n",
            "epoch: 8, loss: nan, acc: 0.21875\n",
            "epoch: 9, loss: nan, acc: 0.40625\n",
            "epoch: 10, loss: nan, acc: 0.34375\n",
            "epoch: 11, loss: 286.01232435262875, acc: 0.4375\n",
            "epoch: 12, loss: 265.09150231230103, acc: 0.5\n",
            "epoch: 13, loss: 308.23186449788193, acc: 0.3125\n",
            "epoch: 14, loss: 255.77018367936495, acc: 0.4375\n",
            "epoch: 15, loss: 389.4372963183988, acc: 0.3125\n",
            "epoch: 16, loss: 239.70005651480193, acc: 0.4375\n",
            "epoch: 17, loss: 228.82026382999115, acc: 0.46875\n",
            "epoch: 18, loss: 270.69206420080786, acc: 0.21875\n",
            "epoch: 19, loss: -0.0, acc: nan\n",
            "epoch: 20, loss: 226.36496211283276, acc: 0.4375\n",
            "epoch: 21, loss: 261.64264556015416, acc: 0.25\n",
            "epoch: 22, loss: 224.5360555449186, acc: 0.40625\n",
            "epoch: 23, loss: 202.03721626358748, acc: 0.3125\n",
            "epoch: 24, loss: 111.77474247916082, acc: 0.59375\n",
            "epoch: 25, loss: 193.47955710376206, acc: 0.34375\n",
            "epoch: 26, loss: 210.41462161908152, acc: 0.34375\n",
            "epoch: 27, loss: 161.82626955344023, acc: 0.25\n",
            "epoch: 28, loss: 171.25759990600378, acc: 0.125\n",
            "epoch: 29, loss: 134.7769570434763, acc: 0.5\n",
            "epoch: 30, loss: 140.2174325686329, acc: 0.25\n",
            "epoch: 31, loss: 109.91837977126784, acc: 0.4375\n",
            "epoch: 32, loss: 102.11847123672001, acc: 0.34375\n",
            "epoch: 33, loss: 140.50162196085944, acc: 0.25\n",
            "epoch: 34, loss: 110.4396198042667, acc: 0.40625\n",
            "epoch: 35, loss: 134.17274192573296, acc: 0.3125\n",
            "epoch: 36, loss: 80.51164523502642, acc: 0.375\n",
            "epoch: 37, loss: 98.20979057780843, acc: 0.3125\n",
            "epoch: 38, loss: 107.50512660297179, acc: 0.21875\n",
            "epoch: 39, loss: -0.0, acc: nan\n",
            "epoch: 40, loss: 81.8553435829136, acc: 0.375\n",
            "epoch: 41, loss: 104.31397402244453, acc: 0.3125\n",
            "epoch: 42, loss: 72.91503394201386, acc: 0.4375\n",
            "epoch: 43, loss: 71.90995328853691, acc: 0.28125\n",
            "epoch: 44, loss: 46.051545217032455, acc: 0.40625\n",
            "epoch: 45, loss: 73.11110128152981, acc: 0.34375\n",
            "epoch: 46, loss: 66.82925461481905, acc: 0.3125\n",
            "epoch: 47, loss: 60.088943634273036, acc: 0.25\n",
            "epoch: 48, loss: 54.84446064798132, acc: 0.1875\n",
            "epoch: 49, loss: 44.0755192583953, acc: 0.40625\n",
            "epoch: 50, loss: 50.377366644491914, acc: 0.3125\n",
            "epoch: 51, loss: 44.94231891848085, acc: 0.375\n",
            "epoch: 52, loss: 37.61966819003348, acc: 0.40625\n",
            "epoch: 53, loss: 49.89050998443906, acc: 0.34375\n",
            "epoch: 54, loss: 41.80293552620583, acc: 0.28125\n",
            "epoch: 55, loss: 35.97967705053067, acc: 0.28125\n",
            "epoch: 56, loss: 35.01420467301029, acc: 0.4375\n",
            "epoch: 57, loss: 35.13846492439814, acc: 0.21875\n",
            "epoch: 58, loss: 41.820075971160534, acc: 0.25\n",
            "epoch: 59, loss: -0.0, acc: nan\n",
            "epoch: 60, loss: 36.40896797191347, acc: 0.46875\n",
            "epoch: 61, loss: 33.15442892613673, acc: 0.46875\n",
            "epoch: 62, loss: 35.04943731411398, acc: 0.46875\n",
            "epoch: 63, loss: 29.880862815302915, acc: 0.34375\n",
            "epoch: 64, loss: 29.35223940245654, acc: 0.59375\n",
            "epoch: 65, loss: 37.687356436278485, acc: 0.46875\n",
            "epoch: 66, loss: 35.281603687693945, acc: 0.5\n",
            "epoch: 67, loss: 35.869637874305745, acc: 0.34375\n",
            "epoch: 68, loss: 36.39340928276262, acc: 0.4375\n",
            "epoch: 69, loss: 35.68216458462674, acc: 0.53125\n",
            "epoch: 70, loss: 34.61157990982763, acc: 0.53125\n",
            "epoch: 71, loss: 35.045785433437175, acc: 0.375\n",
            "epoch: 72, loss: 31.45719606598796, acc: 0.625\n",
            "epoch: 73, loss: 35.67924277236439, acc: 0.46875\n",
            "epoch: 74, loss: 35.24199970437451, acc: 0.5625\n",
            "epoch: 75, loss: 26.91550045634008, acc: 0.6875\n",
            "epoch: 76, loss: 35.397521559886044, acc: 0.5\n",
            "epoch: 77, loss: 32.48130181885726, acc: 0.4375\n",
            "epoch: 78, loss: 32.689566896467916, acc: 0.4375\n",
            "epoch: 79, loss: -0.0, acc: nan\n",
            "epoch: 80, loss: 37.333681530622925, acc: 0.5625\n",
            "epoch: 81, loss: 31.167244964902704, acc: 0.65625\n",
            "epoch: 82, loss: 32.86773718031965, acc: 0.5\n",
            "epoch: 83, loss: 27.87984773048578, acc: 0.4375\n",
            "epoch: 84, loss: 30.754613962354153, acc: 0.71875\n",
            "epoch: 85, loss: 34.30195782594856, acc: 0.53125\n",
            "epoch: 86, loss: 35.6189779738575, acc: 0.59375\n",
            "epoch: 87, loss: 35.20064443838126, acc: 0.53125\n",
            "epoch: 88, loss: 36.30417392069567, acc: 0.625\n",
            "epoch: 89, loss: 36.80712285601773, acc: 0.5625\n",
            "epoch: 90, loss: 36.48965112082158, acc: 0.625\n",
            "epoch: 91, loss: 37.403841371789746, acc: 0.4375\n",
            "epoch: 92, loss: 32.65617399800904, acc: 0.65625\n",
            "epoch: 93, loss: 38.004980275263236, acc: 0.5\n",
            "epoch: 94, loss: 36.56527804882363, acc: 0.625\n",
            "epoch: 95, loss: 27.293124192995897, acc: 0.71875\n",
            "epoch: 96, loss: 36.16737112405551, acc: 0.5\n",
            "epoch: 97, loss: 33.99897858926515, acc: 0.4375\n",
            "epoch: 98, loss: 32.35178413901366, acc: 0.53125\n",
            "epoch: 99, loss: -0.0, acc: nan\n"
          ]
        },
        {
          "output_type": "stream",
          "name": "stderr",
          "text": [
            "/usr/local/lib/python3.7/dist-packages/ipykernel_launcher.py:10: RuntimeWarning: divide by zero encountered in log\n",
            "  # Remove the CWD from sys.path while we load stuff.\n",
            "/usr/local/lib/python3.7/dist-packages/ipykernel_launcher.py:10: RuntimeWarning: invalid value encountered in multiply\n",
            "  # Remove the CWD from sys.path while we load stuff.\n",
            "/usr/local/lib/python3.7/dist-packages/ipykernel_launcher.py:39: RuntimeWarning: invalid value encountered in long_scalars\n"
          ]
        }
      ]
    },
    {
      "cell_type": "code",
      "source": [
        "plt.plot(history['losses'])\n",
        "plt.show"
      ],
      "metadata": {
        "colab": {
          "base_uri": "https://localhost:8080/",
          "height": 284
        },
        "id": "xdacGRiaCb_G",
        "outputId": "1b2abbcf-3d71-4337-a170-894b6943cac7"
      },
      "execution_count": null,
      "outputs": [
        {
          "output_type": "execute_result",
          "data": {
            "text/plain": [
              "<function matplotlib.pyplot.show(*args, **kw)>"
            ]
          },
          "metadata": {},
          "execution_count": 160
        },
        {
          "output_type": "display_data",
          "data": {
            "text/plain": [
              "<Figure size 432x288 with 1 Axes>"
            ],
            "image/png": "[encoded data removed]"
          },
          "metadata": {
            "needs_background": "light"
          }
        }
      ]
    },
    {
      "cell_type": "code",
      "source": [
        "plt.plot(history['accs'])\n",
        "plt.show"
      ],
      "metadata": {
        "colab": {
          "base_uri": "https://localhost:8080/",
          "height": 284
        },
        "id": "iwFcPkt4utBT",
        "outputId": "59174b7b-d486-4ff3-9a4f-887f94b7fbc1"
      },
      "execution_count": null,
      "outputs": [
        {
          "output_type": "execute_result",
          "data": {
            "text/plain": [
              "<function matplotlib.pyplot.show(*args, **kw)>"
            ]
          },
          "metadata": {},
          "execution_count": 161
        },
        {
          "output_type": "display_data",
          "data": {
            "text/plain": [
              "<Figure size 432x288 with 1 Axes>"
            ],
            "image/png": "[encoded data removed]"
          },
          "metadata": {
            "needs_background": "light"
          }
        }
      ]
    },
    {
      "cell_type": "code",
      "source": [
        "eval = LRModel.evaluate(x_val, y_val)\n",
        "print(f\"evaluatiotn: {eval}%\")"
      ],
      "metadata": {
        "colab": {
          "base_uri": "https://localhost:8080/"
        },
        "id": "q223qn35Cb8X",
        "outputId": "c6826fbe-28f2-44aa-9955-3a69ad1ccac9"
      },
      "execution_count": null,
      "outputs": [
        {
          "output_type": "stream",
          "name": "stdout",
          "text": [
            "evaluatiotn: 0.6348314606741573%\n"
          ]
        }
      ]
    },
    {
      "cell_type": "markdown",
      "source": [
        "## batch_size = n_sample, learning_rate = 0.001"
      ],
      "metadata": {
        "id": "SaJIoMb_ICc4"
      }
    },
    {
      "cell_type": "code",
      "source": [
        "batch_size = len(x_train)\n",
        "learning_rate = 0.001\n",
        "LRModel = LogisticRegression(batch_size, n_features)\n",
        "history = LRModel.fit(x_train, y_train, n_iters, learning_rate)"
      ],
      "metadata": {
        "colab": {
          "base_uri": "https://localhost:8080/",
          "height": 1000,
          "referenced_widgets": [
            "9a2eca8c0a744f4689f784e0d9d2f1af",
            "89a828772b1a4a979296ef2e18607e4e",
            "6e767385a1df4cc7bc6b0e551c8848ab",
            "0196c82a210547ce9e6048618f4c5813",
            "3877253d166b468c9d040878784e49ab",
            "cf10db218b4942c388daee09d1646507",
            "4df32eac7fd14944bdcfb9e8b544c935",
            "e9d8c369ca49469fa6b2eeddfe7da1fa",
            "2785a377bf4f4a0a92df1bef2f6bd387",
            "4618c93b823c427b9bcb7a4799e17a5d",
            "75159572398547059390dfd787e6ed73"
          ]
        },
        "id": "RuSxfMpyCb6I",
        "outputId": "6ede2ad4-aa66-4735-deb7-091500fb617e"
      },
      "execution_count": null,
      "outputs": [
        {
          "output_type": "display_data",
          "data": {
            "text/plain": [
              "  0%|          | 0/100 [00:00<?, ?it/s]"
            ],
            "application/vnd.jupyter.widget-view+json": {
              "version_major": 2,
              "version_minor": 0,
              "model_id": "9a2eca8c0a744f4689f784e0d9d2f1af"
            }
          },
          "metadata": {}
        },
        {
          "output_type": "stream",
          "name": "stderr",
          "text": [
            "/usr/local/lib/python3.7/dist-packages/ipykernel_launcher.py:10: RuntimeWarning: divide by zero encountered in log\n",
            "  # Remove the CWD from sys.path while we load stuff.\n",
            "/usr/local/lib/python3.7/dist-packages/ipykernel_launcher.py:10: RuntimeWarning: invalid value encountered in multiply\n",
            "  # Remove the CWD from sys.path while we load stuff.\n"
          ]
        },
        {
          "output_type": "stream",
          "name": "stdout",
          "text": [
            "epoch: 0, loss: nan, acc: 0.38362760834670945\n",
            "epoch: 1, loss: nan, acc: 0.38362760834670945\n",
            "epoch: 2, loss: nan, acc: 0.38362760834670945\n",
            "epoch: 3, loss: nan, acc: 0.38362760834670945\n",
            "epoch: 4, loss: nan, acc: 0.38362760834670945\n",
            "epoch: 5, loss: nan, acc: 0.38362760834670945\n",
            "epoch: 6, loss: nan, acc: 0.38362760834670945\n",
            "epoch: 7, loss: nan, acc: 0.38362760834670945\n",
            "epoch: 8, loss: nan, acc: 0.38362760834670945\n",
            "epoch: 9, loss: nan, acc: 0.38362760834670945\n",
            "epoch: 10, loss: nan, acc: 0.38362760834670945\n",
            "epoch: 11, loss: nan, acc: 0.38362760834670945\n",
            "epoch: 12, loss: nan, acc: 0.38362760834670945\n",
            "epoch: 13, loss: nan, acc: 0.38362760834670945\n",
            "epoch: 14, loss: nan, acc: 0.38362760834670945\n",
            "epoch: 15, loss: nan, acc: 0.38362760834670945\n",
            "epoch: 16, loss: nan, acc: 0.38362760834670945\n",
            "epoch: 17, loss: nan, acc: 0.38362760834670945\n",
            "epoch: 18, loss: nan, acc: 0.38362760834670945\n",
            "epoch: 19, loss: nan, acc: 0.38362760834670945\n",
            "epoch: 20, loss: nan, acc: 0.38362760834670945\n",
            "epoch: 21, loss: nan, acc: 0.38362760834670945\n",
            "epoch: 22, loss: nan, acc: 0.38362760834670945\n",
            "epoch: 23, loss: nan, acc: 0.38362760834670945\n",
            "epoch: 24, loss: nan, acc: 0.38362760834670945\n",
            "epoch: 25, loss: nan, acc: 0.38362760834670945\n",
            "epoch: 26, loss: nan, acc: 0.38362760834670945\n",
            "epoch: 27, loss: nan, acc: 0.38362760834670945\n",
            "epoch: 28, loss: nan, acc: 0.38362760834670945\n",
            "epoch: 29, loss: nan, acc: 0.38362760834670945\n",
            "epoch: 30, loss: nan, acc: 0.38362760834670945\n",
            "epoch: 31, loss: nan, acc: 0.38362760834670945\n",
            "epoch: 32, loss: nan, acc: 0.38362760834670945\n",
            "epoch: 33, loss: nan, acc: 0.38362760834670945\n",
            "epoch: 34, loss: 2536.3137903448583, acc: 0.38362760834670945\n",
            "epoch: 35, loss: 2173.030943544139, acc: 0.38362760834670945\n",
            "epoch: 36, loss: 1815.0597179489876, acc: 0.38362760834670945\n",
            "epoch: 37, loss: 1468.6670619324473, acc: 0.38362760834670945\n",
            "epoch: 38, loss: 1150.2343484171895, acc: 0.38362760834670945\n",
            "epoch: 39, loss: 910.3998000072074, acc: 0.3884430176565008\n",
            "epoch: 40, loss: 796.6870833185117, acc: 0.3852327447833066\n",
            "epoch: 41, loss: 744.4282454023546, acc: 0.38362760834670945\n",
            "epoch: 42, loss: 715.2841521391268, acc: 0.3996789727126806\n",
            "epoch: 43, loss: 697.2427353040384, acc: 0.4189406099518459\n",
            "epoch: 44, loss: 685.5021734696946, acc: 0.43820224719101125\n",
            "epoch: 45, loss: 677.7123806048895, acc: 0.45425361155698235\n",
            "epoch: 46, loss: 672.5536307358311, acc: 0.4654895666131621\n",
            "epoch: 47, loss: 669.2139487939927, acc: 0.48314606741573035\n",
            "epoch: 48, loss: 667.1604601478193, acc: 0.5329052969502408\n",
            "epoch: 49, loss: 666.023726607197, acc: 0.5489566613162119\n",
            "epoch: 50, loss: 665.5352861472364, acc: 0.5842696629213483\n",
            "epoch: 51, loss: 665.4944698893869, acc: 0.5922953451043339\n",
            "epoch: 52, loss: 665.7526824816794, acc: 0.6003210272873194\n",
            "epoch: 53, loss: 666.2058841136718, acc: 0.6019261637239165\n",
            "epoch: 54, loss: 666.7867192049371, acc: 0.6003210272873194\n",
            "epoch: 55, loss: 667.4532896574481, acc: 0.6003210272873194\n",
            "epoch: 56, loss: 668.1780240423161, acc: 0.6003210272873194\n",
            "epoch: 57, loss: 668.940330981406, acc: 0.6179775280898876\n",
            "epoch: 58, loss: 669.7232379677545, acc: 0.6179775280898876\n",
            "epoch: 59, loss: 670.5123288082063, acc: 0.6211878009630819\n",
            "epoch: 60, loss: 671.2955233492695, acc: 0.622792937399679\n",
            "epoch: 61, loss: 672.0629996574227, acc: 0.622792937399679\n",
            "epoch: 62, loss: 672.8070495622057, acc: 0.6308186195826645\n",
            "epoch: 63, loss: 673.5218562289539, acc: 0.6308186195826645\n",
            "epoch: 64, loss: 674.2032315528661, acc: 0.6243980738362761\n",
            "epoch: 65, loss: 674.8483486768276, acc: 0.6260032102728732\n",
            "epoch: 66, loss: 675.4554917502873, acc: 0.6308186195826645\n",
            "epoch: 67, loss: 676.0238337233807, acc: 0.6308186195826645\n",
            "epoch: 68, loss: 676.5532456260295, acc: 0.6308186195826645\n",
            "epoch: 69, loss: 677.0441366560947, acc: 0.6324237560192616\n",
            "epoch: 70, loss: 677.497322370005, acc: 0.6340288924558587\n",
            "epoch: 71, loss: 677.9139174697497, acc: 0.6388443017656501\n",
            "epoch: 72, loss: 678.2952495539975, acc: 0.6388443017656501\n",
            "epoch: 73, loss: 678.6427904156643, acc: 0.6420545746388443\n",
            "epoch: 74, loss: 678.9581018336543, acc: 0.6420545746388443\n",
            "epoch: 75, loss: 679.2427932186773, acc: 0.6420545746388443\n",
            "epoch: 76, loss: 679.498488877419, acc: 0.6436597110754414\n",
            "epoch: 77, loss: 679.7268030297034, acc: 0.6436597110754414\n",
            "epoch: 78, loss: 679.9293210390015, acc: 0.6436597110754414\n",
            "epoch: 79, loss: 680.1075855958779, acc: 0.6452648475120385\n",
            "epoch: 80, loss: 680.2630868290144, acc: 0.6436597110754414\n",
            "epoch: 81, loss: 680.3972555138819, acc: 0.6436597110754414\n",
            "epoch: 82, loss: 680.5114587100343, acc: 0.6436597110754414\n",
            "epoch: 83, loss: 680.6069972895748, acc: 0.6452648475120385\n",
            "epoch: 84, loss: 680.6851049263682, acc: 0.6452648475120385\n",
            "epoch: 85, loss: 680.7469482022155, acc: 0.6468699839486356\n",
            "epoch: 86, loss: 680.7936275561809, acc: 0.6468699839486356\n",
            "epoch: 87, loss: 680.8261788596067, acc: 0.6468699839486356\n",
            "epoch: 88, loss: 680.8455754446258, acc: 0.6468699839486356\n",
            "epoch: 89, loss: 680.8527304503358, acc: 0.6484751203852327\n",
            "epoch: 90, loss: 680.8484993799042, acc: 0.6484751203852327\n",
            "epoch: 91, loss: 680.8336827852055, acc: 0.6484751203852327\n",
            "epoch: 92, loss: 680.8090290142139, acc: 0.6484751203852327\n",
            "epoch: 93, loss: 680.7752369712913, acc: 0.6484751203852327\n",
            "epoch: 94, loss: 680.7329588523456, acc: 0.6484751203852327\n",
            "epoch: 95, loss: 680.6828028263302, acc: 0.6484751203852327\n",
            "epoch: 96, loss: 680.6253356420425, acc: 0.6484751203852327\n",
            "epoch: 97, loss: 680.5610851451497, acc: 0.6484751203852327\n",
            "epoch: 98, loss: 680.490542695069, acc: 0.6484751203852327\n",
            "epoch: 99, loss: 680.4141654750446, acc: 0.6484751203852327\n"
          ]
        }
      ]
    },
    {
      "cell_type": "code",
      "source": [
        "plt.plot(history['losses'])\n",
        "plt.show"
      ],
      "metadata": {
        "colab": {
          "base_uri": "https://localhost:8080/",
          "height": 284
        },
        "id": "96MiPUPfCb09",
        "outputId": "afe274ec-9d4e-4c72-ceb5-cd8e1f144ab5"
      },
      "execution_count": null,
      "outputs": [
        {
          "output_type": "execute_result",
          "data": {
            "text/plain": [
              "<function matplotlib.pyplot.show(*args, **kw)>"
            ]
          },
          "metadata": {},
          "execution_count": 163
        },
        {
          "output_type": "display_data",
          "data": {
            "text/plain": [
              "<Figure size 432x288 with 1 Axes>"
            ],
            "image/png": "[encoded data removed]"
          },
          "metadata": {
            "needs_background": "light"
          }
        }
      ]
    },
    {
      "cell_type": "code",
      "source": [
        "plt.plot(history['accs'])\n",
        "plt.show"
      ],
      "metadata": {
        "colab": {
          "base_uri": "https://localhost:8080/",
          "height": 284
        },
        "id": "uMZD2RIsCbyT",
        "outputId": "e18fbef8-2f33-4b5e-b8c4-08f661c0415b"
      },
      "execution_count": null,
      "outputs": [
        {
          "output_type": "execute_result",
          "data": {
            "text/plain": [
              "<function matplotlib.pyplot.show(*args, **kw)>"
            ]
          },
          "metadata": {},
          "execution_count": 164
        },
        {
          "output_type": "display_data",
          "data": {
            "text/plain": [
              "<Figure size 432x288 with 1 Axes>"
            ],
            "image/png": "[encoded data removed]"
          },
          "metadata": {
            "needs_background": "light"
          }
        }
      ]
    },
    {
      "cell_type": "code",
      "source": [
        "eval = LRModel.evaluate(x_val, y_val)\n",
        "print(f\"evaluatiotn: {eval}%\")"
      ],
      "metadata": {
        "colab": {
          "base_uri": "https://localhost:8080/"
        },
        "id": "L-R4V2v3Cbvw",
        "outputId": "38a7bae1-cd4d-4e7d-d730-bcf7f21dd96c"
      },
      "execution_count": null,
      "outputs": [
        {
          "output_type": "stream",
          "name": "stdout",
          "text": [
            "evaluatiotn: 0.6404494382022472%\n"
          ]
        }
      ]
    }
  ]
}
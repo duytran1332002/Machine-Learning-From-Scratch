{
 "cells": [
  {
   "cell_type": "code",
   "execution_count": 2,
   "metadata": {},
   "outputs": [],
   "source": [
    "import numpy as np\n"
   ]
  },
  {
   "cell_type": "markdown",
   "metadata": {},
   "source": [
    "# Bayes Model From Scratch"
   ]
  },
  {
   "cell_type": "code",
   "execution_count": 1,
   "metadata": {},
   "outputs": [
    {
     "ename": "IndentationError",
     "evalue": "expected an indented block after 'for' statement on line 7 (3008058220.py, line 9)",
     "output_type": "error",
     "traceback": [
      "\u001b[0;36m  Cell \u001b[0;32mIn [1], line 9\u001b[0;36m\u001b[0m\n\u001b[0;31m    def bernouliNaiveBayes(self, feature, label):\u001b[0m\n\u001b[0m    ^\u001b[0m\n\u001b[0;31mIndentationError\u001b[0m\u001b[0;31m:\u001b[0m expected an indented block after 'for' statement on line 7\n"
     ]
    }
   ],
   "source": [
    "class Bayes():\n",
    "    def __init__(self):\n",
    "\n",
    "        self.features = list()\n",
    "        self.prior = {}\n",
    "        self.likelihood = {}\n",
    "        self.pred_prior = {}\n",
    "        self.train_size = int\n",
    "        self.num_feats = int\n",
    "        self.X_train = np.array\n",
    "        self.y_train = np.array\n",
    "\n",
    "    def findClassPrior(self):\n",
    "        \"\"\" P(c) - Prior class probability P(c) = count(c) / count(all) \"\"\"\n",
    "        for c in np.unique(self.y_train):\n",
    "            self.prior[c] = np.sum(self.y_train == c) / self.train_size\n",
    "\n",
    "    def findLikelihoodBernoulli(self):\n",
    "        \"\"\" P(x|c) - Likelihood of feature given class P(x|c) = count(x|c) / count(c) \"\"\"\n",
    "        for feature in self.features:\n",
    "            for c in np.unique(self.y_train):\n",
    "                self.likelihood[feature][c] = np.sum(\n",
    "                    self.X_train[self.y_train == c, feature]) / np.sum(self.y_train == c)\n",
    "    def  findLikelihoodGaussian(self):\n",
    "        \n",
    "    def setBernoulliNaiveBayes(self):\n",
    "        self.findClassPrior()\n",
    "        self.findLikelihoodBernoulli()\n",
    "\n",
    "    def setGaussianNaiveBayes(self):\n",
    "        pass\n",
    "\n",
    "    def fit(self, function, X, y):\n",
    "        self.features = list(X.columns)\n",
    "        self.X_train = X\n",
    "        self.y_train = y\n",
    "        self.train_size = X.shape[0]\n",
    "        self.num_feats = X.shape[1]\n",
    "\n",
    "        if function == 'Bernoulli':\n",
    "\n"
   ]
  },
  {
   "cell_type": "code",
   "execution_count": 55,
   "metadata": {},
   "outputs": [
    {
     "ename": "KeyError",
     "evalue": "1",
     "output_type": "error",
     "traceback": [
      "\u001b[0;31m---------------------------------------------------------------------------\u001b[0m",
      "\u001b[0;31mKeyError\u001b[0m                                  Traceback (most recent call last)",
      "Cell \u001b[0;32mIn [55], line 6\u001b[0m\n\u001b[1;32m      4\u001b[0m \u001b[39mfor\u001b[39;00m feature \u001b[39min\u001b[39;00m [\u001b[39m1\u001b[39m, \u001b[39m2\u001b[39m, \u001b[39m3\u001b[39m]:\n\u001b[1;32m      5\u001b[0m     \u001b[39mfor\u001b[39;00m c \u001b[39min\u001b[39;00m np\u001b[39m.\u001b[39munique(y):\n\u001b[0;32m----> 6\u001b[0m         likelihood[feature][c] \u001b[39m=\u001b[39m np\u001b[39m.\u001b[39msum(x[y \u001b[39m==\u001b[39m c, feature]) \u001b[39m/\u001b[39m np\u001b[39m.\u001b[39msum(y \u001b[39m==\u001b[39m c)\n\u001b[1;32m      7\u001b[0m \u001b[39mprint\u001b[39m(likelihood)\n",
      "\u001b[0;31mKeyError\u001b[0m: 1"
     ]
    }
   ],
   "source": [
    "x = np.array([[1, 2, 2], [2, 1, 2], [1, 2, 1], [1, 1, 1]])\n",
    "y = np.array([1, 2, 1, 2])\n",
    "likelihood = {}\n",
    "for feature in [1, 2, 3]:\n",
    "    for c in np.unique(y):\n",
    "        likelihood[feature][c] = np.sum(x[y == c, feature]) / np.sum(y == c)\n",
    "print(likelihood)"
   ]
  },
  {
   "cell_type": "code",
   "execution_count": null,
   "metadata": {},
   "outputs": [],
   "source": []
  }
 ],
 "metadata": {
  "kernelspec": {
   "display_name": "Python 3.10.4 64-bit",
   "language": "python",
   "name": "python3"
  },
  "language_info": {
   "codemirror_mode": {
    "name": "ipython",
    "version": 3
   },
   "file_extension": ".py",
   "mimetype": "text/x-python",
   "name": "python",
   "nbconvert_exporter": "python",
   "pygments_lexer": "ipython3",
   "version": "3.10.4"
  },
  "orig_nbformat": 4,
  "vscode": {
   "interpreter": {
    "hash": "916dbcbb3f70747c44a77c7bcd40155683ae19c65e1c03b4aa3499c5328201f1"
   }
  }
 },
 "nbformat": 4,
 "nbformat_minor": 2
}

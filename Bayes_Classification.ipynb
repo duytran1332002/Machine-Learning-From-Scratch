{
 "cells": [
  {
   "cell_type": "code",
   "execution_count": 176,
   "metadata": {},
   "outputs": [],
   "source": [
    "import numpy as np\n",
    "import pandas as pd\n",
    "import sklearn.datasets as datasets"
   ]
  },
  {
   "cell_type": "markdown",
   "metadata": {},
   "source": [
    "# Bayes Model From Scratch"
   ]
  },
  {
   "cell_type": "code",
   "execution_count": 171,
   "metadata": {},
   "outputs": [],
   "source": [
    "class NaiveBayesClassifier():\n",
    "    def __init__(self, typeBayes):\n",
    "\n",
    "        self.features = list()\n",
    "        self.prior = {}\n",
    "        self.likelihood = {}\n",
    "        self.pred_prior = {}\n",
    "        \n",
    "        self.train_size = int\n",
    "        self.num_feats = int\n",
    "        self.X_train = np.array\n",
    "        self.y_train = np.array\n",
    "\n",
    "        self.typeBayes = typeBayes\n",
    "\n",
    "    def setClassPrior(self):\n",
    "        \"\"\" P(c) - Prior class probability P(c) = count(c) / count(all) \"\"\"\n",
    "        for c in np.unique(self.y_train):\n",
    "            self.prior[c] = np.sum(self.y_train == c) / self.train_size\n",
    "\n",
    "    def setLikelihoodBernoulli(self):\n",
    "        \"\"\" P(x|c) - Likelihood of feature given class P(x|c) = count(x|c) / count(c) \"\"\"\n",
    "        for feature in self.features:\n",
    "            for c in np.unique(self.y_train):\n",
    "                feat_likelihood = self.X_train[feature][self.y_train[self.y_train == c].index].value_counts().to_dict()\n",
    "                for feat_val, count in feat_likelihood.items():\n",
    "                    self.likelihood[feature][feat_val + \"|\" + c] = count / np.sum(self.y_train == c)\n",
    "    \n",
    "    def calculateGaussian(self, query, feature, c):\n",
    "        \"\"\" Gaussian distribution\"\"\"\n",
    "        return (1 / (np.sqrt(2 * np.pi) * self.likelihood[feature][c]['std'])) * np.exp(-0.5 * ((query - self.likelihood[feature][c]['mean']) / self.likelihood[feature][c]['std']) ** 2)\n",
    "    \n",
    "    def  setLikelihoodGaussian(self):\n",
    "        \"\"\" P(x|c) - Gaussian distribution of feature given class P(x|c) = count(x|c) / count(c) \"\"\"\n",
    "        for feature in self.features:\n",
    "            for c in np.unique(self.y_train):\n",
    "                mean = np.mean(self.X_train[feature][self.y_train[self.y_train == c].index])\n",
    "                std = np.std(self.X_train[feature][self.y_train[self.y_train == c].index])\n",
    "                self.likelihood[feature][c]['mean'] = mean\n",
    "                self.likelihood[feature][c]['std'] = std\n",
    "\n",
    "\n",
    "    def setPredictPrior(self):\n",
    "        for feature in self.features:\n",
    "            feat_val = self.X_train[feature].value_counts().to_dict()\n",
    "\n",
    "            for val, count in feat_val.items():\n",
    "                self.pred_prior[feature][val] = count / self.train_size\n",
    "\n",
    "    def setBernoulliBayes(self):\n",
    "        for feature in self.features:\n",
    "            self.likelihood[feature] = {}\n",
    "            self.pred_prior[feature] = {}\n",
    "            for feat_val in np.unique(self.X_train[feature]):\n",
    "                self.pred_prior[feature].update({feat_val: 0})\n",
    "                for c in np.unique(self.y_train):\n",
    "                    self.likelihood[feature].update({feat_val+'|'+c:0})\n",
    "                    self.prior.update({c: 0})\n",
    "        self.setClassPrior()\n",
    "        self.setLikelihoodBernoulli()\n",
    "        self.setPredictPrior()\n",
    "\n",
    "    def setGaussianBayes(self):\n",
    "        for feature in self.features:\n",
    "            self.likelihood[feature] = {}\n",
    "            self.pred_prior[feature] = {}\n",
    "            for c in np.unique(self.y_train):\n",
    "                self.likelihood[feature].update({c:{}})\n",
    "                self.prior.update({c: 0})\n",
    "\n",
    "        self.setClassPrior()\n",
    "        self.setLikelihoodGaussian()\n",
    "        \n",
    "    def predictBernoulliNaiveBayes(self, X):\n",
    "        result = []\n",
    "        X = np.array(X)\n",
    "        for query in X:\n",
    "            probs_outcome = {} # P(c|x) probability of outcome given query\n",
    "            for c in np.unique(self.y_train):\n",
    "                priors = self.prior[c]\n",
    "                likelihood = 1\n",
    "                evidence = 1\n",
    "                for feature, feat_val in zip(self.features, query):\n",
    "                   likelihood *= self.likelihood[feature][feat_val + \"|\" + c] # P(A, B | C) = P(A | C) * P(B | C)\n",
    "                   evidence *= self.pred_prior[feature][feat_val]\n",
    "                probs_outcome[c] = (likelihood * priors) / (evidence)\n",
    "            result.append(max(probs_outcome, key=probs_outcome.get)) \n",
    "        return result\n",
    "\n",
    "    def predictGaussianNaiveBayes(self, X):\n",
    "        result = []\n",
    "        X = np.array(X)\n",
    "        for query in X:\n",
    "            probs_outcome = {} # P(c|x) probability of outcome given query\n",
    "            for c in np.unique(self.y_train):\n",
    "                likelihood = 1\n",
    "                evidence = 1\n",
    "                probs_outcome[c] = self.prior[c]\n",
    "                for feature, feat_val in zip(self.features, query):\n",
    "                   likelihood *=  self.calculateGaussian(feat_val, feature, c) # P(A, B | C) = P(A | C) * P(B | C)\n",
    "                probs_outcome[c] *= likelihood\n",
    "            result.append(max(probs_outcome, key=probs_outcome.get)) \n",
    "        return result\n",
    "\n",
    "    def fit(self, X, y):\n",
    "        self.features = list(X.columns)\n",
    "        self.X_train = X\n",
    "        self.y_train = y\n",
    "        self.train_size = X.shape[0]\n",
    "        self.num_feats = X.shape[1]\n",
    "\n",
    "        if self.typeBayes == 'Bernoulli':\n",
    "            self.setBernoulliBayes()\n",
    "        elif self.typeBayes == 'Gaussian':\n",
    "            self.setGaussianBayes()\n",
    "\n",
    "    def predict(self, X):\n",
    "        if self.typeBayes == 'Bernoulli':\n",
    "            return self.predictBernoulliNaiveBayes(X)\n",
    "        elif self.typeBayes == 'Gaussian':\n",
    "            return self.predictGaussianNaiveBayes(X)\n",
    "\n",
    "    def findAccuracyScore(self, y_true, y_pred):\n",
    "        \"\"\"\tscore = (y_true - y_pred) / len(y_true) \"\"\"\n",
    "        return round(float(sum(y_pred == y_true))/float(len(y_true)) * 100 ,2)\n",
    "\n",
    "    def printPredict(self, query):\n",
    "        print(\"Query:- {} ---> {}\".format(query, self.predict(query)))"
   ]
  },
  {
   "cell_type": "markdown",
   "metadata": {},
   "source": [
    "# Test with weather dataset"
   ]
  },
  {
   "cell_type": "code",
   "execution_count": 177,
   "metadata": {},
   "outputs": [
    {
     "data": {
      "text/html": [
       "<div>\n",
       "<style scoped>\n",
       "    .dataframe tbody tr th:only-of-type {\n",
       "        vertical-align: middle;\n",
       "    }\n",
       "\n",
       "    .dataframe tbody tr th {\n",
       "        vertical-align: top;\n",
       "    }\n",
       "\n",
       "    .dataframe thead th {\n",
       "        text-align: right;\n",
       "    }\n",
       "</style>\n",
       "<table border=\"1\" class=\"dataframe\">\n",
       "  <thead>\n",
       "    <tr style=\"text-align: right;\">\n",
       "      <th></th>\n",
       "      <th>Outlook</th>\n",
       "      <th>Temp</th>\n",
       "      <th>Humidity</th>\n",
       "      <th>Windy</th>\n",
       "      <th>Play</th>\n",
       "    </tr>\n",
       "  </thead>\n",
       "  <tbody>\n",
       "    <tr>\n",
       "      <th>0</th>\n",
       "      <td>Rainy</td>\n",
       "      <td>Hot</td>\n",
       "      <td>High</td>\n",
       "      <td>f</td>\n",
       "      <td>no</td>\n",
       "    </tr>\n",
       "    <tr>\n",
       "      <th>1</th>\n",
       "      <td>Rainy</td>\n",
       "      <td>Hot</td>\n",
       "      <td>High</td>\n",
       "      <td>t</td>\n",
       "      <td>no</td>\n",
       "    </tr>\n",
       "    <tr>\n",
       "      <th>2</th>\n",
       "      <td>Overcast</td>\n",
       "      <td>Hot</td>\n",
       "      <td>High</td>\n",
       "      <td>f</td>\n",
       "      <td>yes</td>\n",
       "    </tr>\n",
       "    <tr>\n",
       "      <th>3</th>\n",
       "      <td>Sunny</td>\n",
       "      <td>Mild</td>\n",
       "      <td>High</td>\n",
       "      <td>f</td>\n",
       "      <td>yes</td>\n",
       "    </tr>\n",
       "    <tr>\n",
       "      <th>4</th>\n",
       "      <td>Sunny</td>\n",
       "      <td>Cool</td>\n",
       "      <td>Normal</td>\n",
       "      <td>f</td>\n",
       "      <td>yes</td>\n",
       "    </tr>\n",
       "    <tr>\n",
       "      <th>5</th>\n",
       "      <td>Sunny</td>\n",
       "      <td>Cool</td>\n",
       "      <td>Normal</td>\n",
       "      <td>t</td>\n",
       "      <td>no</td>\n",
       "    </tr>\n",
       "    <tr>\n",
       "      <th>6</th>\n",
       "      <td>Overcast</td>\n",
       "      <td>Cool</td>\n",
       "      <td>Normal</td>\n",
       "      <td>t</td>\n",
       "      <td>yes</td>\n",
       "    </tr>\n",
       "    <tr>\n",
       "      <th>7</th>\n",
       "      <td>Rainy</td>\n",
       "      <td>Mild</td>\n",
       "      <td>High</td>\n",
       "      <td>f</td>\n",
       "      <td>no</td>\n",
       "    </tr>\n",
       "    <tr>\n",
       "      <th>8</th>\n",
       "      <td>Rainy</td>\n",
       "      <td>Cool</td>\n",
       "      <td>Normal</td>\n",
       "      <td>f</td>\n",
       "      <td>yes</td>\n",
       "    </tr>\n",
       "    <tr>\n",
       "      <th>9</th>\n",
       "      <td>Sunny</td>\n",
       "      <td>Mild</td>\n",
       "      <td>Normal</td>\n",
       "      <td>f</td>\n",
       "      <td>yes</td>\n",
       "    </tr>\n",
       "    <tr>\n",
       "      <th>10</th>\n",
       "      <td>Rainy</td>\n",
       "      <td>Mild</td>\n",
       "      <td>Normal</td>\n",
       "      <td>t</td>\n",
       "      <td>yes</td>\n",
       "    </tr>\n",
       "    <tr>\n",
       "      <th>11</th>\n",
       "      <td>Overcast</td>\n",
       "      <td>Mild</td>\n",
       "      <td>High</td>\n",
       "      <td>t</td>\n",
       "      <td>yes</td>\n",
       "    </tr>\n",
       "    <tr>\n",
       "      <th>12</th>\n",
       "      <td>Overcast</td>\n",
       "      <td>Hot</td>\n",
       "      <td>Normal</td>\n",
       "      <td>f</td>\n",
       "      <td>yes</td>\n",
       "    </tr>\n",
       "    <tr>\n",
       "      <th>13</th>\n",
       "      <td>Sunny</td>\n",
       "      <td>Mild</td>\n",
       "      <td>High</td>\n",
       "      <td>t</td>\n",
       "      <td>no</td>\n",
       "    </tr>\n",
       "  </tbody>\n",
       "</table>\n",
       "</div>"
      ],
      "text/plain": [
       "     Outlook  Temp Humidity Windy Play\n",
       "0      Rainy   Hot     High     f   no\n",
       "1      Rainy   Hot     High     t   no\n",
       "2   Overcast   Hot     High     f  yes\n",
       "3      Sunny  Mild     High     f  yes\n",
       "4      Sunny  Cool   Normal     f  yes\n",
       "5      Sunny  Cool   Normal     t   no\n",
       "6   Overcast  Cool   Normal     t  yes\n",
       "7      Rainy  Mild     High     f   no\n",
       "8      Rainy  Cool   Normal     f  yes\n",
       "9      Sunny  Mild   Normal     f  yes\n",
       "10     Rainy  Mild   Normal     t  yes\n",
       "11  Overcast  Mild     High     t  yes\n",
       "12  Overcast   Hot   Normal     f  yes\n",
       "13     Sunny  Mild     High     t   no"
      ]
     },
     "execution_count": 177,
     "metadata": {},
     "output_type": "execute_result"
    }
   ],
   "source": [
    "weather_dataset = pd.read_table('data/weather.txt', sep=\" \")\n",
    "weather_dataset"
   ]
  },
  {
   "cell_type": "code",
   "execution_count": 70,
   "metadata": {},
   "outputs": [],
   "source": [
    "def pre_processing(df):\n",
    "\n",
    "\t\"\"\" partioning data into features and target \"\"\"\n",
    "\n",
    "\tX = df.drop([df.columns[-1]], axis = 1)\n",
    "\ty = df[df.columns[-1]]\n",
    "\n",
    "\treturn X, y"
   ]
  },
  {
   "cell_type": "code",
   "execution_count": 175,
   "metadata": {},
   "outputs": [],
   "source": [
    "X, y = pre_processing(weather_dataset)"
   ]
  },
  {
   "cell_type": "code",
   "execution_count": 129,
   "metadata": {},
   "outputs": [
    {
     "name": "stdout",
     "output_type": "stream",
     "text": [
      "Train Accuracy: 92.86\n"
     ]
    }
   ],
   "source": [
    "BayesModel = NaiveBayesClassifier('Bernoulli')\n",
    "BayesModel.fit(X, y)\n",
    "print(\"Train Accuracy: {}\".format(BayesModel.findAccuracyScore(y, BayesModel.predict(X))))"
   ]
  },
  {
   "cell_type": "code",
   "execution_count": 130,
   "metadata": {},
   "outputs": [
    {
     "name": "stdout",
     "output_type": "stream",
     "text": [
      "Query:- [['Rainy' 'Mild' 'Normal' 't']] ---> ['yes']\n"
     ]
    }
   ],
   "source": [
    "query = np.array([['Rainy','Mild', 'Normal', 't']])\n",
    "BayesModel.printPredict(query)"
   ]
  },
  {
   "cell_type": "code",
   "execution_count": 131,
   "metadata": {},
   "outputs": [
    {
     "name": "stdout",
     "output_type": "stream",
     "text": [
      "Query:- [['Overcast' 'Cool' 'Normal' 't']] ---> ['yes']\n"
     ]
    }
   ],
   "source": [
    "query = np.array([['Overcast','Cool', 'Normal', 't']])\n",
    "BayesModel.printPredict(query)"
   ]
  },
  {
   "cell_type": "code",
   "execution_count": 132,
   "metadata": {},
   "outputs": [
    {
     "name": "stdout",
     "output_type": "stream",
     "text": [
      "Query:- [['Sunny' 'Hot' 'High' 't']] ---> ['no']\n"
     ]
    }
   ],
   "source": [
    "query = np.array([['Sunny','Hot', 'High', 't']])\n",
    "BayesModel.printPredict(query)"
   ]
  },
  {
   "cell_type": "markdown",
   "metadata": {},
   "source": [
    "# Test with Iris dataset"
   ]
  },
  {
   "cell_type": "code",
   "execution_count": 135,
   "metadata": {},
   "outputs": [
    {
     "data": {
      "text/html": [
       "<div>\n",
       "<style scoped>\n",
       "    .dataframe tbody tr th:only-of-type {\n",
       "        vertical-align: middle;\n",
       "    }\n",
       "\n",
       "    .dataframe tbody tr th {\n",
       "        vertical-align: top;\n",
       "    }\n",
       "\n",
       "    .dataframe thead th {\n",
       "        text-align: right;\n",
       "    }\n",
       "</style>\n",
       "<table border=\"1\" class=\"dataframe\">\n",
       "  <thead>\n",
       "    <tr style=\"text-align: right;\">\n",
       "      <th></th>\n",
       "      <th>sepal length (cm)</th>\n",
       "      <th>sepal width (cm)</th>\n",
       "      <th>petal length (cm)</th>\n",
       "      <th>petal width (cm)</th>\n",
       "      <th>target</th>\n",
       "    </tr>\n",
       "  </thead>\n",
       "  <tbody>\n",
       "    <tr>\n",
       "      <th>0</th>\n",
       "      <td>5.1</td>\n",
       "      <td>3.5</td>\n",
       "      <td>1.4</td>\n",
       "      <td>0.2</td>\n",
       "      <td>0</td>\n",
       "    </tr>\n",
       "    <tr>\n",
       "      <th>1</th>\n",
       "      <td>4.9</td>\n",
       "      <td>3.0</td>\n",
       "      <td>1.4</td>\n",
       "      <td>0.2</td>\n",
       "      <td>0</td>\n",
       "    </tr>\n",
       "    <tr>\n",
       "      <th>2</th>\n",
       "      <td>4.7</td>\n",
       "      <td>3.2</td>\n",
       "      <td>1.3</td>\n",
       "      <td>0.2</td>\n",
       "      <td>0</td>\n",
       "    </tr>\n",
       "    <tr>\n",
       "      <th>3</th>\n",
       "      <td>4.6</td>\n",
       "      <td>3.1</td>\n",
       "      <td>1.5</td>\n",
       "      <td>0.2</td>\n",
       "      <td>0</td>\n",
       "    </tr>\n",
       "    <tr>\n",
       "      <th>4</th>\n",
       "      <td>5.0</td>\n",
       "      <td>3.6</td>\n",
       "      <td>1.4</td>\n",
       "      <td>0.2</td>\n",
       "      <td>0</td>\n",
       "    </tr>\n",
       "  </tbody>\n",
       "</table>\n",
       "</div>"
      ],
      "text/plain": [
       "   sepal length (cm)  sepal width (cm)  petal length (cm)  petal width (cm)  \\\n",
       "0                5.1               3.5                1.4               0.2   \n",
       "1                4.9               3.0                1.4               0.2   \n",
       "2                4.7               3.2                1.3               0.2   \n",
       "3                4.6               3.1                1.5               0.2   \n",
       "4                5.0               3.6                1.4               0.2   \n",
       "\n",
       "   target  \n",
       "0       0  \n",
       "1       0  \n",
       "2       0  \n",
       "3       0  \n",
       "4       0  "
      ]
     },
     "execution_count": 135,
     "metadata": {},
     "output_type": "execute_result"
    }
   ],
   "source": [
    "iris = datasets.load_iris()\n",
    "iris_df = pd.DataFrame(iris.data, columns = iris.feature_names)\n",
    "iris_df['target'] = iris.target\n",
    "iris_df.head()"
   ]
  },
  {
   "cell_type": "code",
   "execution_count": 143,
   "metadata": {},
   "outputs": [],
   "source": [
    "X, y = pre_processing(iris_df)"
   ]
  },
  {
   "cell_type": "code",
   "execution_count": 145,
   "metadata": {},
   "outputs": [],
   "source": [
    "def train_test_split(x, y, test_size = 0.25, random_state = None):\n",
    "\n",
    "\t\"\"\" partioning the data into train and test sets \"\"\"\n",
    "\n",
    "\tx_test = x.sample(frac = test_size, random_state = random_state)\n",
    "\ty_test = y[x_test.index]\n",
    "\n",
    "\tx_train = x.drop(x_test.index)\n",
    "\ty_train = y.drop(y_test.index)\n",
    "\n",
    "\treturn x_train, x_test, y_train, y_test"
   ]
  },
  {
   "cell_type": "code",
   "execution_count": 148,
   "metadata": {},
   "outputs": [],
   "source": [
    "X_train, X_test, y_train, y_test = train_test_split(X, y, test_size=0.2, random_state=42)"
   ]
  },
  {
   "cell_type": "code",
   "execution_count": 172,
   "metadata": {},
   "outputs": [
    {
     "name": "stdout",
     "output_type": "stream",
     "text": [
      "Train Accuracy: 100.0\n"
     ]
    }
   ],
   "source": [
    "BayesModel = NaiveBayesClassifier('Gaussian')\n",
    "BayesModel.fit(X_train, y_train)\n",
    "print(\"Train Accuracy: {}\".format(BayesModel.findAccuracyScore(y_test, BayesModel.predict(X_test))))"
   ]
  },
  {
   "cell_type": "code",
   "execution_count": 174,
   "metadata": {},
   "outputs": [
    {
     "name": "stdout",
     "output_type": "stream",
     "text": [
      "Query:- [[6.1 2.8 4.7 1.2]] ---> [1]\n",
      "Real Label: 1\n",
      "Query:- [[5.7 3.8 1.7 0.3]] ---> [0]\n",
      "Real Label: 0\n",
      "Query:- [[7.7 2.6 6.9 2.3]] ---> [2]\n",
      "Real Label: 2\n",
      "Query:- [[6.  2.9 4.5 1.5]] ---> [1]\n",
      "Real Label: 1\n",
      "Query:- [[6.8 2.8 4.8 1.4]] ---> [1]\n",
      "Real Label: 1\n",
      "Query:- [[5.4 3.4 1.5 0.4]] ---> [0]\n",
      "Real Label: 0\n",
      "Query:- [[5.6 2.9 3.6 1.3]] ---> [1]\n",
      "Real Label: 1\n",
      "Query:- [[6.9 3.1 5.1 2.3]] ---> [2]\n",
      "Real Label: 2\n",
      "Query:- [[6.2 2.2 4.5 1.5]] ---> [1]\n",
      "Real Label: 1\n",
      "Query:- [[5.8 2.7 3.9 1.2]] ---> [1]\n",
      "Real Label: 1\n"
     ]
    }
   ],
   "source": [
    "for i in range(10):\n",
    "    query = np.array([X_test.iloc[i]])\n",
    "    BayesModel.printPredict(query)\n",
    "    print(\"Real Label: {}\".format(y_test.iloc[i]))"
   ]
  }
 ],
 "metadata": {
  "kernelspec": {
   "display_name": "Python 3.7.9 64-bit",
   "language": "python",
   "name": "python3"
  },
  "language_info": {
   "codemirror_mode": {
    "name": "ipython",
    "version": 3
   },
   "file_extension": ".py",
   "mimetype": "text/x-python",
   "name": "python",
   "nbconvert_exporter": "python",
   "pygments_lexer": "ipython3",
   "version": "3.7.9"
  },
  "orig_nbformat": 4,
  "vscode": {
   "interpreter": {
    "hash": "ac37f38742bd1f5f255e5bdaa272d24c569bfe99750f1a10ea1984cb7d1b62f8"
   }
  }
 },
 "nbformat": 4,
 "nbformat_minor": 2
}

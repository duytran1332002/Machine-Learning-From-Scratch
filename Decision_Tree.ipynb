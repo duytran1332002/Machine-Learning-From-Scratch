{
 "cells": [
  {
   "cell_type": "code",
   "execution_count": 1,
   "metadata": {},
   "outputs": [],
   "source": [
    "import pandas as pd\n",
    "import numpy as np\n",
    "import sklearn.datasets as datasets\n",
    "from sklearn.model_selection import train_test_split\n",
    "from sklearn.metrics import accuracy_score\n",
    "from model import DecisionTree\n",
    "\n",
    "np.random.seed(0)"
   ]
  },
  {
   "cell_type": "markdown",
   "metadata": {},
   "source": [
    "# Iris data"
   ]
  },
  {
   "cell_type": "code",
   "execution_count": 2,
   "metadata": {},
   "outputs": [
    {
     "data": {
      "text/html": [
       "<div>\n",
       "<style scoped>\n",
       "    .dataframe tbody tr th:only-of-type {\n",
       "        vertical-align: middle;\n",
       "    }\n",
       "\n",
       "    .dataframe tbody tr th {\n",
       "        vertical-align: top;\n",
       "    }\n",
       "\n",
       "    .dataframe thead th {\n",
       "        text-align: right;\n",
       "    }\n",
       "</style>\n",
       "<table border=\"1\" class=\"dataframe\">\n",
       "  <thead>\n",
       "    <tr style=\"text-align: right;\">\n",
       "      <th></th>\n",
       "      <th>sepal length (cm)</th>\n",
       "      <th>sepal width (cm)</th>\n",
       "      <th>petal length (cm)</th>\n",
       "      <th>petal width (cm)</th>\n",
       "      <th>target</th>\n",
       "    </tr>\n",
       "  </thead>\n",
       "  <tbody>\n",
       "    <tr>\n",
       "      <th>0</th>\n",
       "      <td>5.1</td>\n",
       "      <td>3.5</td>\n",
       "      <td>1.4</td>\n",
       "      <td>0.2</td>\n",
       "      <td>0</td>\n",
       "    </tr>\n",
       "    <tr>\n",
       "      <th>1</th>\n",
       "      <td>4.9</td>\n",
       "      <td>3.0</td>\n",
       "      <td>1.4</td>\n",
       "      <td>0.2</td>\n",
       "      <td>0</td>\n",
       "    </tr>\n",
       "    <tr>\n",
       "      <th>2</th>\n",
       "      <td>4.7</td>\n",
       "      <td>3.2</td>\n",
       "      <td>1.3</td>\n",
       "      <td>0.2</td>\n",
       "      <td>0</td>\n",
       "    </tr>\n",
       "    <tr>\n",
       "      <th>3</th>\n",
       "      <td>4.6</td>\n",
       "      <td>3.1</td>\n",
       "      <td>1.5</td>\n",
       "      <td>0.2</td>\n",
       "      <td>0</td>\n",
       "    </tr>\n",
       "    <tr>\n",
       "      <th>4</th>\n",
       "      <td>5.0</td>\n",
       "      <td>3.6</td>\n",
       "      <td>1.4</td>\n",
       "      <td>0.2</td>\n",
       "      <td>0</td>\n",
       "    </tr>\n",
       "    <tr>\n",
       "      <th>...</th>\n",
       "      <td>...</td>\n",
       "      <td>...</td>\n",
       "      <td>...</td>\n",
       "      <td>...</td>\n",
       "      <td>...</td>\n",
       "    </tr>\n",
       "    <tr>\n",
       "      <th>145</th>\n",
       "      <td>6.7</td>\n",
       "      <td>3.0</td>\n",
       "      <td>5.2</td>\n",
       "      <td>2.3</td>\n",
       "      <td>2</td>\n",
       "    </tr>\n",
       "    <tr>\n",
       "      <th>146</th>\n",
       "      <td>6.3</td>\n",
       "      <td>2.5</td>\n",
       "      <td>5.0</td>\n",
       "      <td>1.9</td>\n",
       "      <td>2</td>\n",
       "    </tr>\n",
       "    <tr>\n",
       "      <th>147</th>\n",
       "      <td>6.5</td>\n",
       "      <td>3.0</td>\n",
       "      <td>5.2</td>\n",
       "      <td>2.0</td>\n",
       "      <td>2</td>\n",
       "    </tr>\n",
       "    <tr>\n",
       "      <th>148</th>\n",
       "      <td>6.2</td>\n",
       "      <td>3.4</td>\n",
       "      <td>5.4</td>\n",
       "      <td>2.3</td>\n",
       "      <td>2</td>\n",
       "    </tr>\n",
       "    <tr>\n",
       "      <th>149</th>\n",
       "      <td>5.9</td>\n",
       "      <td>3.0</td>\n",
       "      <td>5.1</td>\n",
       "      <td>1.8</td>\n",
       "      <td>2</td>\n",
       "    </tr>\n",
       "  </tbody>\n",
       "</table>\n",
       "<p>150 rows × 5 columns</p>\n",
       "</div>"
      ],
      "text/plain": [
       "     sepal length (cm)  sepal width (cm)  petal length (cm)  petal width (cm)  \\\n",
       "0                  5.1               3.5                1.4               0.2   \n",
       "1                  4.9               3.0                1.4               0.2   \n",
       "2                  4.7               3.2                1.3               0.2   \n",
       "3                  4.6               3.1                1.5               0.2   \n",
       "4                  5.0               3.6                1.4               0.2   \n",
       "..                 ...               ...                ...               ...   \n",
       "145                6.7               3.0                5.2               2.3   \n",
       "146                6.3               2.5                5.0               1.9   \n",
       "147                6.5               3.0                5.2               2.0   \n",
       "148                6.2               3.4                5.4               2.3   \n",
       "149                5.9               3.0                5.1               1.8   \n",
       "\n",
       "     target  \n",
       "0         0  \n",
       "1         0  \n",
       "2         0  \n",
       "3         0  \n",
       "4         0  \n",
       "..      ...  \n",
       "145       2  \n",
       "146       2  \n",
       "147       2  \n",
       "148       2  \n",
       "149       2  \n",
       "\n",
       "[150 rows x 5 columns]"
      ]
     },
     "execution_count": 2,
     "metadata": {},
     "output_type": "execute_result"
    }
   ],
   "source": [
    "\n",
    "iris = datasets.load_iris()\n",
    "iris_df = pd.DataFrame(iris.data, columns = [\"sepal length (cm)\", \"sepal width (cm)\", \"petal length (cm)\", \"petal width (cm)\"])\n",
    "iris_df['target'] = iris.target\n",
    "list_feature = [\"sepal length\", \"sepal width\", \"petal length\", \"petal width\"]\n",
    "iris_df"
   ]
  },
  {
   "cell_type": "code",
   "execution_count": 3,
   "metadata": {},
   "outputs": [
    {
     "name": "stdout",
     "output_type": "stream",
     "text": [
      "(120, 4)\n",
      "(30, 4)\n"
     ]
    }
   ],
   "source": [
    "X_train, X_test, y_train, y_test = train_test_split(iris.data, iris.target, test_size=0.2, random_state=42)\n",
    "print(X_train.shape)\n",
    "print(X_test.shape)"
   ]
  },
  {
   "cell_type": "markdown",
   "metadata": {},
   "source": [
    "## Impurity function - Entropy"
   ]
  },
  {
   "cell_type": "code",
   "execution_count": 4,
   "metadata": {},
   "outputs": [
    {
     "data": {
      "text/plain": [
       "tensor([1., 0., 2., 1., 1., 0., 1., 2., 1., 1., 2., 0., 0., 0., 0., 1., 2., 1.,\n",
       "        1., 2., 0., 2., 0., 2., 2., 2., 2., 2., 0., 0.], dtype=torch.float64)"
      ]
     },
     "execution_count": 4,
     "metadata": {},
     "output_type": "execute_result"
    }
   ],
   "source": [
    "DecisionTreeModel = DecisionTree(min_sample= 2, max_depth= 5, impurity_function= \"entropy\")\n",
    "DecisionTreeModel.fit(X_train, y_train)\n",
    "y_pred = DecisionTreeModel.predict(X_test)\n",
    "y_pred"
   ]
  },
  {
   "cell_type": "code",
   "execution_count": 5,
   "metadata": {},
   "outputs": [
    {
     "name": "stdout",
     "output_type": "stream",
     "text": [
      "                  ┌0.0\n",
      " petal length, 1.9┤\n",
      "                  |                                  ┌1.0\n",
      "                  |                 ┌petal width, 1.6┤\n",
      "                  |                 |                └2.0\n",
      "                  └petal length, 4.7┤\n",
      "                                    |                                  ┌1.0\n",
      "                                    |                ┌petal length, 4.9┤\n",
      "                                    |                |                 |                ┌2.0\n",
      "                                    |                |                 └petal width, 1.5┤\n",
      "                                    |                |                                  |                 ┌1.0\n",
      "                                    |                |                                  └sepal length, 6.7┤\n",
      "                                    |                |                                                    └2.0\n",
      "                                    └petal width, 1.7┤\n",
      "                                                     |                                   ┌1.0\n",
      "                                                     |                 ┌sepal length, 5.9┤\n",
      "                                                     |                 |                 └2.0\n",
      "                                                     └petal length, 4.8┤\n",
      "                                                                       └2.0\n"
     ]
    }
   ],
   "source": [
    "DecisionTreeModel.print_tree(DecisionTreeModel.root, list_feature=list_feature)"
   ]
  },
  {
   "cell_type": "code",
   "execution_count": 6,
   "metadata": {},
   "outputs": [
    {
     "data": {
      "text/plain": [
       "1.0"
      ]
     },
     "execution_count": 6,
     "metadata": {},
     "output_type": "execute_result"
    }
   ],
   "source": [
    "accuracy_score(y_test, y_pred)"
   ]
  },
  {
   "cell_type": "markdown",
   "metadata": {},
   "source": [
    "## Impurity function - Gini"
   ]
  },
  {
   "cell_type": "code",
   "execution_count": 7,
   "metadata": {},
   "outputs": [
    {
     "data": {
      "text/plain": [
       "tensor([1., 0., 2., 1., 1., 0., 1., 2., 1., 1., 2., 0., 0., 0., 0., 1., 2., 1.,\n",
       "        1., 2., 0., 2., 0., 2., 2., 2., 2., 2., 0., 0.], dtype=torch.float64)"
      ]
     },
     "execution_count": 7,
     "metadata": {},
     "output_type": "execute_result"
    }
   ],
   "source": [
    "DecisionTreeModel = DecisionTree(min_sample= 2, max_depth= 5, impurity_function= \"gini\")\n",
    "DecisionTreeModel.fit(X_train, y_train)\n",
    "y_pred = DecisionTreeModel.predict(X_test)\n",
    "y_pred"
   ]
  },
  {
   "cell_type": "code",
   "execution_count": 8,
   "metadata": {},
   "outputs": [
    {
     "name": "stdout",
     "output_type": "stream",
     "text": [
      "                  ┌0.0\n",
      " petal length, 1.9┤\n",
      "                  |                                  ┌1.0\n",
      "                  |                 ┌petal width, 1.6┤\n",
      "                  |                 |                └2.0\n",
      "                  └petal length, 4.7┤\n",
      "                                    |                                  ┌1.0\n",
      "                                    |                ┌petal length, 4.9┤\n",
      "                                    |                |                 |                ┌2.0\n",
      "                                    |                |                 └petal width, 1.5┤\n",
      "                                    |                |                                  |                 ┌1.0\n",
      "                                    |                |                                  └sepal length, 6.7┤\n",
      "                                    |                |                                                    └2.0\n",
      "                                    └petal width, 1.7┤\n",
      "                                                     |                                   ┌1.0\n",
      "                                                     |                 ┌sepal length, 5.9┤\n",
      "                                                     |                 |                 └2.0\n",
      "                                                     └petal length, 4.8┤\n",
      "                                                                       └2.0\n"
     ]
    }
   ],
   "source": [
    "DecisionTreeModel.print_tree(DecisionTreeModel.root, list_feature=list_feature)"
   ]
  },
  {
   "cell_type": "code",
   "execution_count": 9,
   "metadata": {},
   "outputs": [
    {
     "data": {
      "text/plain": [
       "1.0"
      ]
     },
     "execution_count": 9,
     "metadata": {},
     "output_type": "execute_result"
    }
   ],
   "source": [
    "accuracy_score(y_test, y_pred)"
   ]
  },
  {
   "cell_type": "markdown",
   "metadata": {},
   "source": [
    "# Titanic data"
   ]
  },
  {
   "cell_type": "code",
   "execution_count": 10,
   "metadata": {},
   "outputs": [
    {
     "data": {
      "text/html": [
       "<div>\n",
       "<style scoped>\n",
       "    .dataframe tbody tr th:only-of-type {\n",
       "        vertical-align: middle;\n",
       "    }\n",
       "\n",
       "    .dataframe tbody tr th {\n",
       "        vertical-align: top;\n",
       "    }\n",
       "\n",
       "    .dataframe thead th {\n",
       "        text-align: right;\n",
       "    }\n",
       "</style>\n",
       "<table border=\"1\" class=\"dataframe\">\n",
       "  <thead>\n",
       "    <tr style=\"text-align: right;\">\n",
       "      <th></th>\n",
       "      <th>Pclass</th>\n",
       "      <th>Sex</th>\n",
       "      <th>Age</th>\n",
       "      <th>SibSp</th>\n",
       "      <th>Parch</th>\n",
       "      <th>Fare</th>\n",
       "      <th>Embarked</th>\n",
       "      <th>Title</th>\n",
       "      <th>Survived</th>\n",
       "    </tr>\n",
       "    <tr>\n",
       "      <th>PassengerId</th>\n",
       "      <th></th>\n",
       "      <th></th>\n",
       "      <th></th>\n",
       "      <th></th>\n",
       "      <th></th>\n",
       "      <th></th>\n",
       "      <th></th>\n",
       "      <th></th>\n",
       "      <th></th>\n",
       "    </tr>\n",
       "  </thead>\n",
       "  <tbody>\n",
       "    <tr>\n",
       "      <th>1</th>\n",
       "      <td>3</td>\n",
       "      <td>0</td>\n",
       "      <td>22.0</td>\n",
       "      <td>1</td>\n",
       "      <td>0</td>\n",
       "      <td>7.2500</td>\n",
       "      <td>0</td>\n",
       "      <td>0</td>\n",
       "      <td>0</td>\n",
       "    </tr>\n",
       "    <tr>\n",
       "      <th>2</th>\n",
       "      <td>1</td>\n",
       "      <td>1</td>\n",
       "      <td>38.0</td>\n",
       "      <td>1</td>\n",
       "      <td>0</td>\n",
       "      <td>71.2833</td>\n",
       "      <td>1</td>\n",
       "      <td>1</td>\n",
       "      <td>1</td>\n",
       "    </tr>\n",
       "    <tr>\n",
       "      <th>3</th>\n",
       "      <td>3</td>\n",
       "      <td>1</td>\n",
       "      <td>26.0</td>\n",
       "      <td>0</td>\n",
       "      <td>0</td>\n",
       "      <td>7.9250</td>\n",
       "      <td>0</td>\n",
       "      <td>2</td>\n",
       "      <td>1</td>\n",
       "    </tr>\n",
       "    <tr>\n",
       "      <th>4</th>\n",
       "      <td>1</td>\n",
       "      <td>1</td>\n",
       "      <td>35.0</td>\n",
       "      <td>1</td>\n",
       "      <td>0</td>\n",
       "      <td>53.1000</td>\n",
       "      <td>0</td>\n",
       "      <td>1</td>\n",
       "      <td>1</td>\n",
       "    </tr>\n",
       "    <tr>\n",
       "      <th>5</th>\n",
       "      <td>3</td>\n",
       "      <td>0</td>\n",
       "      <td>35.0</td>\n",
       "      <td>0</td>\n",
       "      <td>0</td>\n",
       "      <td>8.0500</td>\n",
       "      <td>0</td>\n",
       "      <td>0</td>\n",
       "      <td>0</td>\n",
       "    </tr>\n",
       "    <tr>\n",
       "      <th>...</th>\n",
       "      <td>...</td>\n",
       "      <td>...</td>\n",
       "      <td>...</td>\n",
       "      <td>...</td>\n",
       "      <td>...</td>\n",
       "      <td>...</td>\n",
       "      <td>...</td>\n",
       "      <td>...</td>\n",
       "      <td>...</td>\n",
       "    </tr>\n",
       "    <tr>\n",
       "      <th>887</th>\n",
       "      <td>2</td>\n",
       "      <td>0</td>\n",
       "      <td>27.0</td>\n",
       "      <td>0</td>\n",
       "      <td>0</td>\n",
       "      <td>13.0000</td>\n",
       "      <td>0</td>\n",
       "      <td>5</td>\n",
       "      <td>0</td>\n",
       "    </tr>\n",
       "    <tr>\n",
       "      <th>888</th>\n",
       "      <td>1</td>\n",
       "      <td>1</td>\n",
       "      <td>19.0</td>\n",
       "      <td>0</td>\n",
       "      <td>0</td>\n",
       "      <td>30.0000</td>\n",
       "      <td>0</td>\n",
       "      <td>2</td>\n",
       "      <td>1</td>\n",
       "    </tr>\n",
       "    <tr>\n",
       "      <th>889</th>\n",
       "      <td>3</td>\n",
       "      <td>1</td>\n",
       "      <td>28.0</td>\n",
       "      <td>1</td>\n",
       "      <td>2</td>\n",
       "      <td>23.4500</td>\n",
       "      <td>0</td>\n",
       "      <td>2</td>\n",
       "      <td>0</td>\n",
       "    </tr>\n",
       "    <tr>\n",
       "      <th>890</th>\n",
       "      <td>1</td>\n",
       "      <td>0</td>\n",
       "      <td>26.0</td>\n",
       "      <td>0</td>\n",
       "      <td>0</td>\n",
       "      <td>30.0000</td>\n",
       "      <td>1</td>\n",
       "      <td>0</td>\n",
       "      <td>1</td>\n",
       "    </tr>\n",
       "    <tr>\n",
       "      <th>891</th>\n",
       "      <td>3</td>\n",
       "      <td>0</td>\n",
       "      <td>32.0</td>\n",
       "      <td>0</td>\n",
       "      <td>0</td>\n",
       "      <td>7.7500</td>\n",
       "      <td>2</td>\n",
       "      <td>0</td>\n",
       "      <td>0</td>\n",
       "    </tr>\n",
       "  </tbody>\n",
       "</table>\n",
       "<p>891 rows × 9 columns</p>\n",
       "</div>"
      ],
      "text/plain": [
       "             Pclass  Sex   Age  SibSp  Parch     Fare  Embarked  Title  \\\n",
       "PassengerId                                                              \n",
       "1                 3    0  22.0      1      0   7.2500         0      0   \n",
       "2                 1    1  38.0      1      0  71.2833         1      1   \n",
       "3                 3    1  26.0      0      0   7.9250         0      2   \n",
       "4                 1    1  35.0      1      0  53.1000         0      1   \n",
       "5                 3    0  35.0      0      0   8.0500         0      0   \n",
       "...             ...  ...   ...    ...    ...      ...       ...    ...   \n",
       "887               2    0  27.0      0      0  13.0000         0      5   \n",
       "888               1    1  19.0      0      0  30.0000         0      2   \n",
       "889               3    1  28.0      1      2  23.4500         0      2   \n",
       "890               1    0  26.0      0      0  30.0000         1      0   \n",
       "891               3    0  32.0      0      0   7.7500         2      0   \n",
       "\n",
       "             Survived  \n",
       "PassengerId            \n",
       "1                   0  \n",
       "2                   1  \n",
       "3                   1  \n",
       "4                   1  \n",
       "5                   0  \n",
       "...               ...  \n",
       "887                 0  \n",
       "888                 1  \n",
       "889                 0  \n",
       "890                 1  \n",
       "891                 0  \n",
       "\n",
       "[891 rows x 9 columns]"
      ]
     },
     "execution_count": 10,
     "metadata": {},
     "output_type": "execute_result"
    }
   ],
   "source": [
    "path_csv = \"data/titanic_modified_dataset.csv\"\n",
    "titanic_data_df = pd.read_csv(path_csv, index_col=\"PassengerId\")\n",
    "list_feature = [\"Pclass\", \"Sex\", \"Age\", \"SibSp\", \"Parch\", \"Fare\", \"Embarked\", \"Title\"]\n",
    "titanic_data_df"
   ]
  },
  {
   "cell_type": "code",
   "execution_count": 11,
   "metadata": {},
   "outputs": [],
   "source": [
    "# convert to numpy array\n",
    "titanic_data_arr = titanic_data_df.to_numpy().astype(np.float32)\n",
    "\n",
    "# shuffle data\n",
    "idx = np.arange(titanic_data_arr.shape[0])\n",
    "np.random.shuffle(idx)\n",
    "titanic_data_arr = titanic_data_arr[idx]"
   ]
  },
  {
   "cell_type": "code",
   "execution_count": 12,
   "metadata": {},
   "outputs": [
    {
     "name": "stdout",
     "output_type": "stream",
     "text": [
      "(891, 8)\n",
      "(891,)\n"
     ]
    }
   ],
   "source": [
    "# devide features to X, label to y \n",
    "X, y = titanic_data_arr[:, :-1], titanic_data_arr[:, -1]\n",
    "print(X.shape)\n",
    "print(y.shape)"
   ]
  },
  {
   "cell_type": "code",
   "execution_count": 13,
   "metadata": {},
   "outputs": [
    {
     "name": "stdout",
     "output_type": "stream",
     "text": [
      "(623, 8) (178, 8) (90, 8)\n",
      "(623,) (178,) (90,)\n"
     ]
    }
   ],
   "source": [
    "TRAIN_SIZE = 0.7\n",
    "VAL_SIZE = 0.2\n",
    "#TEST_SIZE = 0.1\n",
    "TRAIN_SAMPLES = int(TRAIN_SIZE * titanic_data_arr.shape[0])\n",
    "VAL_SAMPLES = TRAIN_SAMPLES + int(VAL_SIZE * titanic_data_arr.shape[0])\n",
    "\n",
    "X_train, y_train = X[:TRAIN_SAMPLES], y[:TRAIN_SAMPLES]\n",
    "x_val, y_val = X[TRAIN_SAMPLES:VAL_SAMPLES], y[TRAIN_SAMPLES:VAL_SAMPLES]\n",
    "X_test, y_test = X[VAL_SAMPLES:], y[VAL_SAMPLES:]\n",
    "\n",
    "print(X_train.shape, x_val.shape, X_test.shape)\n",
    "print(y_train.shape, y_val.shape, y_test.shape)"
   ]
  },
  {
   "cell_type": "markdown",
   "metadata": {},
   "source": [
    "## Impurity function - Entropy"
   ]
  },
  {
   "cell_type": "code",
   "execution_count": 14,
   "metadata": {},
   "outputs": [
    {
     "data": {
      "text/plain": [
       "tensor([1., 0., 0., 1., 1., 0., 0., 0., 1., 1., 1., 1., 1., 1., 0., 0., 1., 0.,\n",
       "        1., 0., 1., 0., 0., 1., 1., 0., 1., 0., 1., 1., 1., 0., 0., 0., 0., 1.,\n",
       "        1., 0., 1., 0., 1., 1., 0., 0., 1., 1., 0., 1., 0., 1., 1., 0., 1., 1.,\n",
       "        1., 0., 1., 1., 0., 1., 0., 0., 1., 0., 1., 0., 1., 0., 0., 1., 0., 0.,\n",
       "        1., 0., 0., 0., 1., 1., 0., 0., 1., 0., 0., 1., 1., 1., 1., 0., 1., 0.])"
      ]
     },
     "execution_count": 14,
     "metadata": {},
     "output_type": "execute_result"
    }
   ],
   "source": [
    "DecisionTreeModel = DecisionTree(min_sample= 5, max_depth= 7, impurity_function= \"entropy\")\n",
    "DecisionTreeModel.fit(X_train, y_train)\n",
    "y_pred = DecisionTreeModel.predict(X_test)\n",
    "y_pred"
   ]
  },
  {
   "cell_type": "code",
   "execution_count": 15,
   "metadata": {},
   "outputs": [
    {
     "name": "stdout",
     "output_type": "stream",
     "text": [
      "                                                                                            ┌0.0\n",
      "                                                                                 ┌Fare, 7.12┤\n",
      "                                                                                 |          └0.0\n",
      "                                                                      ┌Fare, 13.0┤\n",
      "                                                                      |          └0.0\n",
      "                                                          ┌Fare, 15.55┤\n",
      "                                                          |           └1.0\n",
      "                                              ┌Fare, 15.74┤\n",
      "                                              |           └0.0\n",
      "                                  ┌Fare, 21.68┤\n",
      "                                  |           └1.0\n",
      "                      ┌Fare, 23.25┤\n",
      "                      |           └0.0\n",
      "           ┌Fare, 26.0┤\n",
      "           |          |         ┌0.0\n",
      "           |          └Age, 21.0┤\n",
      "           |                    |                   ┌1.0\n",
      "           |                    |         ┌Age, 24.0┤\n",
      "           |                    |         |         └1.0\n",
      "           |                    └Age, 27.0┤\n",
      "           |                              |                     ┌1.0\n",
      "           |                              |           ┌Age, 51.0┤\n",
      "           |                              |           |         └0.0\n",
      "           |                              └Fare, 26.55┤\n",
      "           |                                          |                                 ┌1.0\n",
      "           |                                          |                       ┌Age, 71.0┤\n",
      "           |                                          |                       |         └1.0\n",
      "           |                                          |           ┌Fare, 83.47┤\n",
      "           |                                          |           |           |         ┌0.0\n",
      "           |                                          |           |           └Age, 28.0┤\n",
      "           |                                          |           |                     └1.0\n",
      "           |                                          └Pclass, 2.0┤\n",
      "           |                                                      |         ┌1.0\n",
      "           |                                                      └Age, 32.0┤\n",
      "           |                                                                └0.0\n",
      " Title, 0.0┤\n",
      "           |                             ┌1.0\n",
      "           |                    ┌Age, 8.0┤\n",
      "           |                    |        |           ┌0.0\n",
      "           |                    |        └Fare, 27.72┤\n",
      "           |                    |                    |         ┌0.0\n",
      "           |                    |                    └Age, 28.0┤\n",
      "           |                    |                              └1.0\n",
      "           |           ┌Sex, 0.0┤\n",
      "           |           |        |         ┌1.0\n",
      "           |           |        └Age, 24.0┤\n",
      "           |           |                  |         ┌1.0\n",
      "           |           |                  └Age, 26.0┤\n",
      "           |           |                            |                    ┌1.0\n",
      "           |           |                            |          ┌Age, 36.0┤\n",
      "           |           |                            |          |         |         ┌0.0\n",
      "           |           |                            |          |         └Age, 38.0┤\n",
      "           |           |                            |          |                   └1.0\n",
      "           |           |                            └Fare, 13.0┤\n",
      "           |           |                                       └1.0\n",
      "           └Pclass, 2.0┤\n",
      "                       |                                          ┌1.0\n",
      "                       |                                 ┌Sex, 0.0┤\n",
      "                       |                                 |        |                     ┌0.0\n",
      "                       |                                 |        |         ┌Fare, 10.46┤\n",
      "                       |                                 |        |         |           └1.0\n",
      "                       |                                 |        └Age, 14.0┤\n",
      "                       |                                 |                  └1.0\n",
      "                       |                     ┌Fare, 20.58┤\n",
      "                       |                     |           └0.0\n",
      "                       |           ┌Age, 17.0┤\n",
      "                       |           |         |                                           ┌1.0\n",
      "                       |           |         |                                 ┌Age, 28.0┤\n",
      "                       |           |         |                                 |         └0.0\n",
      "                       |           |         |                      ┌Fare, 7.78┤\n",
      "                       |           |         |                      |          └1.0\n",
      "                       |           |         |           ┌Fare, 7.88┤\n",
      "                       |           |         |           |          |                     ┌1.0\n",
      "                       |           |         |           |          |           ┌Age, 18.0┤\n",
      "                       |           |         |           |          |           |         └0.0\n",
      "                       |           |         |           |          └Fare, 10.52┤\n",
      "                       |           |         |           |                      |         ┌0.0\n",
      "                       |           |         |           |                      └Age, 18.0┤\n",
      "                       |           |         |           |                                └1.0\n",
      "                       |           |         └Fare, 21.08┤\n",
      "                       |           |                     └1.0\n",
      "                       └Fare, 23.25┤\n",
      "                                   |          ┌1.0\n",
      "                                   └Parch, 0.0┤\n",
      "                                              |                 ┌0.0\n",
      "                                              |        ┌Age, 2.0┤\n",
      "                                              |        |        └1.0\n",
      "                                              └Age, 5.0┤\n",
      "                                                       └0.0\n"
     ]
    }
   ],
   "source": [
    "DecisionTreeModel.print_tree(DecisionTreeModel.root, list_feature=list_feature)"
   ]
  },
  {
   "cell_type": "code",
   "execution_count": 16,
   "metadata": {},
   "outputs": [
    {
     "data": {
      "text/plain": [
       "0.6444444444444445"
      ]
     },
     "execution_count": 16,
     "metadata": {},
     "output_type": "execute_result"
    }
   ],
   "source": [
    "accuracy_score(y_test, y_pred)"
   ]
  },
  {
   "cell_type": "markdown",
   "metadata": {},
   "source": [
    "## Impurity function - Gini"
   ]
  },
  {
   "cell_type": "code",
   "execution_count": 17,
   "metadata": {},
   "outputs": [
    {
     "data": {
      "text/plain": [
       "tensor([1., 0., 0., 1., 1., 0., 0., 0., 1., 0., 1., 1., 0., 1., 0., 0., 1., 0.,\n",
       "        1., 0., 1., 0., 0., 1., 0., 0., 1., 0., 1., 1., 1., 0., 0., 0., 0., 1.,\n",
       "        1., 0., 1., 0., 1., 1., 0., 0., 1., 1., 0., 1., 0., 1., 1., 0., 0., 0.,\n",
       "        1., 0., 1., 1., 0., 1., 0., 0., 1., 0., 1., 0., 1., 0., 0., 1., 0., 0.,\n",
       "        0., 0., 0., 0., 1., 1., 0., 0., 1., 0., 0., 1., 1., 1., 1., 0., 1., 0.])"
      ]
     },
     "execution_count": 17,
     "metadata": {},
     "output_type": "execute_result"
    }
   ],
   "source": [
    "DecisionTreeModel = DecisionTree(min_sample= 5, max_depth= 7, impurity_function= \"gini\")\n",
    "DecisionTreeModel.fit(X_train, y_train)\n",
    "y_pred = DecisionTreeModel.predict(X_test)\n",
    "y_pred"
   ]
  },
  {
   "cell_type": "code",
   "execution_count": 18,
   "metadata": {},
   "outputs": [
    {
     "name": "stdout",
     "output_type": "stream",
     "text": [
      "                             ┌1.0\n",
      "                  ┌SibSp, 1.0┤\n",
      "                  |          |          ┌0.0\n",
      "                  |          └Parch, 1.0┤\n",
      "                  |                     └1.0\n",
      "         ┌Age, 9.0┤\n",
      "         |        |                    ┌0.0\n",
      "         |        |          ┌Age, 12.0┤\n",
      "         |        |          |         |                                 ┌0.0\n",
      "         |        |          |         |                     ┌Fare, 12.52┤\n",
      "         |        |          |         |                     |           |          ┌0.0\n",
      "         |        |          |         |                     |           └Fare, 13.0┤\n",
      "         |        |          |         |                     |                      └0.0\n",
      "         |        |          |         |           ┌Age, 57.0┤\n",
      "         |        |          |         |           |         └0.0\n",
      "         |        |          |         └Pclass, 2.0┤\n",
      "         |        |          |                     |                              ┌0.0\n",
      "         |        |          |                     |                    ┌Age, 26.0┤\n",
      "         |        |          |                     |                    |         └0.0\n",
      "         |        |          |                     |          ┌Age, 27.0┤\n",
      "         |        |          |                     |          |         |          ┌0.0\n",
      "         |        |          |                     |          |         └Fare, 7.74┤\n",
      "         |        |          |                     |          |                    └0.0\n",
      "         |        |          |                     └Title, 0.0┤\n",
      "         |        |          |                                └1.0\n",
      "         |        └Fare, 26.0┤\n",
      "         |                   |         ┌0.0\n",
      "         |                   └Age, 21.0┤\n",
      "         |                             |                   ┌1.0\n",
      "         |                             |         ┌Age, 24.0┤\n",
      "         |                             |         |         └1.0\n",
      "         |                             └Age, 27.0┤\n",
      "         |                                       |                                ┌1.0\n",
      "         |                                       |                     ┌Title, 0.0┤\n",
      "         |                                       |                     |          └0.0\n",
      "         |                                       |           ┌Age, 51.0┤\n",
      "         |                                       |           |         └0.0\n",
      "         |                                       └Fare, 26.55┤\n",
      "         |                                                   |                      ┌1.0\n",
      "         |                                                   |          ┌Pclass, 2.0┤\n",
      "         |                                                   |          |           └1.0\n",
      "         |                                                   └Title, 6.0┤\n",
      "         |                                                              └1.0\n",
      " Sex, 0.0┤\n",
      "         |                                                     ┌1.0\n",
      "         |                                           ┌Age, 36.0┤\n",
      "         |                                           |         └1.0\n",
      "         |                                ┌Fare, 13.0┤\n",
      "         |                                |          └1.0\n",
      "         |                     ┌Parch, 0.0┤\n",
      "         |                     |          |         ┌1.0\n",
      "         |                     |          └Age, 24.0┤\n",
      "         |                     |                    |         ┌1.0\n",
      "         |                     |                    └Age, 26.0┤\n",
      "         |                     |                              └1.0\n",
      "         |           ┌Age, 55.0┤\n",
      "         |           |         └1.0\n",
      "         └Pclass, 2.0┤\n",
      "                     |                                                       ┌0.0\n",
      "                     |                                           ┌Fare, 10.46┤\n",
      "                     |                                           |           |        ┌1.0\n",
      "                     |                                           |           └Age, 4.0┤\n",
      "                     |                                           |                    └1.0\n",
      "                     |                                 ┌Age, 14.0┤\n",
      "                     |                                 |         └1.0\n",
      "                     |                     ┌Fare, 19.26┤\n",
      "                     |                     |           └0.0\n",
      "                     |           ┌Age, 17.0┤\n",
      "                     |           |         |                                           ┌1.0\n",
      "                     |           |         |                                ┌Fare, 7.78┤\n",
      "                     |           |         |                                |          └1.0\n",
      "                     |           |         |                      ┌Age, 28.0┤\n",
      "                     |           |         |                      |         └0.0\n",
      "                     |           |         |           ┌Fare, 7.88┤\n",
      "                     |           |         |           |          |                     ┌1.0\n",
      "                     |           |         |           |          |           ┌Age, 18.0┤\n",
      "                     |           |         |           |          |           |         └0.0\n",
      "                     |           |         |           |          └Fare, 10.52┤\n",
      "                     |           |         |           |                      |           ┌1.0\n",
      "                     |           |         |           |                      └Fare, 12.48┤\n",
      "                     |           |         |           |                                  └1.0\n",
      "                     |           |         └Fare, 21.08┤\n",
      "                     |           |                     └1.0\n",
      "                     └Fare, 23.25┤\n",
      "                                 |          ┌1.0\n",
      "                                 └Parch, 0.0┤\n",
      "                                            |        ┌0.0\n",
      "                                            └Age, 5.0┤\n",
      "                                                     └0.0\n"
     ]
    }
   ],
   "source": [
    "DecisionTreeModel.print_tree(DecisionTreeModel.root, list_feature=list_feature)"
   ]
  },
  {
   "cell_type": "code",
   "execution_count": 19,
   "metadata": {},
   "outputs": [
    {
     "data": {
      "text/plain": [
       "0.6666666666666666"
      ]
     },
     "execution_count": 19,
     "metadata": {},
     "output_type": "execute_result"
    }
   ],
   "source": [
    "accuracy_score(y_test, y_pred)"
   ]
  }
 ],
 "metadata": {
  "kernelspec": {
   "display_name": "Python 3.7.9 64-bit",
   "language": "python",
   "name": "python3"
  },
  "language_info": {
   "codemirror_mode": {
    "name": "ipython",
    "version": 3
   },
   "file_extension": ".py",
   "mimetype": "text/x-python",
   "name": "python",
   "nbconvert_exporter": "python",
   "pygments_lexer": "ipython3",
   "version": "3.7.9"
  },
  "orig_nbformat": 4,
  "vscode": {
   "interpreter": {
    "hash": "ac37f38742bd1f5f255e5bdaa272d24c569bfe99750f1a10ea1984cb7d1b62f8"
   }
  }
 },
 "nbformat": 4,
 "nbformat_minor": 2
}
